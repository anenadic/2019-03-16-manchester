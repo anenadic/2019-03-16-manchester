{
 "cells": [
  {
   "cell_type": "markdown",
   "metadata": {},
   "source": [
    "## What is the most commonly prescribed antibiotic?"
   ]
  },
  {
   "cell_type": "code",
   "execution_count": 2,
   "metadata": {},
   "outputs": [],
   "source": [
    "import pandas"
   ]
  },
  {
   "cell_type": "code",
   "execution_count": 3,
   "metadata": {},
   "outputs": [],
   "source": [
    "data = pandas.read_csv('antibiotic.csv')"
   ]
  },
  {
   "cell_type": "code",
   "execution_count": 4,
   "metadata": {},
   "outputs": [
    {
     "data": {
      "text/html": [
       "<div>\n",
       "<style scoped>\n",
       "    .dataframe tbody tr th:only-of-type {\n",
       "        vertical-align: middle;\n",
       "    }\n",
       "\n",
       "    .dataframe tbody tr th {\n",
       "        vertical-align: top;\n",
       "    }\n",
       "\n",
       "    .dataframe thead th {\n",
       "        text-align: right;\n",
       "    }\n",
       "</style>\n",
       "<table border=\"1\" class=\"dataframe\">\n",
       "  <thead>\n",
       "    <tr style=\"text-align: right;\">\n",
       "      <th></th>\n",
       "      <th>SHA</th>\n",
       "      <th>PCT</th>\n",
       "      <th>PRACTICE</th>\n",
       "      <th>BNF CODE</th>\n",
       "      <th>BNF NAME</th>\n",
       "      <th>ITEMS</th>\n",
       "      <th>NIC</th>\n",
       "      <th>ACT COST</th>\n",
       "      <th>QUANTITY</th>\n",
       "      <th>PERIOD</th>\n",
       "      <th></th>\n",
       "    </tr>\n",
       "  </thead>\n",
       "  <tbody>\n",
       "    <tr>\n",
       "      <th>0</th>\n",
       "      <td>Q44</td>\n",
       "      <td>RXA</td>\n",
       "      <td>Y00327</td>\n",
       "      <td>0501011P0AAADAD</td>\n",
       "      <td>Phenoxymethylpenicillin_Soln 125mg/5ml</td>\n",
       "      <td>12</td>\n",
       "      <td>120.78</td>\n",
       "      <td>112.10</td>\n",
       "      <td>2200</td>\n",
       "      <td>201811</td>\n",
       "      <td></td>\n",
       "    </tr>\n",
       "    <tr>\n",
       "      <th>1</th>\n",
       "      <td>Q44</td>\n",
       "      <td>RXA</td>\n",
       "      <td>Y00327</td>\n",
       "      <td>0501011P0AAAFAF</td>\n",
       "      <td>Phenoxymethylpenicillin_Soln 250mg/5ml</td>\n",
       "      <td>5</td>\n",
       "      <td>51.20</td>\n",
       "      <td>47.52</td>\n",
       "      <td>800</td>\n",
       "      <td>201811</td>\n",
       "      <td></td>\n",
       "    </tr>\n",
       "    <tr>\n",
       "      <th>2</th>\n",
       "      <td>Q44</td>\n",
       "      <td>RXA</td>\n",
       "      <td>Y00327</td>\n",
       "      <td>0501011P0AAAJAJ</td>\n",
       "      <td>Phenoxymethylpenicillin Pot_Tab 250mg</td>\n",
       "      <td>18</td>\n",
       "      <td>39.36</td>\n",
       "      <td>38.21</td>\n",
       "      <td>1312</td>\n",
       "      <td>201811</td>\n",
       "      <td></td>\n",
       "    </tr>\n",
       "    <tr>\n",
       "      <th>3</th>\n",
       "      <td>Q44</td>\n",
       "      <td>RXA</td>\n",
       "      <td>Y00327</td>\n",
       "      <td>0501011P0AAARAR</td>\n",
       "      <td>Phenoxymethylpenicillin_Soln 125mg/5mlSF</td>\n",
       "      <td>2</td>\n",
       "      <td>36.20</td>\n",
       "      <td>33.58</td>\n",
       "      <td>400</td>\n",
       "      <td>201811</td>\n",
       "      <td></td>\n",
       "    </tr>\n",
       "    <tr>\n",
       "      <th>4</th>\n",
       "      <td>Q44</td>\n",
       "      <td>RXA</td>\n",
       "      <td>Y00327</td>\n",
       "      <td>0501011P0AAASAS</td>\n",
       "      <td>Phenoxymethylpenicillin_Soln 250mg/5mlSF</td>\n",
       "      <td>1</td>\n",
       "      <td>7.53</td>\n",
       "      <td>6.99</td>\n",
       "      <td>100</td>\n",
       "      <td>201811</td>\n",
       "      <td></td>\n",
       "    </tr>\n",
       "  </tbody>\n",
       "</table>\n",
       "</div>"
      ],
      "text/plain": [
       "   SHA  PCT PRACTICE         BNF CODE  \\\n",
       "0  Q44  RXA   Y00327  0501011P0AAADAD   \n",
       "1  Q44  RXA   Y00327  0501011P0AAAFAF   \n",
       "2  Q44  RXA   Y00327  0501011P0AAAJAJ   \n",
       "3  Q44  RXA   Y00327  0501011P0AAARAR   \n",
       "4  Q44  RXA   Y00327  0501011P0AAASAS   \n",
       "\n",
       "  BNF NAME                                      ITEMS    NIC          \\\n",
       "0     Phenoxymethylpenicillin_Soln 125mg/5ml         12       120.78   \n",
       "1     Phenoxymethylpenicillin_Soln 250mg/5ml          5        51.20   \n",
       "2     Phenoxymethylpenicillin Pot_Tab 250mg          18        39.36   \n",
       "3     Phenoxymethylpenicillin_Soln 125mg/5mlSF        2        36.20   \n",
       "4     Phenoxymethylpenicillin_Soln 250mg/5mlSF        1         7.53   \n",
       "\n",
       "   ACT COST     QUANTITY  PERIOD                      \n",
       "0       112.10      2200  201811                      \n",
       "1        47.52       800  201811                      \n",
       "2        38.21      1312  201811                      \n",
       "3        33.58       400  201811                      \n",
       "4         6.99       100  201811                      "
      ]
     },
     "execution_count": 4,
     "metadata": {},
     "output_type": "execute_result"
    }
   ],
   "source": [
    "data.head()"
   ]
  },
  {
   "cell_type": "code",
   "execution_count": 7,
   "metadata": {},
   "outputs": [],
   "source": [
    "unique_bnf_codes = data['BNF CODE'].unique()"
   ]
  },
  {
   "cell_type": "code",
   "execution_count": 13,
   "metadata": {},
   "outputs": [
    {
     "name": "stdout",
     "output_type": "stream",
     "text": [
      "Most common BNF code: 0501012G0AAABAB\n",
      "Frequency of most common drug: 7833\n"
     ]
    }
   ],
   "source": [
    "most_common_count = 0\n",
    "for code in unique_bnf_codes:\n",
    "    counts = len(data.loc[data['BNF CODE'] == code, 'BNF CODE'])\n",
    "    \n",
    "    if counts > most_common_count:\n",
    "        most_common_count = counts\n",
    "        most_common_code = code\n",
    "print('Most common BNF code:', most_common_code)\n",
    "print('Frequency of most common drug:', most_common_count)"
   ]
  }
 ],
 "metadata": {
  "kernelspec": {
   "display_name": "Python 3",
   "language": "python",
   "name": "python3"
  },
  "language_info": {
   "codemirror_mode": {
    "name": "ipython",
    "version": 3
   },
   "file_extension": ".py",
   "mimetype": "text/x-python",
   "name": "python",
   "nbconvert_exporter": "python",
   "pygments_lexer": "ipython3",
   "version": "3.6.4"
  }
 },
 "nbformat": 4,
 "nbformat_minor": 2
}
