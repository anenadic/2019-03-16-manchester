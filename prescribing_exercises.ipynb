{
 "cells": [
  {
   "cell_type": "markdown",
   "metadata": {},
   "source": [
    "# Data Carpentry Inspired Workshop\n",
    "\n",
    "This workshop is inspired by Data Carpentry python lesson: https://datacarpentry.org/python-ecology-lesson/.\n",
    "Please use this lesson as reference for the exercises in this document."
   ]
  },
  {
   "cell_type": "markdown",
   "metadata": {},
   "source": [
    "## Motivation\n",
    "\n",
    "Screaning two short videos from the \"New Amsterdam\" TV show.\n",
    "\n",
    "### Video 1\n",
    "\n",
    "06:50 This is when Dr. Max Goodwin fires the cardiologists.\n",
    "\"How can we help?\"\n",
    "\n",
    "\n",
    "### Video 2\n",
    "\n",
    "12:55 This is when Dr. Floyd Reynolds is hired.\n",
    "\"Because there are other ways of helping people other than cutting them open.\"\n",
    "\n",
    "### Plot\n",
    "\n",
    "Show the plot that we are looking at the end of the day."
   ]
  },
  {
   "cell_type": "markdown",
   "metadata": {},
   "source": [
    "## Aims\n",
    "\n",
    "We would like to answer the following questions at the end of the day:\n",
    "\n",
    "1. What is the most prescribed drug during November 2018?\n",
    "2. How the distribution of number of prescriptions vs the number of practitioners in November 2019 looks like?"
   ]
  },
  {
   "cell_type": "markdown",
   "metadata": {},
   "source": [
    "## Excel\n",
    "\n",
    "If you received `data/report-drugs.csv` and `report-prescriptions.csv`, could you answer the questions that we aim?\n",
    "\n",
    "And if you received `data/antibiotics.csv`?"
   ]
  },
  {
   "cell_type": "markdown",
   "metadata": {},
   "source": [
    "## What is Python?\n",
    "\n",
    "Python is a general-purpose programming language that supports rapid development of data analytics applications. The word “Python” is used to refer to both the programming language and the tool that executes the scripts written in Python language."
   ]
  },
  {
   "cell_type": "markdown",
   "metadata": {},
   "source": [
    "## Jupyter Notebook\n",
    "\n",
    "You can type Python code into a code cell and then execute the code by pressing `Shift`+`Return`. Output will be printed directly under the input cell. You can recognise a code cell by the `In[ ]:` at the beginning of the cell and output by `Out[ ]:`. Pressing the `+` button in the menu bar will add a new cell. All your commands as well as any output will be saved with the notebook."
   ]
  },
  {
   "cell_type": "markdown",
   "metadata": {},
   "source": [
    "## Introduction to Python"
   ]
  },
  {
   "cell_type": "markdown",
   "metadata": {},
   "source": [
    "**Exercise**\n",
    "\n",
    "Execute any arithmetic operation using Python."
   ]
  },
  {
   "cell_type": "code",
   "execution_count": 1,
   "metadata": {
    "collapsed": false
   },
   "outputs": [
    {
     "data": {
      "text/plain": [
       "4"
      ]
     },
     "execution_count": 1,
     "metadata": {},
     "output_type": "execute_result"
    }
   ],
   "source": [
    "2 + 2"
   ]
  },
  {
   "cell_type": "markdown",
   "metadata": {},
   "source": [
    "**Exercise**\n",
    "\n",
    "Create one variable that stores a integer."
   ]
  },
  {
   "cell_type": "code",
   "execution_count": 2,
   "metadata": {
    "collapsed": true
   },
   "outputs": [],
   "source": [
    "number_of_chromosomes = 23"
   ]
  },
  {
   "cell_type": "markdown",
   "metadata": {},
   "source": [
    "**Exercise**\n",
    "\n",
    "Create one variable that stores some text."
   ]
  },
  {
   "cell_type": "code",
   "execution_count": 3,
   "metadata": {
    "collapsed": true
   },
   "outputs": [],
   "source": [
    "university_name = \"University of Manchester\""
   ]
  },
  {
   "cell_type": "markdown",
   "metadata": {},
   "source": [
    "You can use the function `print` to show the value of variables."
   ]
  },
  {
   "cell_type": "code",
   "execution_count": 4,
   "metadata": {
    "collapsed": false
   },
   "outputs": [
    {
     "name": "stdout",
     "output_type": "stream",
     "text": [
      "23\n"
     ]
    }
   ],
   "source": [
    "print(number_of_chromosomes)"
   ]
  },
  {
   "cell_type": "code",
   "execution_count": 5,
   "metadata": {
    "collapsed": false
   },
   "outputs": [
    {
     "name": "stdout",
     "output_type": "stream",
     "text": [
      "University of Manchester\n"
     ]
    }
   ],
   "source": [
    "print(university_name)"
   ]
  },
  {
   "cell_type": "markdown",
   "metadata": {},
   "source": [
    "**Exercise**\n",
    "\n",
    "How many characters are there in \"University of Manchester\"?"
   ]
  },
  {
   "cell_type": "code",
   "execution_count": 6,
   "metadata": {
    "collapsed": false
   },
   "outputs": [
    {
     "data": {
      "text/plain": [
       "24"
      ]
     },
     "execution_count": 6,
     "metadata": {},
     "output_type": "execute_result"
    }
   ],
   "source": [
    "len(university_name)"
   ]
  },
  {
   "cell_type": "markdown",
   "metadata": {},
   "source": [
    "## Python built-in data types\n",
    "\n",
    "**Exercise**\n",
    "\n",
    "Create a list containing the individual words in the string \"University of Manchester\"."
   ]
  },
  {
   "cell_type": "code",
   "execution_count": 7,
   "metadata": {
    "collapsed": false
   },
   "outputs": [
    {
     "data": {
      "text/plain": [
       "['University', 'of', 'Manchester']"
      ]
     },
     "execution_count": 7,
     "metadata": {},
     "output_type": "execute_result"
    }
   ],
   "source": [
    "university_name.split()"
   ]
  },
  {
   "cell_type": "markdown",
   "metadata": {},
   "source": [
    "Lists are a common data structure to hold an ordered sequence of elements. Each element can be accessed by an index. Note that Python indexes start with 0 instead of 1."
   ]
  },
  {
   "cell_type": "code",
   "execution_count": 8,
   "metadata": {
    "collapsed": false
   },
   "outputs": [
    {
     "data": {
      "text/plain": [
       "'University'"
      ]
     },
     "execution_count": 8,
     "metadata": {},
     "output_type": "execute_result"
    }
   ],
   "source": [
    "university_name_parts = university_name.split()\n",
    "university_name_parts[0]"
   ]
  },
  {
   "cell_type": "markdown",
   "metadata": {},
   "source": [
    "A for loop can be used to access the elements in a list or other Python data structure one at a time:"
   ]
  },
  {
   "cell_type": "code",
   "execution_count": 9,
   "metadata": {
    "collapsed": false
   },
   "outputs": [
    {
     "name": "stdout",
     "output_type": "stream",
     "text": [
      "10\n",
      "2\n",
      "10\n"
     ]
    }
   ],
   "source": [
    "for part in university_name_parts:\n",
    "    print(len(part))"
   ]
  },
  {
   "cell_type": "markdown",
   "metadata": {},
   "source": [
    "## Libraries\n",
    "\n",
    "One of the best options for working with tabular data in Python is to use the Python Data Analysis Library (a.k.a. Pandas). The Pandas library provides data structures, produces high quality plots with matplotlib and integrates nicely with other libraries that use NumPy (which is another Python library) arrays.\n",
    "\n",
    "Python doesn’t load all of the libraries available to it by default. We have to add an import statement to our code in order to use library functions. To import a library, we use the syntax `import libraryName`. If we want to give the library a nickname to shorten the command, we can add `as nickName`. An example of importing the pandas library using the common nickname `pd` is below."
   ]
  },
  {
   "cell_type": "code",
   "execution_count": 10,
   "metadata": {
    "collapsed": true
   },
   "outputs": [],
   "source": [
    "import pandas as pd"
   ]
  },
  {
   "cell_type": "code",
   "execution_count": 11,
   "metadata": {
    "collapsed": false
   },
   "outputs": [
    {
     "data": {
      "text/html": [
       "<div>\n",
       "<style>\n",
       "    .dataframe thead tr:only-child th {\n",
       "        text-align: right;\n",
       "    }\n",
       "\n",
       "    .dataframe thead th {\n",
       "        text-align: left;\n",
       "    }\n",
       "\n",
       "    .dataframe tbody tr th {\n",
       "        vertical-align: top;\n",
       "    }\n",
       "</style>\n",
       "<table border=\"1\" class=\"dataframe\">\n",
       "  <thead>\n",
       "    <tr style=\"text-align: right;\">\n",
       "      <th></th>\n",
       "      <th>SHA</th>\n",
       "      <th>PCT</th>\n",
       "      <th>PRACTICE</th>\n",
       "      <th>BNF CODE</th>\n",
       "      <th>BNF NAME</th>\n",
       "      <th>ITEMS</th>\n",
       "      <th>NIC</th>\n",
       "      <th>ACT COST</th>\n",
       "      <th>QUANTITY</th>\n",
       "      <th>PERIOD</th>\n",
       "      <th></th>\n",
       "    </tr>\n",
       "  </thead>\n",
       "  <tbody>\n",
       "    <tr>\n",
       "      <th>0</th>\n",
       "      <td>Q44</td>\n",
       "      <td>RXA</td>\n",
       "      <td>Y00327</td>\n",
       "      <td>0501011P0AAADAD</td>\n",
       "      <td>Phenoxymethylpenicillin_Soln 125mg/5ml</td>\n",
       "      <td>12</td>\n",
       "      <td>120.78</td>\n",
       "      <td>112.10</td>\n",
       "      <td>2200</td>\n",
       "      <td>201811</td>\n",
       "      <td></td>\n",
       "    </tr>\n",
       "    <tr>\n",
       "      <th>1</th>\n",
       "      <td>Q44</td>\n",
       "      <td>RXA</td>\n",
       "      <td>Y00327</td>\n",
       "      <td>0501011P0AAAFAF</td>\n",
       "      <td>Phenoxymethylpenicillin_Soln 250mg/5ml</td>\n",
       "      <td>5</td>\n",
       "      <td>51.20</td>\n",
       "      <td>47.52</td>\n",
       "      <td>800</td>\n",
       "      <td>201811</td>\n",
       "      <td></td>\n",
       "    </tr>\n",
       "    <tr>\n",
       "      <th>2</th>\n",
       "      <td>Q44</td>\n",
       "      <td>RXA</td>\n",
       "      <td>Y00327</td>\n",
       "      <td>0501012G0AAAAAA</td>\n",
       "      <td>Fluclox Sod_Cap 250mg</td>\n",
       "      <td>4</td>\n",
       "      <td>3.42</td>\n",
       "      <td>3.42</td>\n",
       "      <td>96</td>\n",
       "      <td>201811</td>\n",
       "      <td></td>\n",
       "    </tr>\n",
       "    <tr>\n",
       "      <th>3</th>\n",
       "      <td>Q44</td>\n",
       "      <td>RXA</td>\n",
       "      <td>Y00327</td>\n",
       "      <td>0501013B0AAAAAA</td>\n",
       "      <td>Amoxicillin_Cap 250mg</td>\n",
       "      <td>1</td>\n",
       "      <td>0.92</td>\n",
       "      <td>0.87</td>\n",
       "      <td>21</td>\n",
       "      <td>201811</td>\n",
       "      <td></td>\n",
       "    </tr>\n",
       "    <tr>\n",
       "      <th>4</th>\n",
       "      <td>Q44</td>\n",
       "      <td>RXA</td>\n",
       "      <td>Y00327</td>\n",
       "      <td>0501013B0AAABAB</td>\n",
       "      <td>Amoxicillin_Cap 500mg</td>\n",
       "      <td>32</td>\n",
       "      <td>33.00</td>\n",
       "      <td>30.98</td>\n",
       "      <td>660</td>\n",
       "      <td>201811</td>\n",
       "      <td></td>\n",
       "    </tr>\n",
       "    <tr>\n",
       "      <th>5</th>\n",
       "      <td>Q44</td>\n",
       "      <td>RXA</td>\n",
       "      <td>Y00327</td>\n",
       "      <td>0501013B0AAAJAJ</td>\n",
       "      <td>Amoxicillin_Oral Susp 125mg/5ml</td>\n",
       "      <td>7</td>\n",
       "      <td>15.07</td>\n",
       "      <td>14.05</td>\n",
       "      <td>1100</td>\n",
       "      <td>201811</td>\n",
       "      <td></td>\n",
       "    </tr>\n",
       "    <tr>\n",
       "      <th>6</th>\n",
       "      <td>Q44</td>\n",
       "      <td>RY7</td>\n",
       "      <td>N85638</td>\n",
       "      <td>0501011P0AAADAD</td>\n",
       "      <td>Phenoxymethylpenicillin_Soln 125mg/5ml</td>\n",
       "      <td>8</td>\n",
       "      <td>76.86</td>\n",
       "      <td>71.34</td>\n",
       "      <td>1400</td>\n",
       "      <td>201811</td>\n",
       "      <td></td>\n",
       "    </tr>\n",
       "    <tr>\n",
       "      <th>7</th>\n",
       "      <td>Q44</td>\n",
       "      <td>RY7</td>\n",
       "      <td>N85638</td>\n",
       "      <td>0501011P0AAAJAJ</td>\n",
       "      <td>Phenoxymethylpenicillin Pot_Tab 250mg</td>\n",
       "      <td>23</td>\n",
       "      <td>49.80</td>\n",
       "      <td>48.45</td>\n",
       "      <td>1660</td>\n",
       "      <td>201811</td>\n",
       "      <td></td>\n",
       "    </tr>\n",
       "    <tr>\n",
       "      <th>8</th>\n",
       "      <td>Q44</td>\n",
       "      <td>RY7</td>\n",
       "      <td>N85645</td>\n",
       "      <td>0501012G0AAAAAA</td>\n",
       "      <td>Fluclox Sod_Cap 250mg</td>\n",
       "      <td>2</td>\n",
       "      <td>3.00</td>\n",
       "      <td>2.81</td>\n",
       "      <td>84</td>\n",
       "      <td>201811</td>\n",
       "      <td></td>\n",
       "    </tr>\n",
       "    <tr>\n",
       "      <th>9</th>\n",
       "      <td>Q44</td>\n",
       "      <td>RY7</td>\n",
       "      <td>N85645</td>\n",
       "      <td>0501012G0AAABAB</td>\n",
       "      <td>Fluclox Sod_Cap 500mg</td>\n",
       "      <td>92</td>\n",
       "      <td>197.09</td>\n",
       "      <td>184.23</td>\n",
       "      <td>2588</td>\n",
       "      <td>201811</td>\n",
       "      <td></td>\n",
       "    </tr>\n",
       "    <tr>\n",
       "      <th>10</th>\n",
       "      <td>Q44</td>\n",
       "      <td>RY7</td>\n",
       "      <td>N85645</td>\n",
       "      <td>0501012G0AAAFAF</td>\n",
       "      <td>Fluclox Sod_Oral Soln 125mg/5ml</td>\n",
       "      <td>8</td>\n",
       "      <td>85.93</td>\n",
       "      <td>79.76</td>\n",
       "      <td>1300</td>\n",
       "      <td>201811</td>\n",
       "      <td></td>\n",
       "    </tr>\n",
       "    <tr>\n",
       "      <th>11</th>\n",
       "      <td>Q44</td>\n",
       "      <td>RY7</td>\n",
       "      <td>NaN</td>\n",
       "      <td>0501013B0AAAAAA</td>\n",
       "      <td>Amoxicillin_Cap 250mg</td>\n",
       "      <td>1</td>\n",
       "      <td>0.66</td>\n",
       "      <td>0.62</td>\n",
       "      <td>15</td>\n",
       "      <td>201811</td>\n",
       "      <td></td>\n",
       "    </tr>\n",
       "    <tr>\n",
       "      <th>12</th>\n",
       "      <td>Q44</td>\n",
       "      <td>RY7</td>\n",
       "      <td>N85645</td>\n",
       "      <td>0501013B0AAABAB</td>\n",
       "      <td>Amoxicillin_Cap 500mg</td>\n",
       "      <td>71</td>\n",
       "      <td>54.30</td>\n",
       "      <td>51.24</td>\n",
       "      <td>1086</td>\n",
       "      <td>201811</td>\n",
       "      <td></td>\n",
       "    </tr>\n",
       "  </tbody>\n",
       "</table>\n",
       "</div>"
      ],
      "text/plain": [
       "    SHA  PCT PRACTICE         BNF CODE  \\\n",
       "0   Q44  RXA   Y00327  0501011P0AAADAD   \n",
       "1   Q44  RXA   Y00327  0501011P0AAAFAF   \n",
       "2   Q44  RXA   Y00327  0501012G0AAAAAA   \n",
       "3   Q44  RXA   Y00327  0501013B0AAAAAA   \n",
       "4   Q44  RXA   Y00327  0501013B0AAABAB   \n",
       "5   Q44  RXA   Y00327  0501013B0AAAJAJ   \n",
       "6   Q44  RY7   N85638  0501011P0AAADAD   \n",
       "7   Q44  RY7   N85638  0501011P0AAAJAJ   \n",
       "8   Q44  RY7   N85645  0501012G0AAAAAA   \n",
       "9   Q44  RY7   N85645  0501012G0AAABAB   \n",
       "10  Q44  RY7   N85645  0501012G0AAAFAF   \n",
       "11  Q44  RY7      NaN  0501013B0AAAAAA   \n",
       "12  Q44  RY7   N85645  0501013B0AAABAB   \n",
       "\n",
       "   BNF NAME                                      ITEMS    NIC          \\\n",
       "0      Phenoxymethylpenicillin_Soln 125mg/5ml         12       120.78   \n",
       "1      Phenoxymethylpenicillin_Soln 250mg/5ml          5        51.20   \n",
       "2      Fluclox Sod_Cap 250mg                           4         3.42   \n",
       "3      Amoxicillin_Cap 250mg                           1         0.92   \n",
       "4      Amoxicillin_Cap 500mg                          32        33.00   \n",
       "5      Amoxicillin_Oral Susp 125mg/5ml                 7        15.07   \n",
       "6      Phenoxymethylpenicillin_Soln 125mg/5ml          8        76.86   \n",
       "7      Phenoxymethylpenicillin Pot_Tab 250mg          23        49.80   \n",
       "8      Fluclox Sod_Cap 250mg                           2         3.00   \n",
       "9      Fluclox Sod_Cap 500mg                          92       197.09   \n",
       "10     Fluclox Sod_Oral Soln 125mg/5ml                 8        85.93   \n",
       "11     Amoxicillin_Cap 250mg                           1         0.66   \n",
       "12     Amoxicillin_Cap 500mg                          71        54.30   \n",
       "\n",
       "    ACT COST     QUANTITY  PERIOD                      \n",
       "0        112.10      2200  201811                      \n",
       "1         47.52       800  201811                      \n",
       "2          3.42        96  201811                      \n",
       "3          0.87        21  201811                      \n",
       "4         30.98       660  201811                      \n",
       "5         14.05      1100  201811                      \n",
       "6         71.34      1400  201811                      \n",
       "7         48.45      1660  201811                      \n",
       "8          2.81        84  201811                      \n",
       "9        184.23      2588  201811                      \n",
       "10        79.76      1300  201811                      \n",
       "11         0.62        15  201811                      \n",
       "12        51.24      1086  201811                      "
      ]
     },
     "execution_count": 11,
     "metadata": {},
     "output_type": "execute_result"
    }
   ],
   "source": [
    "pd.read_csv(\"data/antibiotics-sample.csv\")"
   ]
  },
  {
   "cell_type": "markdown",
   "metadata": {},
   "source": [
    "## Navigating Files and Directories"
   ]
  },
  {
   "cell_type": "code",
   "execution_count": 12,
   "metadata": {
    "collapsed": false
   },
   "outputs": [
    {
     "data": {
      "text/plain": [
       "'/home/raniere/Documents/2019-03-16-manchester'"
      ]
     },
     "execution_count": 12,
     "metadata": {},
     "output_type": "execute_result"
    }
   ],
   "source": [
    "import os\n",
    "\n",
    "os.getcwd()"
   ]
  },
  {
   "cell_type": "code",
   "execution_count": 13,
   "metadata": {
    "collapsed": false
   },
   "outputs": [
    {
     "data": {
      "text/plain": [
       "['assets',\n",
       " 'AUTHORS',\n",
       " 'CODE_OF_CONDUCT.md',\n",
       " '.github',\n",
       " 'data',\n",
       " 'CONTRIBUTING.md',\n",
       " 'LICENSE.md',\n",
       " 'bin',\n",
       " 'index.md',\n",
       " 'requirements.txt',\n",
       " '_config.yml',\n",
       " '.mailmap',\n",
       " 'README.md',\n",
       " 'prescribing_exercises.ipynb',\n",
       " 'CITATION',\n",
       " 'postBuild',\n",
       " 'fig',\n",
       " '.gitignore',\n",
       " 'Makefile',\n",
       " 'CONDUCT.md',\n",
       " '_extras',\n",
       " 'code',\n",
       " '_includes',\n",
       " 'files',\n",
       " '_episodes',\n",
       " '_layouts',\n",
       " '.ipynb_checkpoints',\n",
       " 'setup',\n",
       " '_episodes_rmd',\n",
       " '.git',\n",
       " '.editorconfig',\n",
       " '.travis.yml']"
      ]
     },
     "execution_count": 13,
     "metadata": {},
     "output_type": "execute_result"
    }
   ],
   "source": [
    "os.listdir()"
   ]
  },
  {
   "cell_type": "code",
   "execution_count": 14,
   "metadata": {
    "collapsed": true
   },
   "outputs": [],
   "source": [
    "os.chdir(\"data\")"
   ]
  },
  {
   "cell_type": "code",
   "execution_count": 15,
   "metadata": {
    "collapsed": false
   },
   "outputs": [
    {
     "ename": "FileNotFoundError",
     "evalue": "File b'data/antibiotics-sample.csv' does not exist",
     "output_type": "error",
     "traceback": [
      "\u001b[0;31m---------------------------------------------------------------------------\u001b[0m",
      "\u001b[0;31mFileNotFoundError\u001b[0m                         Traceback (most recent call last)",
      "\u001b[0;32m<ipython-input-15-e50f83768242>\u001b[0m in \u001b[0;36m<module>\u001b[0;34m()\u001b[0m\n\u001b[0;32m----> 1\u001b[0;31m \u001b[0mpd\u001b[0m\u001b[0;34m.\u001b[0m\u001b[0mread_csv\u001b[0m\u001b[0;34m(\u001b[0m\u001b[0;34m\"data/antibiotics-sample.csv\"\u001b[0m\u001b[0;34m)\u001b[0m\u001b[0;34m\u001b[0m\u001b[0m\n\u001b[0m",
      "\u001b[0;32m~/anaconda3/lib/python3.5/site-packages/pandas/io/parsers.py\u001b[0m in \u001b[0;36mparser_f\u001b[0;34m(filepath_or_buffer, sep, delimiter, header, names, index_col, usecols, squeeze, prefix, mangle_dupe_cols, dtype, engine, converters, true_values, false_values, skipinitialspace, skiprows, nrows, na_values, keep_default_na, na_filter, verbose, skip_blank_lines, parse_dates, infer_datetime_format, keep_date_col, date_parser, dayfirst, iterator, chunksize, compression, thousands, decimal, lineterminator, quotechar, quoting, escapechar, comment, encoding, dialect, tupleize_cols, error_bad_lines, warn_bad_lines, skipfooter, skip_footer, doublequote, delim_whitespace, as_recarray, compact_ints, use_unsigned, low_memory, buffer_lines, memory_map, float_precision)\u001b[0m\n\u001b[1;32m    653\u001b[0m                     skip_blank_lines=skip_blank_lines)\n\u001b[1;32m    654\u001b[0m \u001b[0;34m\u001b[0m\u001b[0m\n\u001b[0;32m--> 655\u001b[0;31m         \u001b[0;32mreturn\u001b[0m \u001b[0m_read\u001b[0m\u001b[0;34m(\u001b[0m\u001b[0mfilepath_or_buffer\u001b[0m\u001b[0;34m,\u001b[0m \u001b[0mkwds\u001b[0m\u001b[0;34m)\u001b[0m\u001b[0;34m\u001b[0m\u001b[0m\n\u001b[0m\u001b[1;32m    656\u001b[0m \u001b[0;34m\u001b[0m\u001b[0m\n\u001b[1;32m    657\u001b[0m     \u001b[0mparser_f\u001b[0m\u001b[0;34m.\u001b[0m\u001b[0m__name__\u001b[0m \u001b[0;34m=\u001b[0m \u001b[0mname\u001b[0m\u001b[0;34m\u001b[0m\u001b[0m\n",
      "\u001b[0;32m~/anaconda3/lib/python3.5/site-packages/pandas/io/parsers.py\u001b[0m in \u001b[0;36m_read\u001b[0;34m(filepath_or_buffer, kwds)\u001b[0m\n\u001b[1;32m    403\u001b[0m \u001b[0;34m\u001b[0m\u001b[0m\n\u001b[1;32m    404\u001b[0m     \u001b[0;31m# Create the parser.\u001b[0m\u001b[0;34m\u001b[0m\u001b[0;34m\u001b[0m\u001b[0m\n\u001b[0;32m--> 405\u001b[0;31m     \u001b[0mparser\u001b[0m \u001b[0;34m=\u001b[0m \u001b[0mTextFileReader\u001b[0m\u001b[0;34m(\u001b[0m\u001b[0mfilepath_or_buffer\u001b[0m\u001b[0;34m,\u001b[0m \u001b[0;34m**\u001b[0m\u001b[0mkwds\u001b[0m\u001b[0;34m)\u001b[0m\u001b[0;34m\u001b[0m\u001b[0m\n\u001b[0m\u001b[1;32m    406\u001b[0m \u001b[0;34m\u001b[0m\u001b[0m\n\u001b[1;32m    407\u001b[0m     \u001b[0;32mif\u001b[0m \u001b[0mchunksize\u001b[0m \u001b[0;32mor\u001b[0m \u001b[0miterator\u001b[0m\u001b[0;34m:\u001b[0m\u001b[0;34m\u001b[0m\u001b[0m\n",
      "\u001b[0;32m~/anaconda3/lib/python3.5/site-packages/pandas/io/parsers.py\u001b[0m in \u001b[0;36m__init__\u001b[0;34m(self, f, engine, **kwds)\u001b[0m\n\u001b[1;32m    762\u001b[0m             \u001b[0mself\u001b[0m\u001b[0;34m.\u001b[0m\u001b[0moptions\u001b[0m\u001b[0;34m[\u001b[0m\u001b[0;34m'has_index_names'\u001b[0m\u001b[0;34m]\u001b[0m \u001b[0;34m=\u001b[0m \u001b[0mkwds\u001b[0m\u001b[0;34m[\u001b[0m\u001b[0;34m'has_index_names'\u001b[0m\u001b[0;34m]\u001b[0m\u001b[0;34m\u001b[0m\u001b[0m\n\u001b[1;32m    763\u001b[0m \u001b[0;34m\u001b[0m\u001b[0m\n\u001b[0;32m--> 764\u001b[0;31m         \u001b[0mself\u001b[0m\u001b[0;34m.\u001b[0m\u001b[0m_make_engine\u001b[0m\u001b[0;34m(\u001b[0m\u001b[0mself\u001b[0m\u001b[0;34m.\u001b[0m\u001b[0mengine\u001b[0m\u001b[0;34m)\u001b[0m\u001b[0;34m\u001b[0m\u001b[0m\n\u001b[0m\u001b[1;32m    765\u001b[0m \u001b[0;34m\u001b[0m\u001b[0m\n\u001b[1;32m    766\u001b[0m     \u001b[0;32mdef\u001b[0m \u001b[0mclose\u001b[0m\u001b[0;34m(\u001b[0m\u001b[0mself\u001b[0m\u001b[0;34m)\u001b[0m\u001b[0;34m:\u001b[0m\u001b[0;34m\u001b[0m\u001b[0m\n",
      "\u001b[0;32m~/anaconda3/lib/python3.5/site-packages/pandas/io/parsers.py\u001b[0m in \u001b[0;36m_make_engine\u001b[0;34m(self, engine)\u001b[0m\n\u001b[1;32m    983\u001b[0m     \u001b[0;32mdef\u001b[0m \u001b[0m_make_engine\u001b[0m\u001b[0;34m(\u001b[0m\u001b[0mself\u001b[0m\u001b[0;34m,\u001b[0m \u001b[0mengine\u001b[0m\u001b[0;34m=\u001b[0m\u001b[0;34m'c'\u001b[0m\u001b[0;34m)\u001b[0m\u001b[0;34m:\u001b[0m\u001b[0;34m\u001b[0m\u001b[0m\n\u001b[1;32m    984\u001b[0m         \u001b[0;32mif\u001b[0m \u001b[0mengine\u001b[0m \u001b[0;34m==\u001b[0m \u001b[0;34m'c'\u001b[0m\u001b[0;34m:\u001b[0m\u001b[0;34m\u001b[0m\u001b[0m\n\u001b[0;32m--> 985\u001b[0;31m             \u001b[0mself\u001b[0m\u001b[0;34m.\u001b[0m\u001b[0m_engine\u001b[0m \u001b[0;34m=\u001b[0m \u001b[0mCParserWrapper\u001b[0m\u001b[0;34m(\u001b[0m\u001b[0mself\u001b[0m\u001b[0;34m.\u001b[0m\u001b[0mf\u001b[0m\u001b[0;34m,\u001b[0m \u001b[0;34m**\u001b[0m\u001b[0mself\u001b[0m\u001b[0;34m.\u001b[0m\u001b[0moptions\u001b[0m\u001b[0;34m)\u001b[0m\u001b[0;34m\u001b[0m\u001b[0m\n\u001b[0m\u001b[1;32m    986\u001b[0m         \u001b[0;32melse\u001b[0m\u001b[0;34m:\u001b[0m\u001b[0;34m\u001b[0m\u001b[0m\n\u001b[1;32m    987\u001b[0m             \u001b[0;32mif\u001b[0m \u001b[0mengine\u001b[0m \u001b[0;34m==\u001b[0m \u001b[0;34m'python'\u001b[0m\u001b[0;34m:\u001b[0m\u001b[0;34m\u001b[0m\u001b[0m\n",
      "\u001b[0;32m~/anaconda3/lib/python3.5/site-packages/pandas/io/parsers.py\u001b[0m in \u001b[0;36m__init__\u001b[0;34m(self, src, **kwds)\u001b[0m\n\u001b[1;32m   1603\u001b[0m         \u001b[0mkwds\u001b[0m\u001b[0;34m[\u001b[0m\u001b[0;34m'allow_leading_cols'\u001b[0m\u001b[0;34m]\u001b[0m \u001b[0;34m=\u001b[0m \u001b[0mself\u001b[0m\u001b[0;34m.\u001b[0m\u001b[0mindex_col\u001b[0m \u001b[0;32mis\u001b[0m \u001b[0;32mnot\u001b[0m \u001b[0;32mFalse\u001b[0m\u001b[0;34m\u001b[0m\u001b[0m\n\u001b[1;32m   1604\u001b[0m \u001b[0;34m\u001b[0m\u001b[0m\n\u001b[0;32m-> 1605\u001b[0;31m         \u001b[0mself\u001b[0m\u001b[0;34m.\u001b[0m\u001b[0m_reader\u001b[0m \u001b[0;34m=\u001b[0m \u001b[0mparsers\u001b[0m\u001b[0;34m.\u001b[0m\u001b[0mTextReader\u001b[0m\u001b[0;34m(\u001b[0m\u001b[0msrc\u001b[0m\u001b[0;34m,\u001b[0m \u001b[0;34m**\u001b[0m\u001b[0mkwds\u001b[0m\u001b[0;34m)\u001b[0m\u001b[0;34m\u001b[0m\u001b[0m\n\u001b[0m\u001b[1;32m   1606\u001b[0m \u001b[0;34m\u001b[0m\u001b[0m\n\u001b[1;32m   1607\u001b[0m         \u001b[0;31m# XXX\u001b[0m\u001b[0;34m\u001b[0m\u001b[0;34m\u001b[0m\u001b[0m\n",
      "\u001b[0;32mpandas/_libs/parsers.pyx\u001b[0m in \u001b[0;36mpandas._libs.parsers.TextReader.__cinit__ (pandas/_libs/parsers.c:4209)\u001b[0;34m()\u001b[0m\n",
      "\u001b[0;32mpandas/_libs/parsers.pyx\u001b[0m in \u001b[0;36mpandas._libs.parsers.TextReader._setup_parser_source (pandas/_libs/parsers.c:8873)\u001b[0;34m()\u001b[0m\n",
      "\u001b[0;31mFileNotFoundError\u001b[0m: File b'data/antibiotics-sample.csv' does not exist"
     ]
    }
   ],
   "source": [
    "pd.read_csv(\"data/antibiotics-sample.csv\")"
   ]
  },
  {
   "cell_type": "code",
   "execution_count": 16,
   "metadata": {
    "collapsed": false
   },
   "outputs": [
    {
     "data": {
      "text/plain": [
       "'/home/raniere/Documents/2019-03-16-manchester/data'"
      ]
     },
     "execution_count": 16,
     "metadata": {},
     "output_type": "execute_result"
    }
   ],
   "source": [
    "os.getcwd()"
   ]
  },
  {
   "cell_type": "code",
   "execution_count": 17,
   "metadata": {
    "collapsed": false,
    "scrolled": true
   },
   "outputs": [
    {
     "data": {
      "text/html": [
       "<div>\n",
       "<style>\n",
       "    .dataframe thead tr:only-child th {\n",
       "        text-align: right;\n",
       "    }\n",
       "\n",
       "    .dataframe thead th {\n",
       "        text-align: left;\n",
       "    }\n",
       "\n",
       "    .dataframe tbody tr th {\n",
       "        vertical-align: top;\n",
       "    }\n",
       "</style>\n",
       "<table border=\"1\" class=\"dataframe\">\n",
       "  <thead>\n",
       "    <tr style=\"text-align: right;\">\n",
       "      <th></th>\n",
       "      <th>SHA</th>\n",
       "      <th>PCT</th>\n",
       "      <th>PRACTICE</th>\n",
       "      <th>BNF CODE</th>\n",
       "      <th>BNF NAME</th>\n",
       "      <th>ITEMS</th>\n",
       "      <th>NIC</th>\n",
       "      <th>ACT COST</th>\n",
       "      <th>QUANTITY</th>\n",
       "      <th>PERIOD</th>\n",
       "      <th></th>\n",
       "    </tr>\n",
       "  </thead>\n",
       "  <tbody>\n",
       "    <tr>\n",
       "      <th>0</th>\n",
       "      <td>Q44</td>\n",
       "      <td>RXA</td>\n",
       "      <td>Y00327</td>\n",
       "      <td>0501011P0AAADAD</td>\n",
       "      <td>Phenoxymethylpenicillin_Soln 125mg/5ml</td>\n",
       "      <td>12</td>\n",
       "      <td>120.78</td>\n",
       "      <td>112.10</td>\n",
       "      <td>2200</td>\n",
       "      <td>201811</td>\n",
       "      <td></td>\n",
       "    </tr>\n",
       "    <tr>\n",
       "      <th>1</th>\n",
       "      <td>Q44</td>\n",
       "      <td>RXA</td>\n",
       "      <td>Y00327</td>\n",
       "      <td>0501011P0AAAFAF</td>\n",
       "      <td>Phenoxymethylpenicillin_Soln 250mg/5ml</td>\n",
       "      <td>5</td>\n",
       "      <td>51.20</td>\n",
       "      <td>47.52</td>\n",
       "      <td>800</td>\n",
       "      <td>201811</td>\n",
       "      <td></td>\n",
       "    </tr>\n",
       "    <tr>\n",
       "      <th>2</th>\n",
       "      <td>Q44</td>\n",
       "      <td>RXA</td>\n",
       "      <td>Y00327</td>\n",
       "      <td>0501012G0AAAAAA</td>\n",
       "      <td>Fluclox Sod_Cap 250mg</td>\n",
       "      <td>4</td>\n",
       "      <td>3.42</td>\n",
       "      <td>3.42</td>\n",
       "      <td>96</td>\n",
       "      <td>201811</td>\n",
       "      <td></td>\n",
       "    </tr>\n",
       "    <tr>\n",
       "      <th>3</th>\n",
       "      <td>Q44</td>\n",
       "      <td>RXA</td>\n",
       "      <td>Y00327</td>\n",
       "      <td>0501013B0AAAAAA</td>\n",
       "      <td>Amoxicillin_Cap 250mg</td>\n",
       "      <td>1</td>\n",
       "      <td>0.92</td>\n",
       "      <td>0.87</td>\n",
       "      <td>21</td>\n",
       "      <td>201811</td>\n",
       "      <td></td>\n",
       "    </tr>\n",
       "    <tr>\n",
       "      <th>4</th>\n",
       "      <td>Q44</td>\n",
       "      <td>RXA</td>\n",
       "      <td>Y00327</td>\n",
       "      <td>0501013B0AAABAB</td>\n",
       "      <td>Amoxicillin_Cap 500mg</td>\n",
       "      <td>32</td>\n",
       "      <td>33.00</td>\n",
       "      <td>30.98</td>\n",
       "      <td>660</td>\n",
       "      <td>201811</td>\n",
       "      <td></td>\n",
       "    </tr>\n",
       "    <tr>\n",
       "      <th>5</th>\n",
       "      <td>Q44</td>\n",
       "      <td>RXA</td>\n",
       "      <td>Y00327</td>\n",
       "      <td>0501013B0AAAJAJ</td>\n",
       "      <td>Amoxicillin_Oral Susp 125mg/5ml</td>\n",
       "      <td>7</td>\n",
       "      <td>15.07</td>\n",
       "      <td>14.05</td>\n",
       "      <td>1100</td>\n",
       "      <td>201811</td>\n",
       "      <td></td>\n",
       "    </tr>\n",
       "    <tr>\n",
       "      <th>6</th>\n",
       "      <td>Q44</td>\n",
       "      <td>RY7</td>\n",
       "      <td>N85638</td>\n",
       "      <td>0501011P0AAADAD</td>\n",
       "      <td>Phenoxymethylpenicillin_Soln 125mg/5ml</td>\n",
       "      <td>8</td>\n",
       "      <td>76.86</td>\n",
       "      <td>71.34</td>\n",
       "      <td>1400</td>\n",
       "      <td>201811</td>\n",
       "      <td></td>\n",
       "    </tr>\n",
       "    <tr>\n",
       "      <th>7</th>\n",
       "      <td>Q44</td>\n",
       "      <td>RY7</td>\n",
       "      <td>N85638</td>\n",
       "      <td>0501011P0AAAJAJ</td>\n",
       "      <td>Phenoxymethylpenicillin Pot_Tab 250mg</td>\n",
       "      <td>23</td>\n",
       "      <td>49.80</td>\n",
       "      <td>48.45</td>\n",
       "      <td>1660</td>\n",
       "      <td>201811</td>\n",
       "      <td></td>\n",
       "    </tr>\n",
       "    <tr>\n",
       "      <th>8</th>\n",
       "      <td>Q44</td>\n",
       "      <td>RY7</td>\n",
       "      <td>N85645</td>\n",
       "      <td>0501012G0AAAAAA</td>\n",
       "      <td>Fluclox Sod_Cap 250mg</td>\n",
       "      <td>2</td>\n",
       "      <td>3.00</td>\n",
       "      <td>2.81</td>\n",
       "      <td>84</td>\n",
       "      <td>201811</td>\n",
       "      <td></td>\n",
       "    </tr>\n",
       "    <tr>\n",
       "      <th>9</th>\n",
       "      <td>Q44</td>\n",
       "      <td>RY7</td>\n",
       "      <td>N85645</td>\n",
       "      <td>0501012G0AAABAB</td>\n",
       "      <td>Fluclox Sod_Cap 500mg</td>\n",
       "      <td>92</td>\n",
       "      <td>197.09</td>\n",
       "      <td>184.23</td>\n",
       "      <td>2588</td>\n",
       "      <td>201811</td>\n",
       "      <td></td>\n",
       "    </tr>\n",
       "    <tr>\n",
       "      <th>10</th>\n",
       "      <td>Q44</td>\n",
       "      <td>RY7</td>\n",
       "      <td>N85645</td>\n",
       "      <td>0501012G0AAAFAF</td>\n",
       "      <td>Fluclox Sod_Oral Soln 125mg/5ml</td>\n",
       "      <td>8</td>\n",
       "      <td>85.93</td>\n",
       "      <td>79.76</td>\n",
       "      <td>1300</td>\n",
       "      <td>201811</td>\n",
       "      <td></td>\n",
       "    </tr>\n",
       "    <tr>\n",
       "      <th>11</th>\n",
       "      <td>Q44</td>\n",
       "      <td>RY7</td>\n",
       "      <td>NaN</td>\n",
       "      <td>0501013B0AAAAAA</td>\n",
       "      <td>Amoxicillin_Cap 250mg</td>\n",
       "      <td>1</td>\n",
       "      <td>0.66</td>\n",
       "      <td>0.62</td>\n",
       "      <td>15</td>\n",
       "      <td>201811</td>\n",
       "      <td></td>\n",
       "    </tr>\n",
       "    <tr>\n",
       "      <th>12</th>\n",
       "      <td>Q44</td>\n",
       "      <td>RY7</td>\n",
       "      <td>N85645</td>\n",
       "      <td>0501013B0AAABAB</td>\n",
       "      <td>Amoxicillin_Cap 500mg</td>\n",
       "      <td>71</td>\n",
       "      <td>54.30</td>\n",
       "      <td>51.24</td>\n",
       "      <td>1086</td>\n",
       "      <td>201811</td>\n",
       "      <td></td>\n",
       "    </tr>\n",
       "  </tbody>\n",
       "</table>\n",
       "</div>"
      ],
      "text/plain": [
       "    SHA  PCT PRACTICE         BNF CODE  \\\n",
       "0   Q44  RXA   Y00327  0501011P0AAADAD   \n",
       "1   Q44  RXA   Y00327  0501011P0AAAFAF   \n",
       "2   Q44  RXA   Y00327  0501012G0AAAAAA   \n",
       "3   Q44  RXA   Y00327  0501013B0AAAAAA   \n",
       "4   Q44  RXA   Y00327  0501013B0AAABAB   \n",
       "5   Q44  RXA   Y00327  0501013B0AAAJAJ   \n",
       "6   Q44  RY7   N85638  0501011P0AAADAD   \n",
       "7   Q44  RY7   N85638  0501011P0AAAJAJ   \n",
       "8   Q44  RY7   N85645  0501012G0AAAAAA   \n",
       "9   Q44  RY7   N85645  0501012G0AAABAB   \n",
       "10  Q44  RY7   N85645  0501012G0AAAFAF   \n",
       "11  Q44  RY7      NaN  0501013B0AAAAAA   \n",
       "12  Q44  RY7   N85645  0501013B0AAABAB   \n",
       "\n",
       "   BNF NAME                                      ITEMS    NIC          \\\n",
       "0      Phenoxymethylpenicillin_Soln 125mg/5ml         12       120.78   \n",
       "1      Phenoxymethylpenicillin_Soln 250mg/5ml          5        51.20   \n",
       "2      Fluclox Sod_Cap 250mg                           4         3.42   \n",
       "3      Amoxicillin_Cap 250mg                           1         0.92   \n",
       "4      Amoxicillin_Cap 500mg                          32        33.00   \n",
       "5      Amoxicillin_Oral Susp 125mg/5ml                 7        15.07   \n",
       "6      Phenoxymethylpenicillin_Soln 125mg/5ml          8        76.86   \n",
       "7      Phenoxymethylpenicillin Pot_Tab 250mg          23        49.80   \n",
       "8      Fluclox Sod_Cap 250mg                           2         3.00   \n",
       "9      Fluclox Sod_Cap 500mg                          92       197.09   \n",
       "10     Fluclox Sod_Oral Soln 125mg/5ml                 8        85.93   \n",
       "11     Amoxicillin_Cap 250mg                           1         0.66   \n",
       "12     Amoxicillin_Cap 500mg                          71        54.30   \n",
       "\n",
       "    ACT COST     QUANTITY  PERIOD                      \n",
       "0        112.10      2200  201811                      \n",
       "1         47.52       800  201811                      \n",
       "2          3.42        96  201811                      \n",
       "3          0.87        21  201811                      \n",
       "4         30.98       660  201811                      \n",
       "5         14.05      1100  201811                      \n",
       "6         71.34      1400  201811                      \n",
       "7         48.45      1660  201811                      \n",
       "8          2.81        84  201811                      \n",
       "9        184.23      2588  201811                      \n",
       "10        79.76      1300  201811                      \n",
       "11         0.62        15  201811                      \n",
       "12        51.24      1086  201811                      "
      ]
     },
     "execution_count": 17,
     "metadata": {},
     "output_type": "execute_result"
    }
   ],
   "source": [
    "pd.read_csv(\"antibiotics-sample.csv\")"
   ]
  },
  {
   "cell_type": "markdown",
   "metadata": {},
   "source": [
    "Libraries have variables. They are different from functions because we invoke them without parenthesis \"()\" at the end."
   ]
  },
  {
   "cell_type": "code",
   "execution_count": 56,
   "metadata": {
    "collapsed": false
   },
   "outputs": [
    {
     "data": {
      "text/plain": [
       "'.'"
      ]
     },
     "execution_count": 56,
     "metadata": {},
     "output_type": "execute_result"
    }
   ],
   "source": [
    "os.curdir  # This is '.' for Windows and POSIX."
   ]
  },
  {
   "cell_type": "code",
   "execution_count": 57,
   "metadata": {
    "collapsed": false
   },
   "outputs": [
    {
     "data": {
      "text/plain": [
       "'..'"
      ]
     },
     "execution_count": 57,
     "metadata": {},
     "output_type": "execute_result"
    }
   ],
   "source": [
    "os.pardir  # This is '..' for Windows and POSIX."
   ]
  },
  {
   "cell_type": "code",
   "execution_count": 58,
   "metadata": {
    "collapsed": false
   },
   "outputs": [
    {
     "data": {
      "text/plain": [
       "'/'"
      ]
     },
     "execution_count": 58,
     "metadata": {},
     "output_type": "execute_result"
    }
   ],
   "source": [
    "os.sep  # This is '/' for POSIX and '\\\\' for Windows."
   ]
  },
  {
   "cell_type": "markdown",
   "metadata": {},
   "source": [
    "Usually, libraries' variables are immutable (i.e. they act as constants)."
   ]
  },
  {
   "cell_type": "code",
   "execution_count": 18,
   "metadata": {
    "collapsed": true
   },
   "outputs": [],
   "source": [
    "os.chdir(\"..\") # This is now a function call, not a variable!"
   ]
  },
  {
   "cell_type": "code",
   "execution_count": 19,
   "metadata": {
    "collapsed": true
   },
   "outputs": [],
   "source": [
    "sample = pd.read_csv(\"data/antibiotics-sample.csv\")"
   ]
  },
  {
   "cell_type": "markdown",
   "metadata": {},
   "source": [
    "## Panda's DataFrame data type"
   ]
  },
  {
   "cell_type": "code",
   "execution_count": 20,
   "metadata": {
    "collapsed": false
   },
   "outputs": [
    {
     "data": {
      "text/html": [
       "<div>\n",
       "<style>\n",
       "    .dataframe thead tr:only-child th {\n",
       "        text-align: right;\n",
       "    }\n",
       "\n",
       "    .dataframe thead th {\n",
       "        text-align: left;\n",
       "    }\n",
       "\n",
       "    .dataframe tbody tr th {\n",
       "        vertical-align: top;\n",
       "    }\n",
       "</style>\n",
       "<table border=\"1\" class=\"dataframe\">\n",
       "  <thead>\n",
       "    <tr style=\"text-align: right;\">\n",
       "      <th></th>\n",
       "      <th>SHA</th>\n",
       "      <th>PCT</th>\n",
       "      <th>PRACTICE</th>\n",
       "      <th>BNF CODE</th>\n",
       "      <th>BNF NAME</th>\n",
       "      <th>ITEMS</th>\n",
       "      <th>NIC</th>\n",
       "      <th>ACT COST</th>\n",
       "      <th>QUANTITY</th>\n",
       "      <th>PERIOD</th>\n",
       "      <th></th>\n",
       "    </tr>\n",
       "  </thead>\n",
       "  <tbody>\n",
       "    <tr>\n",
       "      <th>0</th>\n",
       "      <td>Q44</td>\n",
       "      <td>RXA</td>\n",
       "      <td>Y00327</td>\n",
       "      <td>0501011P0AAADAD</td>\n",
       "      <td>Phenoxymethylpenicillin_Soln 125mg/5ml</td>\n",
       "      <td>12</td>\n",
       "      <td>120.78</td>\n",
       "      <td>112.10</td>\n",
       "      <td>2200</td>\n",
       "      <td>201811</td>\n",
       "      <td></td>\n",
       "    </tr>\n",
       "    <tr>\n",
       "      <th>1</th>\n",
       "      <td>Q44</td>\n",
       "      <td>RXA</td>\n",
       "      <td>Y00327</td>\n",
       "      <td>0501011P0AAAFAF</td>\n",
       "      <td>Phenoxymethylpenicillin_Soln 250mg/5ml</td>\n",
       "      <td>5</td>\n",
       "      <td>51.20</td>\n",
       "      <td>47.52</td>\n",
       "      <td>800</td>\n",
       "      <td>201811</td>\n",
       "      <td></td>\n",
       "    </tr>\n",
       "    <tr>\n",
       "      <th>2</th>\n",
       "      <td>Q44</td>\n",
       "      <td>RXA</td>\n",
       "      <td>Y00327</td>\n",
       "      <td>0501012G0AAAAAA</td>\n",
       "      <td>Fluclox Sod_Cap 250mg</td>\n",
       "      <td>4</td>\n",
       "      <td>3.42</td>\n",
       "      <td>3.42</td>\n",
       "      <td>96</td>\n",
       "      <td>201811</td>\n",
       "      <td></td>\n",
       "    </tr>\n",
       "    <tr>\n",
       "      <th>3</th>\n",
       "      <td>Q44</td>\n",
       "      <td>RXA</td>\n",
       "      <td>Y00327</td>\n",
       "      <td>0501013B0AAAAAA</td>\n",
       "      <td>Amoxicillin_Cap 250mg</td>\n",
       "      <td>1</td>\n",
       "      <td>0.92</td>\n",
       "      <td>0.87</td>\n",
       "      <td>21</td>\n",
       "      <td>201811</td>\n",
       "      <td></td>\n",
       "    </tr>\n",
       "    <tr>\n",
       "      <th>4</th>\n",
       "      <td>Q44</td>\n",
       "      <td>RXA</td>\n",
       "      <td>Y00327</td>\n",
       "      <td>0501013B0AAABAB</td>\n",
       "      <td>Amoxicillin_Cap 500mg</td>\n",
       "      <td>32</td>\n",
       "      <td>33.00</td>\n",
       "      <td>30.98</td>\n",
       "      <td>660</td>\n",
       "      <td>201811</td>\n",
       "      <td></td>\n",
       "    </tr>\n",
       "    <tr>\n",
       "      <th>5</th>\n",
       "      <td>Q44</td>\n",
       "      <td>RXA</td>\n",
       "      <td>Y00327</td>\n",
       "      <td>0501013B0AAAJAJ</td>\n",
       "      <td>Amoxicillin_Oral Susp 125mg/5ml</td>\n",
       "      <td>7</td>\n",
       "      <td>15.07</td>\n",
       "      <td>14.05</td>\n",
       "      <td>1100</td>\n",
       "      <td>201811</td>\n",
       "      <td></td>\n",
       "    </tr>\n",
       "    <tr>\n",
       "      <th>6</th>\n",
       "      <td>Q44</td>\n",
       "      <td>RY7</td>\n",
       "      <td>N85638</td>\n",
       "      <td>0501011P0AAADAD</td>\n",
       "      <td>Phenoxymethylpenicillin_Soln 125mg/5ml</td>\n",
       "      <td>8</td>\n",
       "      <td>76.86</td>\n",
       "      <td>71.34</td>\n",
       "      <td>1400</td>\n",
       "      <td>201811</td>\n",
       "      <td></td>\n",
       "    </tr>\n",
       "    <tr>\n",
       "      <th>7</th>\n",
       "      <td>Q44</td>\n",
       "      <td>RY7</td>\n",
       "      <td>N85638</td>\n",
       "      <td>0501011P0AAAJAJ</td>\n",
       "      <td>Phenoxymethylpenicillin Pot_Tab 250mg</td>\n",
       "      <td>23</td>\n",
       "      <td>49.80</td>\n",
       "      <td>48.45</td>\n",
       "      <td>1660</td>\n",
       "      <td>201811</td>\n",
       "      <td></td>\n",
       "    </tr>\n",
       "    <tr>\n",
       "      <th>8</th>\n",
       "      <td>Q44</td>\n",
       "      <td>RY7</td>\n",
       "      <td>N85645</td>\n",
       "      <td>0501012G0AAAAAA</td>\n",
       "      <td>Fluclox Sod_Cap 250mg</td>\n",
       "      <td>2</td>\n",
       "      <td>3.00</td>\n",
       "      <td>2.81</td>\n",
       "      <td>84</td>\n",
       "      <td>201811</td>\n",
       "      <td></td>\n",
       "    </tr>\n",
       "    <tr>\n",
       "      <th>9</th>\n",
       "      <td>Q44</td>\n",
       "      <td>RY7</td>\n",
       "      <td>N85645</td>\n",
       "      <td>0501012G0AAABAB</td>\n",
       "      <td>Fluclox Sod_Cap 500mg</td>\n",
       "      <td>92</td>\n",
       "      <td>197.09</td>\n",
       "      <td>184.23</td>\n",
       "      <td>2588</td>\n",
       "      <td>201811</td>\n",
       "      <td></td>\n",
       "    </tr>\n",
       "    <tr>\n",
       "      <th>10</th>\n",
       "      <td>Q44</td>\n",
       "      <td>RY7</td>\n",
       "      <td>N85645</td>\n",
       "      <td>0501012G0AAAFAF</td>\n",
       "      <td>Fluclox Sod_Oral Soln 125mg/5ml</td>\n",
       "      <td>8</td>\n",
       "      <td>85.93</td>\n",
       "      <td>79.76</td>\n",
       "      <td>1300</td>\n",
       "      <td>201811</td>\n",
       "      <td></td>\n",
       "    </tr>\n",
       "    <tr>\n",
       "      <th>11</th>\n",
       "      <td>Q44</td>\n",
       "      <td>RY7</td>\n",
       "      <td>NaN</td>\n",
       "      <td>0501013B0AAAAAA</td>\n",
       "      <td>Amoxicillin_Cap 250mg</td>\n",
       "      <td>1</td>\n",
       "      <td>0.66</td>\n",
       "      <td>0.62</td>\n",
       "      <td>15</td>\n",
       "      <td>201811</td>\n",
       "      <td></td>\n",
       "    </tr>\n",
       "    <tr>\n",
       "      <th>12</th>\n",
       "      <td>Q44</td>\n",
       "      <td>RY7</td>\n",
       "      <td>N85645</td>\n",
       "      <td>0501013B0AAABAB</td>\n",
       "      <td>Amoxicillin_Cap 500mg</td>\n",
       "      <td>71</td>\n",
       "      <td>54.30</td>\n",
       "      <td>51.24</td>\n",
       "      <td>1086</td>\n",
       "      <td>201811</td>\n",
       "      <td></td>\n",
       "    </tr>\n",
       "  </tbody>\n",
       "</table>\n",
       "</div>"
      ],
      "text/plain": [
       "    SHA  PCT PRACTICE         BNF CODE  \\\n",
       "0   Q44  RXA   Y00327  0501011P0AAADAD   \n",
       "1   Q44  RXA   Y00327  0501011P0AAAFAF   \n",
       "2   Q44  RXA   Y00327  0501012G0AAAAAA   \n",
       "3   Q44  RXA   Y00327  0501013B0AAAAAA   \n",
       "4   Q44  RXA   Y00327  0501013B0AAABAB   \n",
       "5   Q44  RXA   Y00327  0501013B0AAAJAJ   \n",
       "6   Q44  RY7   N85638  0501011P0AAADAD   \n",
       "7   Q44  RY7   N85638  0501011P0AAAJAJ   \n",
       "8   Q44  RY7   N85645  0501012G0AAAAAA   \n",
       "9   Q44  RY7   N85645  0501012G0AAABAB   \n",
       "10  Q44  RY7   N85645  0501012G0AAAFAF   \n",
       "11  Q44  RY7      NaN  0501013B0AAAAAA   \n",
       "12  Q44  RY7   N85645  0501013B0AAABAB   \n",
       "\n",
       "   BNF NAME                                      ITEMS    NIC          \\\n",
       "0      Phenoxymethylpenicillin_Soln 125mg/5ml         12       120.78   \n",
       "1      Phenoxymethylpenicillin_Soln 250mg/5ml          5        51.20   \n",
       "2      Fluclox Sod_Cap 250mg                           4         3.42   \n",
       "3      Amoxicillin_Cap 250mg                           1         0.92   \n",
       "4      Amoxicillin_Cap 500mg                          32        33.00   \n",
       "5      Amoxicillin_Oral Susp 125mg/5ml                 7        15.07   \n",
       "6      Phenoxymethylpenicillin_Soln 125mg/5ml          8        76.86   \n",
       "7      Phenoxymethylpenicillin Pot_Tab 250mg          23        49.80   \n",
       "8      Fluclox Sod_Cap 250mg                           2         3.00   \n",
       "9      Fluclox Sod_Cap 500mg                          92       197.09   \n",
       "10     Fluclox Sod_Oral Soln 125mg/5ml                 8        85.93   \n",
       "11     Amoxicillin_Cap 250mg                           1         0.66   \n",
       "12     Amoxicillin_Cap 500mg                          71        54.30   \n",
       "\n",
       "    ACT COST     QUANTITY  PERIOD                      \n",
       "0        112.10      2200  201811                      \n",
       "1         47.52       800  201811                      \n",
       "2          3.42        96  201811                      \n",
       "3          0.87        21  201811                      \n",
       "4         30.98       660  201811                      \n",
       "5         14.05      1100  201811                      \n",
       "6         71.34      1400  201811                      \n",
       "7         48.45      1660  201811                      \n",
       "8          2.81        84  201811                      \n",
       "9        184.23      2588  201811                      \n",
       "10        79.76      1300  201811                      \n",
       "11         0.62        15  201811                      \n",
       "12        51.24      1086  201811                      "
      ]
     },
     "execution_count": 20,
     "metadata": {},
     "output_type": "execute_result"
    }
   ],
   "source": [
    "sample"
   ]
  },
  {
   "cell_type": "code",
   "execution_count": 21,
   "metadata": {
    "collapsed": false
   },
   "outputs": [
    {
     "data": {
      "text/plain": [
       "(13, 11)"
      ]
     },
     "execution_count": 21,
     "metadata": {},
     "output_type": "execute_result"
    }
   ],
   "source": [
    "sample.shape"
   ]
  },
  {
   "cell_type": "code",
   "execution_count": 23,
   "metadata": {
    "collapsed": true
   },
   "outputs": [],
   "source": [
    "data = pd.read_csv(\"data/antibiotics.csv\")"
   ]
  },
  {
   "cell_type": "code",
   "execution_count": 24,
   "metadata": {
    "collapsed": false
   },
   "outputs": [
    {
     "data": {
      "text/plain": [
       "(317651, 11)"
      ]
     },
     "execution_count": 24,
     "metadata": {},
     "output_type": "execute_result"
    }
   ],
   "source": [
    "data.shape"
   ]
  },
  {
   "cell_type": "code",
   "execution_count": 25,
   "metadata": {
    "collapsed": false
   },
   "outputs": [
    {
     "data": {
      "text/html": [
       "<div>\n",
       "<style>\n",
       "    .dataframe thead tr:only-child th {\n",
       "        text-align: right;\n",
       "    }\n",
       "\n",
       "    .dataframe thead th {\n",
       "        text-align: left;\n",
       "    }\n",
       "\n",
       "    .dataframe tbody tr th {\n",
       "        vertical-align: top;\n",
       "    }\n",
       "</style>\n",
       "<table border=\"1\" class=\"dataframe\">\n",
       "  <thead>\n",
       "    <tr style=\"text-align: right;\">\n",
       "      <th></th>\n",
       "      <th>SHA</th>\n",
       "      <th>PCT</th>\n",
       "      <th>PRACTICE</th>\n",
       "      <th>BNF CODE</th>\n",
       "      <th>BNF NAME</th>\n",
       "      <th>ITEMS</th>\n",
       "      <th>NIC</th>\n",
       "      <th>ACT COST</th>\n",
       "      <th>QUANTITY</th>\n",
       "      <th>PERIOD</th>\n",
       "      <th></th>\n",
       "    </tr>\n",
       "  </thead>\n",
       "  <tbody>\n",
       "    <tr>\n",
       "      <th>0</th>\n",
       "      <td>Q44</td>\n",
       "      <td>RXA</td>\n",
       "      <td>Y00327</td>\n",
       "      <td>0501011P0AAADAD</td>\n",
       "      <td>Phenoxymethylpenicillin_Soln 125mg/5ml</td>\n",
       "      <td>12</td>\n",
       "      <td>120.78</td>\n",
       "      <td>112.10</td>\n",
       "      <td>2200</td>\n",
       "      <td>201811</td>\n",
       "      <td></td>\n",
       "    </tr>\n",
       "    <tr>\n",
       "      <th>1</th>\n",
       "      <td>Q44</td>\n",
       "      <td>RXA</td>\n",
       "      <td>Y00327</td>\n",
       "      <td>0501011P0AAAFAF</td>\n",
       "      <td>Phenoxymethylpenicillin_Soln 250mg/5ml</td>\n",
       "      <td>5</td>\n",
       "      <td>51.20</td>\n",
       "      <td>47.52</td>\n",
       "      <td>800</td>\n",
       "      <td>201811</td>\n",
       "      <td></td>\n",
       "    </tr>\n",
       "    <tr>\n",
       "      <th>2</th>\n",
       "      <td>Q44</td>\n",
       "      <td>RXA</td>\n",
       "      <td>Y00327</td>\n",
       "      <td>0501011P0AAAJAJ</td>\n",
       "      <td>Phenoxymethylpenicillin Pot_Tab 250mg</td>\n",
       "      <td>18</td>\n",
       "      <td>39.36</td>\n",
       "      <td>38.21</td>\n",
       "      <td>1312</td>\n",
       "      <td>201811</td>\n",
       "      <td></td>\n",
       "    </tr>\n",
       "    <tr>\n",
       "      <th>3</th>\n",
       "      <td>Q44</td>\n",
       "      <td>RXA</td>\n",
       "      <td>Y00327</td>\n",
       "      <td>0501011P0AAARAR</td>\n",
       "      <td>Phenoxymethylpenicillin_Soln 125mg/5mlSF</td>\n",
       "      <td>2</td>\n",
       "      <td>36.20</td>\n",
       "      <td>33.58</td>\n",
       "      <td>400</td>\n",
       "      <td>201811</td>\n",
       "      <td></td>\n",
       "    </tr>\n",
       "    <tr>\n",
       "      <th>4</th>\n",
       "      <td>Q44</td>\n",
       "      <td>RXA</td>\n",
       "      <td>Y00327</td>\n",
       "      <td>0501011P0AAASAS</td>\n",
       "      <td>Phenoxymethylpenicillin_Soln 250mg/5mlSF</td>\n",
       "      <td>1</td>\n",
       "      <td>7.53</td>\n",
       "      <td>6.99</td>\n",
       "      <td>100</td>\n",
       "      <td>201811</td>\n",
       "      <td></td>\n",
       "    </tr>\n",
       "  </tbody>\n",
       "</table>\n",
       "</div>"
      ],
      "text/plain": [
       "   SHA  PCT PRACTICE         BNF CODE  \\\n",
       "0  Q44  RXA   Y00327  0501011P0AAADAD   \n",
       "1  Q44  RXA   Y00327  0501011P0AAAFAF   \n",
       "2  Q44  RXA   Y00327  0501011P0AAAJAJ   \n",
       "3  Q44  RXA   Y00327  0501011P0AAARAR   \n",
       "4  Q44  RXA   Y00327  0501011P0AAASAS   \n",
       "\n",
       "  BNF NAME                                      ITEMS    NIC          \\\n",
       "0     Phenoxymethylpenicillin_Soln 125mg/5ml         12       120.78   \n",
       "1     Phenoxymethylpenicillin_Soln 250mg/5ml          5        51.20   \n",
       "2     Phenoxymethylpenicillin Pot_Tab 250mg          18        39.36   \n",
       "3     Phenoxymethylpenicillin_Soln 125mg/5mlSF        2        36.20   \n",
       "4     Phenoxymethylpenicillin_Soln 250mg/5mlSF        1         7.53   \n",
       "\n",
       "   ACT COST     QUANTITY  PERIOD                      \n",
       "0       112.10      2200  201811                      \n",
       "1        47.52       800  201811                      \n",
       "2        38.21      1312  201811                      \n",
       "3        33.58       400  201811                      \n",
       "4         6.99       100  201811                      "
      ]
     },
     "execution_count": 25,
     "metadata": {},
     "output_type": "execute_result"
    }
   ],
   "source": [
    "data.head()"
   ]
  },
  {
   "cell_type": "code",
   "execution_count": 26,
   "metadata": {
    "collapsed": false
   },
   "outputs": [
    {
     "data": {
      "text/plain": [
       " SHA                                             object\n",
       "PCT                                              object\n",
       "PRACTICE                                         object\n",
       "BNF CODE                                         object\n",
       "BNF NAME                                         object\n",
       "ITEMS                                             int64\n",
       "NIC                                             float64\n",
       "ACT COST                                        float64\n",
       "QUANTITY                                          int64\n",
       "PERIOD                                            int64\n",
       "                                                 object\n",
       "dtype: object"
      ]
     },
     "execution_count": 26,
     "metadata": {},
     "output_type": "execute_result"
    }
   ],
   "source": [
    "data.dtypes"
   ]
  },
  {
   "cell_type": "markdown",
   "metadata": {},
   "source": [
    "All the values in a column have the same type. For example, months have type int64, which is a kind of integer. Cells in the month column cannot have fractional values, but the weight and hindfoot_length columns can, because they have type float64. The object type doesn’t have a very helpful name, but in this case it represents strings (such as ‘M’ and ‘F’ in the case of sex)."
   ]
  },
  {
   "cell_type": "code",
   "execution_count": 27,
   "metadata": {
    "collapsed": false
   },
   "outputs": [
    {
     "data": {
      "text/plain": [
       "Index([' SHA', 'PCT', 'PRACTICE', 'BNF CODE',\n",
       "       'BNF NAME                                    ', 'ITEMS  ',\n",
       "       'NIC        ', 'ACT COST   ', 'QUANTITY', 'PERIOD',\n",
       "       '                 '],\n",
       "      dtype='object')"
      ]
     },
     "execution_count": 27,
     "metadata": {},
     "output_type": "execute_result"
    }
   ],
   "source": [
    "data.columns"
   ]
  },
  {
   "cell_type": "markdown",
   "metadata": {},
   "source": [
    "## Accessing Data\n",
    "\n",
    "### Accessing one column\n",
    "\n",
    "`frame[colname]` will return the series corresponding to `colname`.\n",
    "\n",
    "It is also possible to access the column of a DataFrame using `frame.colname`. \n",
    "\n",
    "### Accessing two or more columns\n",
    "\n",
    "You can pass a list of columns to [] to select columns in that order. For example, `frame[[colname1, colname2]]`.\n",
    "\n",
    "### Accessing one row\n",
    "\n",
    "`frame.loc[row_indexer, :]` will return the one row with one column.\n",
    "\n",
    "### Boolean indexing\n",
    "\n",
    "Another common operation is the use of boolean vectors to filter the data. The operators are: | for or, & for and, and ~ for not. These must be grouped using parentheses, since by default Python will evaluate an expression such as `df.A > 2 & df.B < 3` as `df.A > (2 & df.B) < 3`, while the desired evaluation order is `(df.A > 2) & (df.B < 3)`."
   ]
  },
  {
   "cell_type": "markdown",
   "metadata": {},
   "source": [
    "**Exercise**\n",
    "\n",
    "What values do we have on the column `PERIOD`?"
   ]
  },
  {
   "cell_type": "code",
   "execution_count": 60,
   "metadata": {
    "collapsed": false
   },
   "outputs": [
    {
     "data": {
      "text/plain": [
       "0     201811\n",
       "1     201811\n",
       "2     201811\n",
       "3     201811\n",
       "4     201811\n",
       "5     201811\n",
       "6     201811\n",
       "7     201811\n",
       "8     201811\n",
       "9     201811\n",
       "10    201811\n",
       "11    201811\n",
       "12    201811\n",
       "Name: PERIOD, dtype: int64"
      ]
     },
     "execution_count": 60,
     "metadata": {},
     "output_type": "execute_result"
    }
   ],
   "source": [
    "sample[\"PERIOD\"]"
   ]
  },
  {
   "cell_type": "code",
   "execution_count": 61,
   "metadata": {
    "collapsed": false
   },
   "outputs": [
    {
     "data": {
      "text/plain": [
       "0     Y00327\n",
       "1     Y00327\n",
       "2     Y00327\n",
       "3     Y00327\n",
       "4     Y00327\n",
       "5     Y00327\n",
       "6     N85638\n",
       "7     N85638\n",
       "8     N85645\n",
       "9     N85645\n",
       "10    N85645\n",
       "11       NaN\n",
       "12    N85645\n",
       "Name: PRACTICE, dtype: object"
      ]
     },
     "execution_count": 61,
     "metadata": {},
     "output_type": "execute_result"
    }
   ],
   "source": [
    "sample[\"PRACTICE\"]"
   ]
  },
  {
   "cell_type": "code",
   "execution_count": 62,
   "metadata": {
    "collapsed": false
   },
   "outputs": [
    {
     "data": {
      "text/plain": [
       "array([201811])"
      ]
     },
     "execution_count": 62,
     "metadata": {},
     "output_type": "execute_result"
    }
   ],
   "source": [
    "data[\"PERIOD\"].unique()"
   ]
  },
  {
   "cell_type": "code",
   "execution_count": 63,
   "metadata": {
    "collapsed": false
   },
   "outputs": [
    {
     "data": {
      "text/html": [
       "<div>\n",
       "<style>\n",
       "    .dataframe thead tr:only-child th {\n",
       "        text-align: right;\n",
       "    }\n",
       "\n",
       "    .dataframe thead th {\n",
       "        text-align: left;\n",
       "    }\n",
       "\n",
       "    .dataframe tbody tr th {\n",
       "        vertical-align: top;\n",
       "    }\n",
       "</style>\n",
       "<table border=\"1\" class=\"dataframe\">\n",
       "  <thead>\n",
       "    <tr style=\"text-align: right;\">\n",
       "      <th></th>\n",
       "      <th>PRACTICE</th>\n",
       "      <th>PERIOD</th>\n",
       "    </tr>\n",
       "  </thead>\n",
       "  <tbody>\n",
       "    <tr>\n",
       "      <th>0</th>\n",
       "      <td>Y00327</td>\n",
       "      <td>201811</td>\n",
       "    </tr>\n",
       "    <tr>\n",
       "      <th>1</th>\n",
       "      <td>Y00327</td>\n",
       "      <td>201811</td>\n",
       "    </tr>\n",
       "    <tr>\n",
       "      <th>2</th>\n",
       "      <td>Y00327</td>\n",
       "      <td>201811</td>\n",
       "    </tr>\n",
       "    <tr>\n",
       "      <th>3</th>\n",
       "      <td>Y00327</td>\n",
       "      <td>201811</td>\n",
       "    </tr>\n",
       "    <tr>\n",
       "      <th>4</th>\n",
       "      <td>Y00327</td>\n",
       "      <td>201811</td>\n",
       "    </tr>\n",
       "    <tr>\n",
       "      <th>5</th>\n",
       "      <td>Y00327</td>\n",
       "      <td>201811</td>\n",
       "    </tr>\n",
       "    <tr>\n",
       "      <th>6</th>\n",
       "      <td>N85638</td>\n",
       "      <td>201811</td>\n",
       "    </tr>\n",
       "    <tr>\n",
       "      <th>7</th>\n",
       "      <td>N85638</td>\n",
       "      <td>201811</td>\n",
       "    </tr>\n",
       "    <tr>\n",
       "      <th>8</th>\n",
       "      <td>N85645</td>\n",
       "      <td>201811</td>\n",
       "    </tr>\n",
       "    <tr>\n",
       "      <th>9</th>\n",
       "      <td>N85645</td>\n",
       "      <td>201811</td>\n",
       "    </tr>\n",
       "    <tr>\n",
       "      <th>10</th>\n",
       "      <td>N85645</td>\n",
       "      <td>201811</td>\n",
       "    </tr>\n",
       "    <tr>\n",
       "      <th>11</th>\n",
       "      <td>NaN</td>\n",
       "      <td>201811</td>\n",
       "    </tr>\n",
       "    <tr>\n",
       "      <th>12</th>\n",
       "      <td>N85645</td>\n",
       "      <td>201811</td>\n",
       "    </tr>\n",
       "  </tbody>\n",
       "</table>\n",
       "</div>"
      ],
      "text/plain": [
       "   PRACTICE  PERIOD\n",
       "0    Y00327  201811\n",
       "1    Y00327  201811\n",
       "2    Y00327  201811\n",
       "3    Y00327  201811\n",
       "4    Y00327  201811\n",
       "5    Y00327  201811\n",
       "6    N85638  201811\n",
       "7    N85638  201811\n",
       "8    N85645  201811\n",
       "9    N85645  201811\n",
       "10   N85645  201811\n",
       "11      NaN  201811\n",
       "12   N85645  201811"
      ]
     },
     "execution_count": 63,
     "metadata": {},
     "output_type": "execute_result"
    }
   ],
   "source": [
    "sample[[\"PRACTICE\", \"PERIOD\"]]"
   ]
  },
  {
   "cell_type": "markdown",
   "metadata": {},
   "source": [
    "**Exercise**\n",
    "\n",
    "What are the values on the fifth row? **Note that the index of the first row is 0.**"
   ]
  },
  {
   "cell_type": "code",
   "execution_count": 64,
   "metadata": {
    "collapsed": false
   },
   "outputs": [
    {
     "data": {
      "text/plain": [
       " SHA                                                                                 Q44\n",
       "PCT                                                                                  RXA\n",
       "PRACTICE                                                                          Y00327\n",
       "BNF CODE                                                                 0501011P0AAASAS\n",
       "BNF NAME                                        Phenoxymethylpenicillin_Soln 250mg/5mlSF\n",
       "ITEMS                                                                                  1\n",
       "NIC                                                                                 7.53\n",
       "ACT COST                                                                            6.99\n",
       "QUANTITY                                                                             100\n",
       "PERIOD                                                                            201811\n",
       "                                                                                        \n",
       "Name: 4, dtype: object"
      ]
     },
     "execution_count": 64,
     "metadata": {},
     "output_type": "execute_result"
    }
   ],
   "source": [
    "data.loc[4, :]"
   ]
  },
  {
   "cell_type": "code",
   "execution_count": 65,
   "metadata": {
    "collapsed": false
   },
   "outputs": [
    {
     "data": {
      "text/html": [
       "<div>\n",
       "<style>\n",
       "    .dataframe thead tr:only-child th {\n",
       "        text-align: right;\n",
       "    }\n",
       "\n",
       "    .dataframe thead th {\n",
       "        text-align: left;\n",
       "    }\n",
       "\n",
       "    .dataframe tbody tr th {\n",
       "        vertical-align: top;\n",
       "    }\n",
       "</style>\n",
       "<table border=\"1\" class=\"dataframe\">\n",
       "  <thead>\n",
       "    <tr style=\"text-align: right;\">\n",
       "      <th></th>\n",
       "      <th>SHA</th>\n",
       "      <th>PCT</th>\n",
       "      <th>PRACTICE</th>\n",
       "      <th>BNF CODE</th>\n",
       "      <th>BNF NAME</th>\n",
       "      <th>ITEMS</th>\n",
       "      <th>NIC</th>\n",
       "      <th>ACT COST</th>\n",
       "      <th>QUANTITY</th>\n",
       "      <th>PERIOD</th>\n",
       "      <th></th>\n",
       "    </tr>\n",
       "  </thead>\n",
       "  <tbody>\n",
       "    <tr>\n",
       "      <th>4</th>\n",
       "      <td>Q44</td>\n",
       "      <td>RXA</td>\n",
       "      <td>Y00327</td>\n",
       "      <td>0501011P0AAASAS</td>\n",
       "      <td>Phenoxymethylpenicillin_Soln 250mg/5mlSF</td>\n",
       "      <td>1</td>\n",
       "      <td>7.53</td>\n",
       "      <td>6.99</td>\n",
       "      <td>100</td>\n",
       "      <td>201811</td>\n",
       "      <td></td>\n",
       "    </tr>\n",
       "    <tr>\n",
       "      <th>7</th>\n",
       "      <td>Q44</td>\n",
       "      <td>RXA</td>\n",
       "      <td>Y00327</td>\n",
       "      <td>0501012G0AAAGAG</td>\n",
       "      <td>Fluclox Sod_Oral Soln 250mg/5ml</td>\n",
       "      <td>3</td>\n",
       "      <td>148.00</td>\n",
       "      <td>137.23</td>\n",
       "      <td>500</td>\n",
       "      <td>201811</td>\n",
       "      <td></td>\n",
       "    </tr>\n",
       "  </tbody>\n",
       "</table>\n",
       "</div>"
      ],
      "text/plain": [
       "   SHA  PCT PRACTICE         BNF CODE  \\\n",
       "4  Q44  RXA   Y00327  0501011P0AAASAS   \n",
       "7  Q44  RXA   Y00327  0501012G0AAAGAG   \n",
       "\n",
       "  BNF NAME                                      ITEMS    NIC          \\\n",
       "4     Phenoxymethylpenicillin_Soln 250mg/5mlSF        1         7.53   \n",
       "7     Fluclox Sod_Oral Soln 250mg/5ml                 3       148.00   \n",
       "\n",
       "   ACT COST     QUANTITY  PERIOD                      \n",
       "4         6.99       100  201811                      \n",
       "7       137.23       500  201811                      "
      ]
     },
     "execution_count": 65,
     "metadata": {},
     "output_type": "execute_result"
    }
   ],
   "source": [
    "data.loc[[4, 7], :]"
   ]
  },
  {
   "cell_type": "markdown",
   "metadata": {},
   "source": [
    "**Exercise**\n",
    "\n",
    "Which practices are on rows with index 0, 133 and 671."
   ]
  },
  {
   "cell_type": "code",
   "execution_count": 30,
   "metadata": {
    "collapsed": false
   },
   "outputs": [
    {
     "data": {
      "text/plain": [
       "0      Y00327\n",
       "133    N85645\n",
       "671    N81062\n",
       "Name: PRACTICE, dtype: object"
      ]
     },
     "execution_count": 30,
     "metadata": {},
     "output_type": "execute_result"
    }
   ],
   "source": [
    "data.loc[[0, 133, 671], \"PRACTICE\"]"
   ]
  },
  {
   "cell_type": "code",
   "execution_count": 31,
   "metadata": {
    "collapsed": false
   },
   "outputs": [
    {
     "data": {
      "text/html": [
       "<div>\n",
       "<style>\n",
       "    .dataframe thead tr:only-child th {\n",
       "        text-align: right;\n",
       "    }\n",
       "\n",
       "    .dataframe thead th {\n",
       "        text-align: left;\n",
       "    }\n",
       "\n",
       "    .dataframe tbody tr th {\n",
       "        vertical-align: top;\n",
       "    }\n",
       "</style>\n",
       "<table border=\"1\" class=\"dataframe\">\n",
       "  <thead>\n",
       "    <tr style=\"text-align: right;\">\n",
       "      <th></th>\n",
       "      <th>PRACTICE</th>\n",
       "    </tr>\n",
       "  </thead>\n",
       "  <tbody>\n",
       "    <tr>\n",
       "      <th>0</th>\n",
       "      <td>Y00327</td>\n",
       "    </tr>\n",
       "    <tr>\n",
       "      <th>133</th>\n",
       "      <td>N85645</td>\n",
       "    </tr>\n",
       "    <tr>\n",
       "      <th>671</th>\n",
       "      <td>N81062</td>\n",
       "    </tr>\n",
       "  </tbody>\n",
       "</table>\n",
       "</div>"
      ],
      "text/plain": [
       "    PRACTICE\n",
       "0     Y00327\n",
       "133   N85645\n",
       "671   N81062"
      ]
     },
     "execution_count": 31,
     "metadata": {},
     "output_type": "execute_result"
    }
   ],
   "source": [
    "data.loc[[0, 133, 671], [\"PRACTICE\"]]"
   ]
  },
  {
   "cell_type": "markdown",
   "metadata": {},
   "source": [
    "Note the difference of the result on the previous two examples. On the first one, the type is Series and on the second one is Frame."
   ]
  },
  {
   "cell_type": "markdown",
   "metadata": {},
   "source": [
    "**Aim**\n",
    "\n",
    "What are all the presciptions coming from practice N85645?"
   ]
  },
  {
   "cell_type": "code",
   "execution_count": 66,
   "metadata": {
    "collapsed": false
   },
   "outputs": [
    {
     "data": {
      "text/html": [
       "<div>\n",
       "<style>\n",
       "    .dataframe thead tr:only-child th {\n",
       "        text-align: right;\n",
       "    }\n",
       "\n",
       "    .dataframe thead th {\n",
       "        text-align: left;\n",
       "    }\n",
       "\n",
       "    .dataframe tbody tr th {\n",
       "        vertical-align: top;\n",
       "    }\n",
       "</style>\n",
       "<table border=\"1\" class=\"dataframe\">\n",
       "  <thead>\n",
       "    <tr style=\"text-align: right;\">\n",
       "      <th></th>\n",
       "      <th>SHA</th>\n",
       "      <th>PCT</th>\n",
       "      <th>PRACTICE</th>\n",
       "      <th>BNF CODE</th>\n",
       "      <th>BNF NAME</th>\n",
       "      <th>ITEMS</th>\n",
       "      <th>NIC</th>\n",
       "      <th>ACT COST</th>\n",
       "      <th>QUANTITY</th>\n",
       "      <th>PERIOD</th>\n",
       "      <th></th>\n",
       "    </tr>\n",
       "  </thead>\n",
       "  <tbody>\n",
       "    <tr>\n",
       "      <th>0</th>\n",
       "      <td>Q44</td>\n",
       "      <td>RXA</td>\n",
       "      <td>Y00327</td>\n",
       "      <td>0501011P0AAADAD</td>\n",
       "      <td>Phenoxymethylpenicillin_Soln 125mg/5ml</td>\n",
       "      <td>12</td>\n",
       "      <td>120.78</td>\n",
       "      <td>112.10</td>\n",
       "      <td>2200</td>\n",
       "      <td>201811</td>\n",
       "      <td></td>\n",
       "    </tr>\n",
       "    <tr>\n",
       "      <th>1</th>\n",
       "      <td>Q44</td>\n",
       "      <td>RXA</td>\n",
       "      <td>Y00327</td>\n",
       "      <td>0501011P0AAAFAF</td>\n",
       "      <td>Phenoxymethylpenicillin_Soln 250mg/5ml</td>\n",
       "      <td>5</td>\n",
       "      <td>51.20</td>\n",
       "      <td>47.52</td>\n",
       "      <td>800</td>\n",
       "      <td>201811</td>\n",
       "      <td></td>\n",
       "    </tr>\n",
       "    <tr>\n",
       "      <th>2</th>\n",
       "      <td>Q44</td>\n",
       "      <td>RXA</td>\n",
       "      <td>Y00327</td>\n",
       "      <td>0501012G0AAAAAA</td>\n",
       "      <td>Fluclox Sod_Cap 250mg</td>\n",
       "      <td>4</td>\n",
       "      <td>3.42</td>\n",
       "      <td>3.42</td>\n",
       "      <td>96</td>\n",
       "      <td>201811</td>\n",
       "      <td></td>\n",
       "    </tr>\n",
       "    <tr>\n",
       "      <th>3</th>\n",
       "      <td>Q44</td>\n",
       "      <td>RXA</td>\n",
       "      <td>Y00327</td>\n",
       "      <td>0501013B0AAAAAA</td>\n",
       "      <td>Amoxicillin_Cap 250mg</td>\n",
       "      <td>1</td>\n",
       "      <td>0.92</td>\n",
       "      <td>0.87</td>\n",
       "      <td>21</td>\n",
       "      <td>201811</td>\n",
       "      <td></td>\n",
       "    </tr>\n",
       "    <tr>\n",
       "      <th>4</th>\n",
       "      <td>Q44</td>\n",
       "      <td>RXA</td>\n",
       "      <td>Y00327</td>\n",
       "      <td>0501013B0AAABAB</td>\n",
       "      <td>Amoxicillin_Cap 500mg</td>\n",
       "      <td>32</td>\n",
       "      <td>33.00</td>\n",
       "      <td>30.98</td>\n",
       "      <td>660</td>\n",
       "      <td>201811</td>\n",
       "      <td></td>\n",
       "    </tr>\n",
       "    <tr>\n",
       "      <th>5</th>\n",
       "      <td>Q44</td>\n",
       "      <td>RXA</td>\n",
       "      <td>Y00327</td>\n",
       "      <td>0501013B0AAAJAJ</td>\n",
       "      <td>Amoxicillin_Oral Susp 125mg/5ml</td>\n",
       "      <td>7</td>\n",
       "      <td>15.07</td>\n",
       "      <td>14.05</td>\n",
       "      <td>1100</td>\n",
       "      <td>201811</td>\n",
       "      <td></td>\n",
       "    </tr>\n",
       "    <tr>\n",
       "      <th>6</th>\n",
       "      <td>Q44</td>\n",
       "      <td>RY7</td>\n",
       "      <td>N85638</td>\n",
       "      <td>0501011P0AAADAD</td>\n",
       "      <td>Phenoxymethylpenicillin_Soln 125mg/5ml</td>\n",
       "      <td>8</td>\n",
       "      <td>76.86</td>\n",
       "      <td>71.34</td>\n",
       "      <td>1400</td>\n",
       "      <td>201811</td>\n",
       "      <td></td>\n",
       "    </tr>\n",
       "    <tr>\n",
       "      <th>7</th>\n",
       "      <td>Q44</td>\n",
       "      <td>RY7</td>\n",
       "      <td>N85638</td>\n",
       "      <td>0501011P0AAAJAJ</td>\n",
       "      <td>Phenoxymethylpenicillin Pot_Tab 250mg</td>\n",
       "      <td>23</td>\n",
       "      <td>49.80</td>\n",
       "      <td>48.45</td>\n",
       "      <td>1660</td>\n",
       "      <td>201811</td>\n",
       "      <td></td>\n",
       "    </tr>\n",
       "    <tr>\n",
       "      <th>8</th>\n",
       "      <td>Q44</td>\n",
       "      <td>RY7</td>\n",
       "      <td>N85645</td>\n",
       "      <td>0501012G0AAAAAA</td>\n",
       "      <td>Fluclox Sod_Cap 250mg</td>\n",
       "      <td>2</td>\n",
       "      <td>3.00</td>\n",
       "      <td>2.81</td>\n",
       "      <td>84</td>\n",
       "      <td>201811</td>\n",
       "      <td></td>\n",
       "    </tr>\n",
       "    <tr>\n",
       "      <th>9</th>\n",
       "      <td>Q44</td>\n",
       "      <td>RY7</td>\n",
       "      <td>N85645</td>\n",
       "      <td>0501012G0AAABAB</td>\n",
       "      <td>Fluclox Sod_Cap 500mg</td>\n",
       "      <td>92</td>\n",
       "      <td>197.09</td>\n",
       "      <td>184.23</td>\n",
       "      <td>2588</td>\n",
       "      <td>201811</td>\n",
       "      <td></td>\n",
       "    </tr>\n",
       "    <tr>\n",
       "      <th>10</th>\n",
       "      <td>Q44</td>\n",
       "      <td>RY7</td>\n",
       "      <td>N85645</td>\n",
       "      <td>0501012G0AAAFAF</td>\n",
       "      <td>Fluclox Sod_Oral Soln 125mg/5ml</td>\n",
       "      <td>8</td>\n",
       "      <td>85.93</td>\n",
       "      <td>79.76</td>\n",
       "      <td>1300</td>\n",
       "      <td>201811</td>\n",
       "      <td></td>\n",
       "    </tr>\n",
       "    <tr>\n",
       "      <th>11</th>\n",
       "      <td>Q44</td>\n",
       "      <td>RY7</td>\n",
       "      <td>NaN</td>\n",
       "      <td>0501013B0AAAAAA</td>\n",
       "      <td>Amoxicillin_Cap 250mg</td>\n",
       "      <td>1</td>\n",
       "      <td>0.66</td>\n",
       "      <td>0.62</td>\n",
       "      <td>15</td>\n",
       "      <td>201811</td>\n",
       "      <td></td>\n",
       "    </tr>\n",
       "    <tr>\n",
       "      <th>12</th>\n",
       "      <td>Q44</td>\n",
       "      <td>RY7</td>\n",
       "      <td>N85645</td>\n",
       "      <td>0501013B0AAABAB</td>\n",
       "      <td>Amoxicillin_Cap 500mg</td>\n",
       "      <td>71</td>\n",
       "      <td>54.30</td>\n",
       "      <td>51.24</td>\n",
       "      <td>1086</td>\n",
       "      <td>201811</td>\n",
       "      <td></td>\n",
       "    </tr>\n",
       "  </tbody>\n",
       "</table>\n",
       "</div>"
      ],
      "text/plain": [
       "    SHA  PCT PRACTICE         BNF CODE  \\\n",
       "0   Q44  RXA   Y00327  0501011P0AAADAD   \n",
       "1   Q44  RXA   Y00327  0501011P0AAAFAF   \n",
       "2   Q44  RXA   Y00327  0501012G0AAAAAA   \n",
       "3   Q44  RXA   Y00327  0501013B0AAAAAA   \n",
       "4   Q44  RXA   Y00327  0501013B0AAABAB   \n",
       "5   Q44  RXA   Y00327  0501013B0AAAJAJ   \n",
       "6   Q44  RY7   N85638  0501011P0AAADAD   \n",
       "7   Q44  RY7   N85638  0501011P0AAAJAJ   \n",
       "8   Q44  RY7   N85645  0501012G0AAAAAA   \n",
       "9   Q44  RY7   N85645  0501012G0AAABAB   \n",
       "10  Q44  RY7   N85645  0501012G0AAAFAF   \n",
       "11  Q44  RY7      NaN  0501013B0AAAAAA   \n",
       "12  Q44  RY7   N85645  0501013B0AAABAB   \n",
       "\n",
       "   BNF NAME                                      ITEMS    NIC          \\\n",
       "0      Phenoxymethylpenicillin_Soln 125mg/5ml         12       120.78   \n",
       "1      Phenoxymethylpenicillin_Soln 250mg/5ml          5        51.20   \n",
       "2      Fluclox Sod_Cap 250mg                           4         3.42   \n",
       "3      Amoxicillin_Cap 250mg                           1         0.92   \n",
       "4      Amoxicillin_Cap 500mg                          32        33.00   \n",
       "5      Amoxicillin_Oral Susp 125mg/5ml                 7        15.07   \n",
       "6      Phenoxymethylpenicillin_Soln 125mg/5ml          8        76.86   \n",
       "7      Phenoxymethylpenicillin Pot_Tab 250mg          23        49.80   \n",
       "8      Fluclox Sod_Cap 250mg                           2         3.00   \n",
       "9      Fluclox Sod_Cap 500mg                          92       197.09   \n",
       "10     Fluclox Sod_Oral Soln 125mg/5ml                 8        85.93   \n",
       "11     Amoxicillin_Cap 250mg                           1         0.66   \n",
       "12     Amoxicillin_Cap 500mg                          71        54.30   \n",
       "\n",
       "    ACT COST     QUANTITY  PERIOD                      \n",
       "0        112.10      2200  201811                      \n",
       "1         47.52       800  201811                      \n",
       "2          3.42        96  201811                      \n",
       "3          0.87        21  201811                      \n",
       "4         30.98       660  201811                      \n",
       "5         14.05      1100  201811                      \n",
       "6         71.34      1400  201811                      \n",
       "7         48.45      1660  201811                      \n",
       "8          2.81        84  201811                      \n",
       "9        184.23      2588  201811                      \n",
       "10        79.76      1300  201811                      \n",
       "11         0.62        15  201811                      \n",
       "12        51.24      1086  201811                      "
      ]
     },
     "execution_count": 66,
     "metadata": {},
     "output_type": "execute_result"
    }
   ],
   "source": [
    "sample"
   ]
  },
  {
   "cell_type": "code",
   "execution_count": 67,
   "metadata": {
    "collapsed": false
   },
   "outputs": [
    {
     "data": {
      "text/html": [
       "<div>\n",
       "<style>\n",
       "    .dataframe thead tr:only-child th {\n",
       "        text-align: right;\n",
       "    }\n",
       "\n",
       "    .dataframe thead th {\n",
       "        text-align: left;\n",
       "    }\n",
       "\n",
       "    .dataframe tbody tr th {\n",
       "        vertical-align: top;\n",
       "    }\n",
       "</style>\n",
       "<table border=\"1\" class=\"dataframe\">\n",
       "  <thead>\n",
       "    <tr style=\"text-align: right;\">\n",
       "      <th></th>\n",
       "      <th>SHA</th>\n",
       "      <th>PCT</th>\n",
       "      <th>PRACTICE</th>\n",
       "      <th>BNF CODE</th>\n",
       "      <th>BNF NAME</th>\n",
       "      <th>ITEMS</th>\n",
       "      <th>NIC</th>\n",
       "      <th>ACT COST</th>\n",
       "      <th>QUANTITY</th>\n",
       "      <th>PERIOD</th>\n",
       "      <th></th>\n",
       "    </tr>\n",
       "  </thead>\n",
       "  <tbody>\n",
       "    <tr>\n",
       "      <th>6</th>\n",
       "      <td>Q44</td>\n",
       "      <td>RY7</td>\n",
       "      <td>N85638</td>\n",
       "      <td>0501011P0AAADAD</td>\n",
       "      <td>Phenoxymethylpenicillin_Soln 125mg/5ml</td>\n",
       "      <td>8</td>\n",
       "      <td>76.86</td>\n",
       "      <td>71.34</td>\n",
       "      <td>1400</td>\n",
       "      <td>201811</td>\n",
       "      <td></td>\n",
       "    </tr>\n",
       "    <tr>\n",
       "      <th>7</th>\n",
       "      <td>Q44</td>\n",
       "      <td>RY7</td>\n",
       "      <td>N85638</td>\n",
       "      <td>0501011P0AAAJAJ</td>\n",
       "      <td>Phenoxymethylpenicillin Pot_Tab 250mg</td>\n",
       "      <td>23</td>\n",
       "      <td>49.80</td>\n",
       "      <td>48.45</td>\n",
       "      <td>1660</td>\n",
       "      <td>201811</td>\n",
       "      <td></td>\n",
       "    </tr>\n",
       "  </tbody>\n",
       "</table>\n",
       "</div>"
      ],
      "text/plain": [
       "   SHA  PCT PRACTICE         BNF CODE  \\\n",
       "6  Q44  RY7   N85638  0501011P0AAADAD   \n",
       "7  Q44  RY7   N85638  0501011P0AAAJAJ   \n",
       "\n",
       "  BNF NAME                                      ITEMS    NIC          \\\n",
       "6     Phenoxymethylpenicillin_Soln 125mg/5ml          8        76.86   \n",
       "7     Phenoxymethylpenicillin Pot_Tab 250mg          23        49.80   \n",
       "\n",
       "   ACT COST     QUANTITY  PERIOD                      \n",
       "6        71.34      1400  201811                      \n",
       "7        48.45      1660  201811                      "
      ]
     },
     "execution_count": 67,
     "metadata": {},
     "output_type": "execute_result"
    }
   ],
   "source": [
    "sample[[\n",
    "    False,  # 0\n",
    "    False,  # 1\n",
    "    False,  # 2\n",
    "    False,  # 3\n",
    "    False,  # 4\n",
    "    False,  # 5\n",
    "    True,  # 6\n",
    "    True,  # 7\n",
    "    False,  # 8\n",
    "    False,  # 9\n",
    "    False,  # 10\n",
    "    False,  # 11\n",
    "    False,  # 12\n",
    "]]"
   ]
  },
  {
   "cell_type": "code",
   "execution_count": 68,
   "metadata": {
    "collapsed": false
   },
   "outputs": [
    {
     "data": {
      "text/plain": [
       "0     False\n",
       "1     False\n",
       "2     False\n",
       "3     False\n",
       "4     False\n",
       "5     False\n",
       "6      True\n",
       "7      True\n",
       "8     False\n",
       "9     False\n",
       "10    False\n",
       "11    False\n",
       "12    False\n",
       "Name: PRACTICE, dtype: bool"
      ]
     },
     "execution_count": 68,
     "metadata": {},
     "output_type": "execute_result"
    }
   ],
   "source": [
    "sample[\"PRACTICE\"] == \"N85638\""
   ]
  },
  {
   "cell_type": "code",
   "execution_count": 32,
   "metadata": {
    "collapsed": false
   },
   "outputs": [
    {
     "data": {
      "text/html": [
       "<div>\n",
       "<style>\n",
       "    .dataframe thead tr:only-child th {\n",
       "        text-align: right;\n",
       "    }\n",
       "\n",
       "    .dataframe thead th {\n",
       "        text-align: left;\n",
       "    }\n",
       "\n",
       "    .dataframe tbody tr th {\n",
       "        vertical-align: top;\n",
       "    }\n",
       "</style>\n",
       "<table border=\"1\" class=\"dataframe\">\n",
       "  <thead>\n",
       "    <tr style=\"text-align: right;\">\n",
       "      <th></th>\n",
       "      <th>SHA</th>\n",
       "      <th>PCT</th>\n",
       "      <th>PRACTICE</th>\n",
       "      <th>BNF CODE</th>\n",
       "      <th>BNF NAME</th>\n",
       "      <th>ITEMS</th>\n",
       "      <th>NIC</th>\n",
       "      <th>ACT COST</th>\n",
       "      <th>QUANTITY</th>\n",
       "      <th>PERIOD</th>\n",
       "      <th></th>\n",
       "    </tr>\n",
       "  </thead>\n",
       "  <tbody>\n",
       "    <tr>\n",
       "      <th>99</th>\n",
       "      <td>Q44</td>\n",
       "      <td>RY7</td>\n",
       "      <td>N85645</td>\n",
       "      <td>0501011P0AAADAD</td>\n",
       "      <td>Phenoxymethylpenicillin_Soln 125mg/5ml</td>\n",
       "      <td>7</td>\n",
       "      <td>71.37</td>\n",
       "      <td>66.24</td>\n",
       "      <td>1300</td>\n",
       "      <td>201811</td>\n",
       "      <td></td>\n",
       "    </tr>\n",
       "    <tr>\n",
       "      <th>100</th>\n",
       "      <td>Q44</td>\n",
       "      <td>RY7</td>\n",
       "      <td>N85645</td>\n",
       "      <td>0501011P0AAAFAF</td>\n",
       "      <td>Phenoxymethylpenicillin_Soln 250mg/5ml</td>\n",
       "      <td>7</td>\n",
       "      <td>76.80</td>\n",
       "      <td>71.28</td>\n",
       "      <td>1200</td>\n",
       "      <td>201811</td>\n",
       "      <td></td>\n",
       "    </tr>\n",
       "    <tr>\n",
       "      <th>101</th>\n",
       "      <td>Q44</td>\n",
       "      <td>RY7</td>\n",
       "      <td>N85645</td>\n",
       "      <td>0501011P0AAAJAJ</td>\n",
       "      <td>Phenoxymethylpenicillin Pot_Tab 250mg</td>\n",
       "      <td>37</td>\n",
       "      <td>77.10</td>\n",
       "      <td>75.60</td>\n",
       "      <td>2570</td>\n",
       "      <td>201811</td>\n",
       "      <td></td>\n",
       "    </tr>\n",
       "    <tr>\n",
       "      <th>102</th>\n",
       "      <td>Q44</td>\n",
       "      <td>RY7</td>\n",
       "      <td>N85645</td>\n",
       "      <td>0501011P0AAARAR</td>\n",
       "      <td>Phenoxymethylpenicillin_Soln 125mg/5mlSF</td>\n",
       "      <td>2</td>\n",
       "      <td>36.20</td>\n",
       "      <td>33.58</td>\n",
       "      <td>400</td>\n",
       "      <td>201811</td>\n",
       "      <td></td>\n",
       "    </tr>\n",
       "    <tr>\n",
       "      <th>103</th>\n",
       "      <td>Q44</td>\n",
       "      <td>RY7</td>\n",
       "      <td>N85645</td>\n",
       "      <td>0501012G0AAAAAA</td>\n",
       "      <td>Fluclox Sod_Cap 250mg</td>\n",
       "      <td>2</td>\n",
       "      <td>3.00</td>\n",
       "      <td>2.81</td>\n",
       "      <td>84</td>\n",
       "      <td>201811</td>\n",
       "      <td></td>\n",
       "    </tr>\n",
       "    <tr>\n",
       "      <th>104</th>\n",
       "      <td>Q44</td>\n",
       "      <td>RY7</td>\n",
       "      <td>N85645</td>\n",
       "      <td>0501012G0AAABAB</td>\n",
       "      <td>Fluclox Sod_Cap 500mg</td>\n",
       "      <td>92</td>\n",
       "      <td>197.09</td>\n",
       "      <td>184.23</td>\n",
       "      <td>2588</td>\n",
       "      <td>201811</td>\n",
       "      <td></td>\n",
       "    </tr>\n",
       "    <tr>\n",
       "      <th>105</th>\n",
       "      <td>Q44</td>\n",
       "      <td>RY7</td>\n",
       "      <td>N85645</td>\n",
       "      <td>0501012G0AAAFAF</td>\n",
       "      <td>Fluclox Sod_Oral Soln 125mg/5ml</td>\n",
       "      <td>8</td>\n",
       "      <td>85.93</td>\n",
       "      <td>79.76</td>\n",
       "      <td>1300</td>\n",
       "      <td>201811</td>\n",
       "      <td></td>\n",
       "    </tr>\n",
       "    <tr>\n",
       "      <th>106</th>\n",
       "      <td>Q44</td>\n",
       "      <td>RY7</td>\n",
       "      <td>N85645</td>\n",
       "      <td>0501012G0AAAGAG</td>\n",
       "      <td>Fluclox Sod_Oral Soln 250mg/5ml</td>\n",
       "      <td>4</td>\n",
       "      <td>236.80</td>\n",
       "      <td>219.56</td>\n",
       "      <td>800</td>\n",
       "      <td>201811</td>\n",
       "      <td></td>\n",
       "    </tr>\n",
       "    <tr>\n",
       "      <th>107</th>\n",
       "      <td>Q44</td>\n",
       "      <td>RY7</td>\n",
       "      <td>N85645</td>\n",
       "      <td>0501012G0AAAQAQ</td>\n",
       "      <td>Fluclox Sod_Oral Soln 250mg/5ml S/F</td>\n",
       "      <td>3</td>\n",
       "      <td>187.74</td>\n",
       "      <td>174.06</td>\n",
       "      <td>700</td>\n",
       "      <td>201811</td>\n",
       "      <td></td>\n",
       "    </tr>\n",
       "    <tr>\n",
       "      <th>108</th>\n",
       "      <td>Q44</td>\n",
       "      <td>RY7</td>\n",
       "      <td>N85645</td>\n",
       "      <td>0501013B0AAAAAA</td>\n",
       "      <td>Amoxicillin_Cap 250mg</td>\n",
       "      <td>1</td>\n",
       "      <td>0.66</td>\n",
       "      <td>0.62</td>\n",
       "      <td>15</td>\n",
       "      <td>201811</td>\n",
       "      <td></td>\n",
       "    </tr>\n",
       "    <tr>\n",
       "      <th>109</th>\n",
       "      <td>Q44</td>\n",
       "      <td>RY7</td>\n",
       "      <td>N85645</td>\n",
       "      <td>0501013B0AAABAB</td>\n",
       "      <td>Amoxicillin_Cap 500mg</td>\n",
       "      <td>71</td>\n",
       "      <td>54.30</td>\n",
       "      <td>51.24</td>\n",
       "      <td>1086</td>\n",
       "      <td>201811</td>\n",
       "      <td></td>\n",
       "    </tr>\n",
       "    <tr>\n",
       "      <th>110</th>\n",
       "      <td>Q44</td>\n",
       "      <td>RY7</td>\n",
       "      <td>N85645</td>\n",
       "      <td>0501013B0AAAKAK</td>\n",
       "      <td>Amoxicillin_Oral Susp 250mg/5ml</td>\n",
       "      <td>12</td>\n",
       "      <td>24.80</td>\n",
       "      <td>23.14</td>\n",
       "      <td>1600</td>\n",
       "      <td>201811</td>\n",
       "      <td></td>\n",
       "    </tr>\n",
       "    <tr>\n",
       "      <th>111</th>\n",
       "      <td>Q44</td>\n",
       "      <td>RY7</td>\n",
       "      <td>N85645</td>\n",
       "      <td>0501013B0AAASAS</td>\n",
       "      <td>Amoxicillin_Oral Susp 125mg/5ml S/F</td>\n",
       "      <td>1</td>\n",
       "      <td>1.06</td>\n",
       "      <td>0.99</td>\n",
       "      <td>100</td>\n",
       "      <td>201811</td>\n",
       "      <td></td>\n",
       "    </tr>\n",
       "    <tr>\n",
       "      <th>112</th>\n",
       "      <td>Q44</td>\n",
       "      <td>RY7</td>\n",
       "      <td>N85645</td>\n",
       "      <td>0501013B0AAATAT</td>\n",
       "      <td>Amoxicillin_Oral Susp 250mg/5ml S/F</td>\n",
       "      <td>25</td>\n",
       "      <td>38.28</td>\n",
       "      <td>35.82</td>\n",
       "      <td>3300</td>\n",
       "      <td>201811</td>\n",
       "      <td></td>\n",
       "    </tr>\n",
       "    <tr>\n",
       "      <th>113</th>\n",
       "      <td>Q44</td>\n",
       "      <td>RY7</td>\n",
       "      <td>N85645</td>\n",
       "      <td>0501013K0AAAAAA</td>\n",
       "      <td>Co-Amoxiclav_Tab 250mg/125mg</td>\n",
       "      <td>6</td>\n",
       "      <td>10.62</td>\n",
       "      <td>9.90</td>\n",
       "      <td>126</td>\n",
       "      <td>201811</td>\n",
       "      <td></td>\n",
       "    </tr>\n",
       "    <tr>\n",
       "      <th>114</th>\n",
       "      <td>Q44</td>\n",
       "      <td>RY7</td>\n",
       "      <td>N85645</td>\n",
       "      <td>0501013K0AAADAD</td>\n",
       "      <td>Co-Amoxiclav_Susp 125mg/31mg/5ml S/F</td>\n",
       "      <td>1</td>\n",
       "      <td>1.61</td>\n",
       "      <td>1.50</td>\n",
       "      <td>100</td>\n",
       "      <td>201811</td>\n",
       "      <td></td>\n",
       "    </tr>\n",
       "    <tr>\n",
       "      <th>115</th>\n",
       "      <td>Q44</td>\n",
       "      <td>RY7</td>\n",
       "      <td>N85645</td>\n",
       "      <td>0501013K0AAAHAH</td>\n",
       "      <td>Co-Amoxiclav_Susp 125mg/31mg/5ml</td>\n",
       "      <td>1</td>\n",
       "      <td>5.00</td>\n",
       "      <td>4.65</td>\n",
       "      <td>100</td>\n",
       "      <td>201811</td>\n",
       "      <td></td>\n",
       "    </tr>\n",
       "    <tr>\n",
       "      <th>116</th>\n",
       "      <td>Q44</td>\n",
       "      <td>RY7</td>\n",
       "      <td>N85645</td>\n",
       "      <td>0501013K0AAAJAJ</td>\n",
       "      <td>Co-Amoxiclav_Tab 500mg/125mg</td>\n",
       "      <td>12</td>\n",
       "      <td>35.16</td>\n",
       "      <td>32.76</td>\n",
       "      <td>252</td>\n",
       "      <td>201811</td>\n",
       "      <td></td>\n",
       "    </tr>\n",
       "    <tr>\n",
       "      <th>117</th>\n",
       "      <td>Q44</td>\n",
       "      <td>RY7</td>\n",
       "      <td>N85645</td>\n",
       "      <td>0501021L0AAABAB</td>\n",
       "      <td>Cefalexin_Cap 500mg</td>\n",
       "      <td>1</td>\n",
       "      <td>0.58</td>\n",
       "      <td>0.65</td>\n",
       "      <td>6</td>\n",
       "      <td>201811</td>\n",
       "      <td></td>\n",
       "    </tr>\n",
       "    <tr>\n",
       "      <th>118</th>\n",
       "      <td>Q44</td>\n",
       "      <td>RY7</td>\n",
       "      <td>N85645</td>\n",
       "      <td>0501021L0AAAHAH</td>\n",
       "      <td>Cefalexin_Tab 500mg</td>\n",
       "      <td>2</td>\n",
       "      <td>2.60</td>\n",
       "      <td>2.53</td>\n",
       "      <td>27</td>\n",
       "      <td>201811</td>\n",
       "      <td></td>\n",
       "    </tr>\n",
       "    <tr>\n",
       "      <th>119</th>\n",
       "      <td>Q44</td>\n",
       "      <td>RY7</td>\n",
       "      <td>N85645</td>\n",
       "      <td>0501030I0AAABAB</td>\n",
       "      <td>Doxycycline Hyclate_Cap 100mg</td>\n",
       "      <td>22</td>\n",
       "      <td>16.90</td>\n",
       "      <td>17.05</td>\n",
       "      <td>186</td>\n",
       "      <td>201811</td>\n",
       "      <td></td>\n",
       "    </tr>\n",
       "    <tr>\n",
       "      <th>120</th>\n",
       "      <td>Q44</td>\n",
       "      <td>RY7</td>\n",
       "      <td>N85645</td>\n",
       "      <td>0501050B0AAAAAA</td>\n",
       "      <td>Clarithromycin_Tab 250mg</td>\n",
       "      <td>1</td>\n",
       "      <td>1.18</td>\n",
       "      <td>1.11</td>\n",
       "      <td>14</td>\n",
       "      <td>201811</td>\n",
       "      <td></td>\n",
       "    </tr>\n",
       "    <tr>\n",
       "      <th>121</th>\n",
       "      <td>Q44</td>\n",
       "      <td>RY7</td>\n",
       "      <td>N85645</td>\n",
       "      <td>0501050B0AAABAB</td>\n",
       "      <td>Clarithromycin_Oral Susp 125mg/5ml</td>\n",
       "      <td>4</td>\n",
       "      <td>18.78</td>\n",
       "      <td>17.45</td>\n",
       "      <td>420</td>\n",
       "      <td>201811</td>\n",
       "      <td></td>\n",
       "    </tr>\n",
       "    <tr>\n",
       "      <th>122</th>\n",
       "      <td>Q44</td>\n",
       "      <td>RY7</td>\n",
       "      <td>N85645</td>\n",
       "      <td>0501050B0AAADAD</td>\n",
       "      <td>Clarithromycin_Tab 500mg</td>\n",
       "      <td>22</td>\n",
       "      <td>36.11</td>\n",
       "      <td>34.95</td>\n",
       "      <td>270</td>\n",
       "      <td>201811</td>\n",
       "      <td></td>\n",
       "    </tr>\n",
       "    <tr>\n",
       "      <th>123</th>\n",
       "      <td>Q44</td>\n",
       "      <td>RY7</td>\n",
       "      <td>N85645</td>\n",
       "      <td>0501050B0AAAHAH</td>\n",
       "      <td>Clarithromycin_Oral Susp 250mg/5ml</td>\n",
       "      <td>1</td>\n",
       "      <td>8.64</td>\n",
       "      <td>8.02</td>\n",
       "      <td>140</td>\n",
       "      <td>201811</td>\n",
       "      <td></td>\n",
       "    </tr>\n",
       "    <tr>\n",
       "      <th>124</th>\n",
       "      <td>Q44</td>\n",
       "      <td>RY7</td>\n",
       "      <td>N85645</td>\n",
       "      <td>0501060D0AAABAB</td>\n",
       "      <td>Clindamycin HCl_Cap 150mg</td>\n",
       "      <td>1</td>\n",
       "      <td>8.05</td>\n",
       "      <td>7.57</td>\n",
       "      <td>56</td>\n",
       "      <td>201811</td>\n",
       "      <td></td>\n",
       "    </tr>\n",
       "    <tr>\n",
       "      <th>125</th>\n",
       "      <td>Q44</td>\n",
       "      <td>RY7</td>\n",
       "      <td>N85645</td>\n",
       "      <td>0501080W0AAADAD</td>\n",
       "      <td>Trimethoprim_Tab 100mg</td>\n",
       "      <td>1</td>\n",
       "      <td>0.19</td>\n",
       "      <td>0.29</td>\n",
       "      <td>6</td>\n",
       "      <td>201811</td>\n",
       "      <td></td>\n",
       "    </tr>\n",
       "    <tr>\n",
       "      <th>126</th>\n",
       "      <td>Q44</td>\n",
       "      <td>RY7</td>\n",
       "      <td>N85645</td>\n",
       "      <td>0501080W0AAAEAE</td>\n",
       "      <td>Trimethoprim_Tab 200mg</td>\n",
       "      <td>2</td>\n",
       "      <td>1.31</td>\n",
       "      <td>1.24</td>\n",
       "      <td>20</td>\n",
       "      <td>201811</td>\n",
       "      <td></td>\n",
       "    </tr>\n",
       "    <tr>\n",
       "      <th>127</th>\n",
       "      <td>Q44</td>\n",
       "      <td>RY7</td>\n",
       "      <td>N85645</td>\n",
       "      <td>0501080W0AAAIAI</td>\n",
       "      <td>Trimethoprim_Oral Susp 50mg/5ml S/F</td>\n",
       "      <td>10</td>\n",
       "      <td>34.19</td>\n",
       "      <td>32.42</td>\n",
       "      <td>610</td>\n",
       "      <td>201811</td>\n",
       "      <td></td>\n",
       "    </tr>\n",
       "    <tr>\n",
       "      <th>128</th>\n",
       "      <td>Q44</td>\n",
       "      <td>RY7</td>\n",
       "      <td>N85645</td>\n",
       "      <td>0501120L0AAAFAF</td>\n",
       "      <td>Ciprofloxacin_Tab 500mg</td>\n",
       "      <td>7</td>\n",
       "      <td>8.40</td>\n",
       "      <td>8.56</td>\n",
       "      <td>98</td>\n",
       "      <td>201811</td>\n",
       "      <td></td>\n",
       "    </tr>\n",
       "    <tr>\n",
       "      <th>129</th>\n",
       "      <td>Q44</td>\n",
       "      <td>RY7</td>\n",
       "      <td>N85645</td>\n",
       "      <td>0501130R0AAAAAA</td>\n",
       "      <td>Nitrofurantoin_Cap 50mg</td>\n",
       "      <td>4</td>\n",
       "      <td>24.68</td>\n",
       "      <td>23.33</td>\n",
       "      <td>48</td>\n",
       "      <td>201811</td>\n",
       "      <td></td>\n",
       "    </tr>\n",
       "    <tr>\n",
       "      <th>130</th>\n",
       "      <td>Q44</td>\n",
       "      <td>RY7</td>\n",
       "      <td>N85645</td>\n",
       "      <td>0501130R0AAABAB</td>\n",
       "      <td>Nitrofurantoin_Cap 100mg</td>\n",
       "      <td>1</td>\n",
       "      <td>4.86</td>\n",
       "      <td>4.62</td>\n",
       "      <td>14</td>\n",
       "      <td>201811</td>\n",
       "      <td></td>\n",
       "    </tr>\n",
       "    <tr>\n",
       "      <th>131</th>\n",
       "      <td>Q44</td>\n",
       "      <td>RY7</td>\n",
       "      <td>N85645</td>\n",
       "      <td>0501130R0AAADAD</td>\n",
       "      <td>Nitrofurantoin_Tab 50mg</td>\n",
       "      <td>10</td>\n",
       "      <td>46.24</td>\n",
       "      <td>43.89</td>\n",
       "      <td>136</td>\n",
       "      <td>201811</td>\n",
       "      <td></td>\n",
       "    </tr>\n",
       "    <tr>\n",
       "      <th>132</th>\n",
       "      <td>Q44</td>\n",
       "      <td>RY7</td>\n",
       "      <td>N85645</td>\n",
       "      <td>0501130R0AAAEAE</td>\n",
       "      <td>Nitrofurantoin_Tab 100mg</td>\n",
       "      <td>2</td>\n",
       "      <td>2.60</td>\n",
       "      <td>2.63</td>\n",
       "      <td>12</td>\n",
       "      <td>201811</td>\n",
       "      <td></td>\n",
       "    </tr>\n",
       "    <tr>\n",
       "      <th>133</th>\n",
       "      <td>Q44</td>\n",
       "      <td>RY7</td>\n",
       "      <td>N85645</td>\n",
       "      <td>0501130R0AAAGAG</td>\n",
       "      <td>Nitrofurantoin_Cap 100mg M/R</td>\n",
       "      <td>79</td>\n",
       "      <td>460.00</td>\n",
       "      <td>432.86</td>\n",
       "      <td>678</td>\n",
       "      <td>201811</td>\n",
       "      <td></td>\n",
       "    </tr>\n",
       "  </tbody>\n",
       "</table>\n",
       "</div>"
      ],
      "text/plain": [
       "     SHA  PCT PRACTICE         BNF CODE  \\\n",
       "99   Q44  RY7   N85645  0501011P0AAADAD   \n",
       "100  Q44  RY7   N85645  0501011P0AAAFAF   \n",
       "101  Q44  RY7   N85645  0501011P0AAAJAJ   \n",
       "102  Q44  RY7   N85645  0501011P0AAARAR   \n",
       "103  Q44  RY7   N85645  0501012G0AAAAAA   \n",
       "104  Q44  RY7   N85645  0501012G0AAABAB   \n",
       "105  Q44  RY7   N85645  0501012G0AAAFAF   \n",
       "106  Q44  RY7   N85645  0501012G0AAAGAG   \n",
       "107  Q44  RY7   N85645  0501012G0AAAQAQ   \n",
       "108  Q44  RY7   N85645  0501013B0AAAAAA   \n",
       "109  Q44  RY7   N85645  0501013B0AAABAB   \n",
       "110  Q44  RY7   N85645  0501013B0AAAKAK   \n",
       "111  Q44  RY7   N85645  0501013B0AAASAS   \n",
       "112  Q44  RY7   N85645  0501013B0AAATAT   \n",
       "113  Q44  RY7   N85645  0501013K0AAAAAA   \n",
       "114  Q44  RY7   N85645  0501013K0AAADAD   \n",
       "115  Q44  RY7   N85645  0501013K0AAAHAH   \n",
       "116  Q44  RY7   N85645  0501013K0AAAJAJ   \n",
       "117  Q44  RY7   N85645  0501021L0AAABAB   \n",
       "118  Q44  RY7   N85645  0501021L0AAAHAH   \n",
       "119  Q44  RY7   N85645  0501030I0AAABAB   \n",
       "120  Q44  RY7   N85645  0501050B0AAAAAA   \n",
       "121  Q44  RY7   N85645  0501050B0AAABAB   \n",
       "122  Q44  RY7   N85645  0501050B0AAADAD   \n",
       "123  Q44  RY7   N85645  0501050B0AAAHAH   \n",
       "124  Q44  RY7   N85645  0501060D0AAABAB   \n",
       "125  Q44  RY7   N85645  0501080W0AAADAD   \n",
       "126  Q44  RY7   N85645  0501080W0AAAEAE   \n",
       "127  Q44  RY7   N85645  0501080W0AAAIAI   \n",
       "128  Q44  RY7   N85645  0501120L0AAAFAF   \n",
       "129  Q44  RY7   N85645  0501130R0AAAAAA   \n",
       "130  Q44  RY7   N85645  0501130R0AAABAB   \n",
       "131  Q44  RY7   N85645  0501130R0AAADAD   \n",
       "132  Q44  RY7   N85645  0501130R0AAAEAE   \n",
       "133  Q44  RY7   N85645  0501130R0AAAGAG   \n",
       "\n",
       "    BNF NAME                                      ITEMS    NIC          \\\n",
       "99      Phenoxymethylpenicillin_Soln 125mg/5ml          7        71.37   \n",
       "100     Phenoxymethylpenicillin_Soln 250mg/5ml          7        76.80   \n",
       "101     Phenoxymethylpenicillin Pot_Tab 250mg          37        77.10   \n",
       "102     Phenoxymethylpenicillin_Soln 125mg/5mlSF        2        36.20   \n",
       "103     Fluclox Sod_Cap 250mg                           2         3.00   \n",
       "104     Fluclox Sod_Cap 500mg                          92       197.09   \n",
       "105     Fluclox Sod_Oral Soln 125mg/5ml                 8        85.93   \n",
       "106     Fluclox Sod_Oral Soln 250mg/5ml                 4       236.80   \n",
       "107     Fluclox Sod_Oral Soln 250mg/5ml S/F             3       187.74   \n",
       "108     Amoxicillin_Cap 250mg                           1         0.66   \n",
       "109     Amoxicillin_Cap 500mg                          71        54.30   \n",
       "110     Amoxicillin_Oral Susp 250mg/5ml                12        24.80   \n",
       "111     Amoxicillin_Oral Susp 125mg/5ml S/F             1         1.06   \n",
       "112     Amoxicillin_Oral Susp 250mg/5ml S/F            25        38.28   \n",
       "113     Co-Amoxiclav_Tab 250mg/125mg                    6        10.62   \n",
       "114     Co-Amoxiclav_Susp 125mg/31mg/5ml S/F            1         1.61   \n",
       "115     Co-Amoxiclav_Susp 125mg/31mg/5ml                1         5.00   \n",
       "116     Co-Amoxiclav_Tab 500mg/125mg                   12        35.16   \n",
       "117     Cefalexin_Cap 500mg                             1         0.58   \n",
       "118     Cefalexin_Tab 500mg                             2         2.60   \n",
       "119     Doxycycline Hyclate_Cap 100mg                  22        16.90   \n",
       "120     Clarithromycin_Tab 250mg                        1         1.18   \n",
       "121     Clarithromycin_Oral Susp 125mg/5ml              4        18.78   \n",
       "122     Clarithromycin_Tab 500mg                       22        36.11   \n",
       "123     Clarithromycin_Oral Susp 250mg/5ml              1         8.64   \n",
       "124     Clindamycin HCl_Cap 150mg                       1         8.05   \n",
       "125     Trimethoprim_Tab 100mg                          1         0.19   \n",
       "126     Trimethoprim_Tab 200mg                          2         1.31   \n",
       "127     Trimethoprim_Oral Susp 50mg/5ml S/F            10        34.19   \n",
       "128     Ciprofloxacin_Tab 500mg                         7         8.40   \n",
       "129     Nitrofurantoin_Cap 50mg                         4        24.68   \n",
       "130     Nitrofurantoin_Cap 100mg                        1         4.86   \n",
       "131     Nitrofurantoin_Tab 50mg                        10        46.24   \n",
       "132     Nitrofurantoin_Tab 100mg                        2         2.60   \n",
       "133     Nitrofurantoin_Cap 100mg M/R                   79       460.00   \n",
       "\n",
       "     ACT COST     QUANTITY  PERIOD                      \n",
       "99         66.24      1300  201811                      \n",
       "100        71.28      1200  201811                      \n",
       "101        75.60      2570  201811                      \n",
       "102        33.58       400  201811                      \n",
       "103         2.81        84  201811                      \n",
       "104       184.23      2588  201811                      \n",
       "105        79.76      1300  201811                      \n",
       "106       219.56       800  201811                      \n",
       "107       174.06       700  201811                      \n",
       "108         0.62        15  201811                      \n",
       "109        51.24      1086  201811                      \n",
       "110        23.14      1600  201811                      \n",
       "111         0.99       100  201811                      \n",
       "112        35.82      3300  201811                      \n",
       "113         9.90       126  201811                      \n",
       "114         1.50       100  201811                      \n",
       "115         4.65       100  201811                      \n",
       "116        32.76       252  201811                      \n",
       "117         0.65         6  201811                      \n",
       "118         2.53        27  201811                      \n",
       "119        17.05       186  201811                      \n",
       "120         1.11        14  201811                      \n",
       "121        17.45       420  201811                      \n",
       "122        34.95       270  201811                      \n",
       "123         8.02       140  201811                      \n",
       "124         7.57        56  201811                      \n",
       "125         0.29         6  201811                      \n",
       "126         1.24        20  201811                      \n",
       "127        32.42       610  201811                      \n",
       "128         8.56        98  201811                      \n",
       "129        23.33        48  201811                      \n",
       "130         4.62        14  201811                      \n",
       "131        43.89       136  201811                      \n",
       "132         2.63        12  201811                      \n",
       "133       432.86       678  201811                      "
      ]
     },
     "execution_count": 32,
     "metadata": {},
     "output_type": "execute_result"
    }
   ],
   "source": [
    "data.loc[data[\"PRACTICE\"] == \"N85645\", :]"
   ]
  },
  {
   "cell_type": "markdown",
   "metadata": {},
   "source": [
    "**Aim**\n",
    "\n",
    "What are the BNF codes for amoxicillin showing up in data?"
   ]
  },
  {
   "cell_type": "code",
   "execution_count": 33,
   "metadata": {
    "collapsed": false
   },
   "outputs": [
    {
     "name": "stdout",
     "output_type": "stream",
     "text": [
      "0501011P0AAADAD\n"
     ]
    }
   ],
   "source": [
    "# DataFrame.iterrows() Iterate over DataFrame rows as (index, Series) pairs.\n",
    "for idx, row in data.iterrows():\n",
    "    if row[\"BNF NAME                                    \"].lower().find(\"amoxicillin\"):\n",
    "        print(row[\"BNF CODE\"])\n",
    "        break"
   ]
  },
  {
   "cell_type": "markdown",
   "metadata": {},
   "source": [
    "**Aim**\n",
    "\n",
    "What is the most commonly prescribed antibiotic?\n",
    "\n",
    "**Note**: You can write your own for-loop over `data.iterrows()`to answer this question but Pandas has some computations and descriptive statistics functions built-in.\n",
    "\n",
    "```\n",
    "most_common_count = 0\n",
    "for code in unique_bnf_codes:\n",
    "    counts = len(data.loc[data['BNF CODE'] == code, 'BNF CODE'])\n",
    "    \n",
    "    if counts > most_common_count:\n",
    "        most_common_count = counts\n",
    "        most_common_code = code\n",
    "print('Most common BNF code:', most_common_code)\n",
    "print('Frequency of most common drug:', most_common_count)\n",
    "```"
   ]
  },
  {
   "cell_type": "code",
   "execution_count": 34,
   "metadata": {
    "collapsed": false
   },
   "outputs": [
    {
     "data": {
      "text/plain": [
       "29400"
      ]
     },
     "execution_count": 34,
     "metadata": {},
     "output_type": "execute_result"
    }
   ],
   "source": [
    "# DataFrame.max([axis, skipna, level, …]) Return the maximum of the values for the requested axis.\n",
    "data[\"QUANTITY\"].max()"
   ]
  },
  {
   "cell_type": "code",
   "execution_count": 35,
   "metadata": {
    "collapsed": false
   },
   "outputs": [
    {
     "data": {
      "text/plain": [
       "1"
      ]
     },
     "execution_count": 35,
     "metadata": {},
     "output_type": "execute_result"
    }
   ],
   "source": [
    "# DataFrame.min([axis, skipna, level, …]) Return the minimum of the values for the requested axis.\n",
    "data[\"QUANTITY\"].min()"
   ]
  },
  {
   "cell_type": "code",
   "execution_count": 36,
   "metadata": {
    "collapsed": false
   },
   "outputs": [
    {
     "data": {
      "text/plain": [
       "365.0415141145471"
      ]
     },
     "execution_count": 36,
     "metadata": {},
     "output_type": "execute_result"
    }
   ],
   "source": [
    "# DataFrame.mean([axis, skipna, level, …]) Return the mean of the values for the requested axis.\n",
    "data[\"QUANTITY\"].mean()"
   ]
  },
  {
   "cell_type": "code",
   "execution_count": 37,
   "metadata": {
    "collapsed": false
   },
   "outputs": [
    {
     "data": {
      "text/plain": [
       "140.0"
      ]
     },
     "execution_count": 37,
     "metadata": {},
     "output_type": "execute_result"
    }
   ],
   "source": [
    "# DataFrame.median([axis, skipna, level, …]) Return the median of the values for the requested axis.\n",
    "data[\"QUANTITY\"].median()"
   ]
  },
  {
   "cell_type": "code",
   "execution_count": 38,
   "metadata": {
    "collapsed": false
   },
   "outputs": [
    {
     "data": {
      "text/plain": [
       "count    317651.000000\n",
       "mean        365.041514\n",
       "std         702.975505\n",
       "min           1.000000\n",
       "25%          56.000000\n",
       "50%         140.000000\n",
       "75%         400.000000\n",
       "max       29400.000000\n",
       "Name: QUANTITY, dtype: float64"
      ]
     },
     "execution_count": 38,
     "metadata": {},
     "output_type": "execute_result"
    }
   ],
   "source": [
    "# DataFrame.describe([percentiles, include, …]) Generate descriptive statistics that summarize the central tendency, dispersion and shape of a dataset’s distribution, excluding NaN values.\n",
    "data[\"QUANTITY\"].describe()"
   ]
  },
  {
   "cell_type": "code",
   "execution_count": 39,
   "metadata": {
    "collapsed": false
   },
   "outputs": [
    {
     "data": {
      "text/plain": [
       "317651"
      ]
     },
     "execution_count": 39,
     "metadata": {},
     "output_type": "execute_result"
    }
   ],
   "source": [
    "# DataFrame.count([axis, level, numeric_only]) Count non-NA cells for each column or row.\n",
    "data[\"QUANTITY\"].count()"
   ]
  },
  {
   "cell_type": "code",
   "execution_count": 40,
   "metadata": {
    "collapsed": false
   },
   "outputs": [
    {
     "data": {
      "text/plain": [
       "(13, 11)"
      ]
     },
     "execution_count": 40,
     "metadata": {},
     "output_type": "execute_result"
    }
   ],
   "source": [
    "sample.shape"
   ]
  },
  {
   "cell_type": "code",
   "execution_count": 41,
   "metadata": {
    "collapsed": false
   },
   "outputs": [
    {
     "data": {
      "text/plain": [
       "12"
      ]
     },
     "execution_count": 41,
     "metadata": {},
     "output_type": "execute_result"
    }
   ],
   "source": [
    "sample[\"PRACTICE\"].count()  # Return 12"
   ]
  },
  {
   "cell_type": "code",
   "execution_count": 42,
   "metadata": {
    "collapsed": false
   },
   "outputs": [
    {
     "data": {
      "text/plain": [
       "Fluclox Sod_Cap 500mg                       7833\n",
       "Name: BNF NAME                                    , dtype: int64"
      ]
     },
     "execution_count": 42,
     "metadata": {},
     "output_type": "execute_result"
    }
   ],
   "source": [
    "data['BNF NAME                                    '].value_counts().head(1)"
   ]
  },
  {
   "cell_type": "markdown",
   "metadata": {},
   "source": [
    "**Aim**\n",
    "\n",
    "What is the least prescribed antibiotic?"
   ]
  },
  {
   "cell_type": "code",
   "execution_count": 43,
   "metadata": {
    "collapsed": false
   },
   "outputs": [
    {
     "data": {
      "text/plain": [
       "Erymax_Cap E/C 250mg                        1\n",
       "Name: BNF NAME                                    , dtype: int64"
      ]
     },
     "execution_count": 43,
     "metadata": {},
     "output_type": "execute_result"
    }
   ],
   "source": [
    "data['BNF NAME                                    '].value_counts().tail(1)"
   ]
  },
  {
   "cell_type": "markdown",
   "metadata": {},
   "source": [
    "Be careful when you assume some conditions."
   ]
  },
  {
   "cell_type": "code",
   "execution_count": 44,
   "metadata": {
    "collapsed": false
   },
   "outputs": [
    {
     "data": {
      "text/plain": [
       "Amikacin_Inj 250mg/ml 2ml Vl                1\n",
       "Erymax_Cap E/C 250mg                        1\n",
       "Name: BNF NAME                                    , dtype: int64"
      ]
     },
     "execution_count": 44,
     "metadata": {},
     "output_type": "execute_result"
    }
   ],
   "source": [
    "data['BNF NAME                                    '].value_counts().tail(2)"
   ]
  },
  {
   "cell_type": "code",
   "execution_count": 45,
   "metadata": {
    "collapsed": false
   },
   "outputs": [
    {
     "data": {
      "text/plain": [
       "Co-Trimoxazole_I/V Inf 96mg/ml 5ml Amp      1\n",
       "Vancomycin HCl_Liq Spec 50mg/5ml            1\n",
       "Amikacin_Inj Paed 50mg/ml 2ml Vl            1\n",
       "Penbritin_Cap 250mg                         1\n",
       "Erythrolar_Tab 500mg                        1\n",
       "Ethambutol HCl_Liq Spec 100mg/5ml           1\n",
       "Ceftazidime Pentahyd_Inj 2g Vl              1\n",
       "Rimactane_Cap 300mg                         1\n",
       "Invanz_I/V Inf 1g Vl (Dry)                  1\n",
       "Targocid_Inj 200mg Vl + Dil                 1\n",
       "Ethambutol HCl_Liq Spec 500mg/5ml           1\n",
       "Rifaximin_Oral Susp 100mg/5ml               1\n",
       "Aknemin 50_Cap 50mg                         1\n",
       "Zinnat_Gran For Susp 125mg/5ml              1\n",
       "Klaricid Adult_Pdr Sach 250mg               1\n",
       "Flagyl_Suppos 1g                            1\n",
       "Fluclox Mag_Oral Susp 250mg/5ml             1\n",
       "Gentamicin Sulf_Liq Spec 50mg/5ml           1\n",
       "Fluclox Sod_Inj 500mg Vl                    1\n",
       "Amoxicillin Sod_Inj 250mg Vl                1\n",
       "Clarie XL_Tab 500mg                         1\n",
       "Cefotaxime Sod_Inj 500mg Vl                 1\n",
       "Rocephin_Inj 2g Vl (Dry)                    1\n",
       "Sulfapyridine_Cap 250mg                     1\n",
       "Zyvox_Tab 600mg                             1\n",
       "Tobramycin_Oral Soln 40mg/5ml               1\n",
       "Septrin_Adult Susp 80mg/400mg/5ml           1\n",
       "Demeclocycline HCl_Tab 150mg                1\n",
       "Mycobutin_Cap 150mg                         1\n",
       "Cycloserine_Cap 250mg                       1\n",
       "Co-Amoxiclav_Inj 1g/200mg Vl                1\n",
       "Colistin Sulf_Tab 1.5 Million U             1\n",
       "Zinamide_Tab 500mg                          1\n",
       "Cefuroxime Sod_Inj 750mg Vl                 1\n",
       "Ethambutol HCl_Liq Spec 400mg/5ml           1\n",
       "Amikacin_Inj 250mg/ml 2ml Vl                1\n",
       "Erymax_Cap E/C 250mg                        1\n",
       "Name: BNF NAME                                    , dtype: int64"
      ]
     },
     "execution_count": 45,
     "metadata": {},
     "output_type": "execute_result"
    }
   ],
   "source": [
    "bnf_name_counts = data['BNF NAME                                    '].value_counts()\n",
    "bnf_name_counts[bnf_name_counts == 1]"
   ]
  },
  {
   "cell_type": "markdown",
   "metadata": {},
   "source": [
    "## Clean Data\n",
    "\n",
    "**Aim**\n",
    "\n",
    "Create a column only with the drug name."
   ]
  },
  {
   "cell_type": "code",
   "execution_count": 69,
   "metadata": {
    "collapsed": false
   },
   "outputs": [
    {
     "data": {
      "text/html": [
       "<div>\n",
       "<style>\n",
       "    .dataframe thead tr:only-child th {\n",
       "        text-align: right;\n",
       "    }\n",
       "\n",
       "    .dataframe thead th {\n",
       "        text-align: left;\n",
       "    }\n",
       "\n",
       "    .dataframe tbody tr th {\n",
       "        vertical-align: top;\n",
       "    }\n",
       "</style>\n",
       "<table border=\"1\" class=\"dataframe\">\n",
       "  <thead>\n",
       "    <tr style=\"text-align: right;\">\n",
       "      <th></th>\n",
       "      <th>SHA</th>\n",
       "      <th>PCT</th>\n",
       "      <th>PRACTICE</th>\n",
       "      <th>BNF CODE</th>\n",
       "      <th>BNF NAME</th>\n",
       "      <th>ITEMS</th>\n",
       "      <th>NIC</th>\n",
       "      <th>ACT COST</th>\n",
       "      <th>QUANTITY</th>\n",
       "      <th>PERIOD</th>\n",
       "      <th></th>\n",
       "    </tr>\n",
       "  </thead>\n",
       "  <tbody>\n",
       "    <tr>\n",
       "      <th>0</th>\n",
       "      <td>Q44</td>\n",
       "      <td>RXA</td>\n",
       "      <td>Y00327</td>\n",
       "      <td>0501011P0AAADAD</td>\n",
       "      <td>Phenoxymethylpenicillin_Soln 125mg/5ml</td>\n",
       "      <td>12</td>\n",
       "      <td>120.78</td>\n",
       "      <td>112.10</td>\n",
       "      <td>2200</td>\n",
       "      <td>201811</td>\n",
       "      <td></td>\n",
       "    </tr>\n",
       "    <tr>\n",
       "      <th>1</th>\n",
       "      <td>Q44</td>\n",
       "      <td>RXA</td>\n",
       "      <td>Y00327</td>\n",
       "      <td>0501011P0AAAFAF</td>\n",
       "      <td>Phenoxymethylpenicillin_Soln 250mg/5ml</td>\n",
       "      <td>5</td>\n",
       "      <td>51.20</td>\n",
       "      <td>47.52</td>\n",
       "      <td>800</td>\n",
       "      <td>201811</td>\n",
       "      <td></td>\n",
       "    </tr>\n",
       "    <tr>\n",
       "      <th>2</th>\n",
       "      <td>Q44</td>\n",
       "      <td>RXA</td>\n",
       "      <td>Y00327</td>\n",
       "      <td>0501012G0AAAAAA</td>\n",
       "      <td>Fluclox Sod_Cap 250mg</td>\n",
       "      <td>4</td>\n",
       "      <td>3.42</td>\n",
       "      <td>3.42</td>\n",
       "      <td>96</td>\n",
       "      <td>201811</td>\n",
       "      <td></td>\n",
       "    </tr>\n",
       "    <tr>\n",
       "      <th>3</th>\n",
       "      <td>Q44</td>\n",
       "      <td>RXA</td>\n",
       "      <td>Y00327</td>\n",
       "      <td>0501013B0AAAAAA</td>\n",
       "      <td>Amoxicillin_Cap 250mg</td>\n",
       "      <td>1</td>\n",
       "      <td>0.92</td>\n",
       "      <td>0.87</td>\n",
       "      <td>21</td>\n",
       "      <td>201811</td>\n",
       "      <td></td>\n",
       "    </tr>\n",
       "    <tr>\n",
       "      <th>4</th>\n",
       "      <td>Q44</td>\n",
       "      <td>RXA</td>\n",
       "      <td>Y00327</td>\n",
       "      <td>0501013B0AAABAB</td>\n",
       "      <td>Amoxicillin_Cap 500mg</td>\n",
       "      <td>32</td>\n",
       "      <td>33.00</td>\n",
       "      <td>30.98</td>\n",
       "      <td>660</td>\n",
       "      <td>201811</td>\n",
       "      <td></td>\n",
       "    </tr>\n",
       "    <tr>\n",
       "      <th>5</th>\n",
       "      <td>Q44</td>\n",
       "      <td>RXA</td>\n",
       "      <td>Y00327</td>\n",
       "      <td>0501013B0AAAJAJ</td>\n",
       "      <td>Amoxicillin_Oral Susp 125mg/5ml</td>\n",
       "      <td>7</td>\n",
       "      <td>15.07</td>\n",
       "      <td>14.05</td>\n",
       "      <td>1100</td>\n",
       "      <td>201811</td>\n",
       "      <td></td>\n",
       "    </tr>\n",
       "    <tr>\n",
       "      <th>6</th>\n",
       "      <td>Q44</td>\n",
       "      <td>RY7</td>\n",
       "      <td>N85638</td>\n",
       "      <td>0501011P0AAADAD</td>\n",
       "      <td>Phenoxymethylpenicillin_Soln 125mg/5ml</td>\n",
       "      <td>8</td>\n",
       "      <td>76.86</td>\n",
       "      <td>71.34</td>\n",
       "      <td>1400</td>\n",
       "      <td>201811</td>\n",
       "      <td></td>\n",
       "    </tr>\n",
       "    <tr>\n",
       "      <th>7</th>\n",
       "      <td>Q44</td>\n",
       "      <td>RY7</td>\n",
       "      <td>N85638</td>\n",
       "      <td>0501011P0AAAJAJ</td>\n",
       "      <td>Phenoxymethylpenicillin Pot_Tab 250mg</td>\n",
       "      <td>23</td>\n",
       "      <td>49.80</td>\n",
       "      <td>48.45</td>\n",
       "      <td>1660</td>\n",
       "      <td>201811</td>\n",
       "      <td></td>\n",
       "    </tr>\n",
       "    <tr>\n",
       "      <th>8</th>\n",
       "      <td>Q44</td>\n",
       "      <td>RY7</td>\n",
       "      <td>N85645</td>\n",
       "      <td>0501012G0AAAAAA</td>\n",
       "      <td>Fluclox Sod_Cap 250mg</td>\n",
       "      <td>2</td>\n",
       "      <td>3.00</td>\n",
       "      <td>2.81</td>\n",
       "      <td>84</td>\n",
       "      <td>201811</td>\n",
       "      <td></td>\n",
       "    </tr>\n",
       "    <tr>\n",
       "      <th>9</th>\n",
       "      <td>Q44</td>\n",
       "      <td>RY7</td>\n",
       "      <td>N85645</td>\n",
       "      <td>0501012G0AAABAB</td>\n",
       "      <td>Fluclox Sod_Cap 500mg</td>\n",
       "      <td>92</td>\n",
       "      <td>197.09</td>\n",
       "      <td>184.23</td>\n",
       "      <td>2588</td>\n",
       "      <td>201811</td>\n",
       "      <td></td>\n",
       "    </tr>\n",
       "    <tr>\n",
       "      <th>10</th>\n",
       "      <td>Q44</td>\n",
       "      <td>RY7</td>\n",
       "      <td>N85645</td>\n",
       "      <td>0501012G0AAAFAF</td>\n",
       "      <td>Fluclox Sod_Oral Soln 125mg/5ml</td>\n",
       "      <td>8</td>\n",
       "      <td>85.93</td>\n",
       "      <td>79.76</td>\n",
       "      <td>1300</td>\n",
       "      <td>201811</td>\n",
       "      <td></td>\n",
       "    </tr>\n",
       "    <tr>\n",
       "      <th>11</th>\n",
       "      <td>Q44</td>\n",
       "      <td>RY7</td>\n",
       "      <td>NaN</td>\n",
       "      <td>0501013B0AAAAAA</td>\n",
       "      <td>Amoxicillin_Cap 250mg</td>\n",
       "      <td>1</td>\n",
       "      <td>0.66</td>\n",
       "      <td>0.62</td>\n",
       "      <td>15</td>\n",
       "      <td>201811</td>\n",
       "      <td></td>\n",
       "    </tr>\n",
       "    <tr>\n",
       "      <th>12</th>\n",
       "      <td>Q44</td>\n",
       "      <td>RY7</td>\n",
       "      <td>N85645</td>\n",
       "      <td>0501013B0AAABAB</td>\n",
       "      <td>Amoxicillin_Cap 500mg</td>\n",
       "      <td>71</td>\n",
       "      <td>54.30</td>\n",
       "      <td>51.24</td>\n",
       "      <td>1086</td>\n",
       "      <td>201811</td>\n",
       "      <td></td>\n",
       "    </tr>\n",
       "  </tbody>\n",
       "</table>\n",
       "</div>"
      ],
      "text/plain": [
       "    SHA  PCT PRACTICE         BNF CODE  \\\n",
       "0   Q44  RXA   Y00327  0501011P0AAADAD   \n",
       "1   Q44  RXA   Y00327  0501011P0AAAFAF   \n",
       "2   Q44  RXA   Y00327  0501012G0AAAAAA   \n",
       "3   Q44  RXA   Y00327  0501013B0AAAAAA   \n",
       "4   Q44  RXA   Y00327  0501013B0AAABAB   \n",
       "5   Q44  RXA   Y00327  0501013B0AAAJAJ   \n",
       "6   Q44  RY7   N85638  0501011P0AAADAD   \n",
       "7   Q44  RY7   N85638  0501011P0AAAJAJ   \n",
       "8   Q44  RY7   N85645  0501012G0AAAAAA   \n",
       "9   Q44  RY7   N85645  0501012G0AAABAB   \n",
       "10  Q44  RY7   N85645  0501012G0AAAFAF   \n",
       "11  Q44  RY7      NaN  0501013B0AAAAAA   \n",
       "12  Q44  RY7   N85645  0501013B0AAABAB   \n",
       "\n",
       "   BNF NAME                                      ITEMS    NIC          \\\n",
       "0      Phenoxymethylpenicillin_Soln 125mg/5ml         12       120.78   \n",
       "1      Phenoxymethylpenicillin_Soln 250mg/5ml          5        51.20   \n",
       "2      Fluclox Sod_Cap 250mg                           4         3.42   \n",
       "3      Amoxicillin_Cap 250mg                           1         0.92   \n",
       "4      Amoxicillin_Cap 500mg                          32        33.00   \n",
       "5      Amoxicillin_Oral Susp 125mg/5ml                 7        15.07   \n",
       "6      Phenoxymethylpenicillin_Soln 125mg/5ml          8        76.86   \n",
       "7      Phenoxymethylpenicillin Pot_Tab 250mg          23        49.80   \n",
       "8      Fluclox Sod_Cap 250mg                           2         3.00   \n",
       "9      Fluclox Sod_Cap 500mg                          92       197.09   \n",
       "10     Fluclox Sod_Oral Soln 125mg/5ml                 8        85.93   \n",
       "11     Amoxicillin_Cap 250mg                           1         0.66   \n",
       "12     Amoxicillin_Cap 500mg                          71        54.30   \n",
       "\n",
       "    ACT COST     QUANTITY  PERIOD                      \n",
       "0        112.10      2200  201811                      \n",
       "1         47.52       800  201811                      \n",
       "2          3.42        96  201811                      \n",
       "3          0.87        21  201811                      \n",
       "4         30.98       660  201811                      \n",
       "5         14.05      1100  201811                      \n",
       "6         71.34      1400  201811                      \n",
       "7         48.45      1660  201811                      \n",
       "8          2.81        84  201811                      \n",
       "9        184.23      2588  201811                      \n",
       "10        79.76      1300  201811                      \n",
       "11         0.62        15  201811                      \n",
       "12        51.24      1086  201811                      "
      ]
     },
     "execution_count": 69,
     "metadata": {},
     "output_type": "execute_result"
    }
   ],
   "source": [
    "sample"
   ]
  },
  {
   "cell_type": "code",
   "execution_count": 70,
   "metadata": {
    "collapsed": true
   },
   "outputs": [],
   "source": [
    "sample[\"YEAR\"] = pd.Series([\n",
    "    2018,  # 0\n",
    "    2018,  # 1\n",
    "    2018,  # 2\n",
    "    2018,  # 3\n",
    "    2018,  # 4\n",
    "    2018,  # 5\n",
    "    2018,  # 6\n",
    "    2018,  # 7\n",
    "    2018,  # 8\n",
    "    2018,  # 9\n",
    "    2018,  # 10\n",
    "    2018,  # 11\n",
    "    2018,  # 12\n",
    "])"
   ]
  },
  {
   "cell_type": "code",
   "execution_count": 71,
   "metadata": {
    "collapsed": false
   },
   "outputs": [
    {
     "data": {
      "text/html": [
       "<div>\n",
       "<style>\n",
       "    .dataframe thead tr:only-child th {\n",
       "        text-align: right;\n",
       "    }\n",
       "\n",
       "    .dataframe thead th {\n",
       "        text-align: left;\n",
       "    }\n",
       "\n",
       "    .dataframe tbody tr th {\n",
       "        vertical-align: top;\n",
       "    }\n",
       "</style>\n",
       "<table border=\"1\" class=\"dataframe\">\n",
       "  <thead>\n",
       "    <tr style=\"text-align: right;\">\n",
       "      <th></th>\n",
       "      <th>SHA</th>\n",
       "      <th>PCT</th>\n",
       "      <th>PRACTICE</th>\n",
       "      <th>BNF CODE</th>\n",
       "      <th>BNF NAME</th>\n",
       "      <th>ITEMS</th>\n",
       "      <th>NIC</th>\n",
       "      <th>ACT COST</th>\n",
       "      <th>QUANTITY</th>\n",
       "      <th>PERIOD</th>\n",
       "      <th></th>\n",
       "      <th>YEAR</th>\n",
       "    </tr>\n",
       "  </thead>\n",
       "  <tbody>\n",
       "    <tr>\n",
       "      <th>0</th>\n",
       "      <td>Q44</td>\n",
       "      <td>RXA</td>\n",
       "      <td>Y00327</td>\n",
       "      <td>0501011P0AAADAD</td>\n",
       "      <td>Phenoxymethylpenicillin_Soln 125mg/5ml</td>\n",
       "      <td>12</td>\n",
       "      <td>120.78</td>\n",
       "      <td>112.10</td>\n",
       "      <td>2200</td>\n",
       "      <td>201811</td>\n",
       "      <td></td>\n",
       "      <td>2018</td>\n",
       "    </tr>\n",
       "    <tr>\n",
       "      <th>1</th>\n",
       "      <td>Q44</td>\n",
       "      <td>RXA</td>\n",
       "      <td>Y00327</td>\n",
       "      <td>0501011P0AAAFAF</td>\n",
       "      <td>Phenoxymethylpenicillin_Soln 250mg/5ml</td>\n",
       "      <td>5</td>\n",
       "      <td>51.20</td>\n",
       "      <td>47.52</td>\n",
       "      <td>800</td>\n",
       "      <td>201811</td>\n",
       "      <td></td>\n",
       "      <td>2018</td>\n",
       "    </tr>\n",
       "    <tr>\n",
       "      <th>2</th>\n",
       "      <td>Q44</td>\n",
       "      <td>RXA</td>\n",
       "      <td>Y00327</td>\n",
       "      <td>0501012G0AAAAAA</td>\n",
       "      <td>Fluclox Sod_Cap 250mg</td>\n",
       "      <td>4</td>\n",
       "      <td>3.42</td>\n",
       "      <td>3.42</td>\n",
       "      <td>96</td>\n",
       "      <td>201811</td>\n",
       "      <td></td>\n",
       "      <td>2018</td>\n",
       "    </tr>\n",
       "    <tr>\n",
       "      <th>3</th>\n",
       "      <td>Q44</td>\n",
       "      <td>RXA</td>\n",
       "      <td>Y00327</td>\n",
       "      <td>0501013B0AAAAAA</td>\n",
       "      <td>Amoxicillin_Cap 250mg</td>\n",
       "      <td>1</td>\n",
       "      <td>0.92</td>\n",
       "      <td>0.87</td>\n",
       "      <td>21</td>\n",
       "      <td>201811</td>\n",
       "      <td></td>\n",
       "      <td>2018</td>\n",
       "    </tr>\n",
       "    <tr>\n",
       "      <th>4</th>\n",
       "      <td>Q44</td>\n",
       "      <td>RXA</td>\n",
       "      <td>Y00327</td>\n",
       "      <td>0501013B0AAABAB</td>\n",
       "      <td>Amoxicillin_Cap 500mg</td>\n",
       "      <td>32</td>\n",
       "      <td>33.00</td>\n",
       "      <td>30.98</td>\n",
       "      <td>660</td>\n",
       "      <td>201811</td>\n",
       "      <td></td>\n",
       "      <td>2018</td>\n",
       "    </tr>\n",
       "    <tr>\n",
       "      <th>5</th>\n",
       "      <td>Q44</td>\n",
       "      <td>RXA</td>\n",
       "      <td>Y00327</td>\n",
       "      <td>0501013B0AAAJAJ</td>\n",
       "      <td>Amoxicillin_Oral Susp 125mg/5ml</td>\n",
       "      <td>7</td>\n",
       "      <td>15.07</td>\n",
       "      <td>14.05</td>\n",
       "      <td>1100</td>\n",
       "      <td>201811</td>\n",
       "      <td></td>\n",
       "      <td>2018</td>\n",
       "    </tr>\n",
       "    <tr>\n",
       "      <th>6</th>\n",
       "      <td>Q44</td>\n",
       "      <td>RY7</td>\n",
       "      <td>N85638</td>\n",
       "      <td>0501011P0AAADAD</td>\n",
       "      <td>Phenoxymethylpenicillin_Soln 125mg/5ml</td>\n",
       "      <td>8</td>\n",
       "      <td>76.86</td>\n",
       "      <td>71.34</td>\n",
       "      <td>1400</td>\n",
       "      <td>201811</td>\n",
       "      <td></td>\n",
       "      <td>2018</td>\n",
       "    </tr>\n",
       "    <tr>\n",
       "      <th>7</th>\n",
       "      <td>Q44</td>\n",
       "      <td>RY7</td>\n",
       "      <td>N85638</td>\n",
       "      <td>0501011P0AAAJAJ</td>\n",
       "      <td>Phenoxymethylpenicillin Pot_Tab 250mg</td>\n",
       "      <td>23</td>\n",
       "      <td>49.80</td>\n",
       "      <td>48.45</td>\n",
       "      <td>1660</td>\n",
       "      <td>201811</td>\n",
       "      <td></td>\n",
       "      <td>2018</td>\n",
       "    </tr>\n",
       "    <tr>\n",
       "      <th>8</th>\n",
       "      <td>Q44</td>\n",
       "      <td>RY7</td>\n",
       "      <td>N85645</td>\n",
       "      <td>0501012G0AAAAAA</td>\n",
       "      <td>Fluclox Sod_Cap 250mg</td>\n",
       "      <td>2</td>\n",
       "      <td>3.00</td>\n",
       "      <td>2.81</td>\n",
       "      <td>84</td>\n",
       "      <td>201811</td>\n",
       "      <td></td>\n",
       "      <td>2018</td>\n",
       "    </tr>\n",
       "    <tr>\n",
       "      <th>9</th>\n",
       "      <td>Q44</td>\n",
       "      <td>RY7</td>\n",
       "      <td>N85645</td>\n",
       "      <td>0501012G0AAABAB</td>\n",
       "      <td>Fluclox Sod_Cap 500mg</td>\n",
       "      <td>92</td>\n",
       "      <td>197.09</td>\n",
       "      <td>184.23</td>\n",
       "      <td>2588</td>\n",
       "      <td>201811</td>\n",
       "      <td></td>\n",
       "      <td>2018</td>\n",
       "    </tr>\n",
       "    <tr>\n",
       "      <th>10</th>\n",
       "      <td>Q44</td>\n",
       "      <td>RY7</td>\n",
       "      <td>N85645</td>\n",
       "      <td>0501012G0AAAFAF</td>\n",
       "      <td>Fluclox Sod_Oral Soln 125mg/5ml</td>\n",
       "      <td>8</td>\n",
       "      <td>85.93</td>\n",
       "      <td>79.76</td>\n",
       "      <td>1300</td>\n",
       "      <td>201811</td>\n",
       "      <td></td>\n",
       "      <td>2018</td>\n",
       "    </tr>\n",
       "    <tr>\n",
       "      <th>11</th>\n",
       "      <td>Q44</td>\n",
       "      <td>RY7</td>\n",
       "      <td>NaN</td>\n",
       "      <td>0501013B0AAAAAA</td>\n",
       "      <td>Amoxicillin_Cap 250mg</td>\n",
       "      <td>1</td>\n",
       "      <td>0.66</td>\n",
       "      <td>0.62</td>\n",
       "      <td>15</td>\n",
       "      <td>201811</td>\n",
       "      <td></td>\n",
       "      <td>2018</td>\n",
       "    </tr>\n",
       "    <tr>\n",
       "      <th>12</th>\n",
       "      <td>Q44</td>\n",
       "      <td>RY7</td>\n",
       "      <td>N85645</td>\n",
       "      <td>0501013B0AAABAB</td>\n",
       "      <td>Amoxicillin_Cap 500mg</td>\n",
       "      <td>71</td>\n",
       "      <td>54.30</td>\n",
       "      <td>51.24</td>\n",
       "      <td>1086</td>\n",
       "      <td>201811</td>\n",
       "      <td></td>\n",
       "      <td>2018</td>\n",
       "    </tr>\n",
       "  </tbody>\n",
       "</table>\n",
       "</div>"
      ],
      "text/plain": [
       "    SHA  PCT PRACTICE         BNF CODE  \\\n",
       "0   Q44  RXA   Y00327  0501011P0AAADAD   \n",
       "1   Q44  RXA   Y00327  0501011P0AAAFAF   \n",
       "2   Q44  RXA   Y00327  0501012G0AAAAAA   \n",
       "3   Q44  RXA   Y00327  0501013B0AAAAAA   \n",
       "4   Q44  RXA   Y00327  0501013B0AAABAB   \n",
       "5   Q44  RXA   Y00327  0501013B0AAAJAJ   \n",
       "6   Q44  RY7   N85638  0501011P0AAADAD   \n",
       "7   Q44  RY7   N85638  0501011P0AAAJAJ   \n",
       "8   Q44  RY7   N85645  0501012G0AAAAAA   \n",
       "9   Q44  RY7   N85645  0501012G0AAABAB   \n",
       "10  Q44  RY7   N85645  0501012G0AAAFAF   \n",
       "11  Q44  RY7      NaN  0501013B0AAAAAA   \n",
       "12  Q44  RY7   N85645  0501013B0AAABAB   \n",
       "\n",
       "   BNF NAME                                      ITEMS    NIC          \\\n",
       "0      Phenoxymethylpenicillin_Soln 125mg/5ml         12       120.78   \n",
       "1      Phenoxymethylpenicillin_Soln 250mg/5ml          5        51.20   \n",
       "2      Fluclox Sod_Cap 250mg                           4         3.42   \n",
       "3      Amoxicillin_Cap 250mg                           1         0.92   \n",
       "4      Amoxicillin_Cap 500mg                          32        33.00   \n",
       "5      Amoxicillin_Oral Susp 125mg/5ml                 7        15.07   \n",
       "6      Phenoxymethylpenicillin_Soln 125mg/5ml          8        76.86   \n",
       "7      Phenoxymethylpenicillin Pot_Tab 250mg          23        49.80   \n",
       "8      Fluclox Sod_Cap 250mg                           2         3.00   \n",
       "9      Fluclox Sod_Cap 500mg                          92       197.09   \n",
       "10     Fluclox Sod_Oral Soln 125mg/5ml                 8        85.93   \n",
       "11     Amoxicillin_Cap 250mg                           1         0.66   \n",
       "12     Amoxicillin_Cap 500mg                          71        54.30   \n",
       "\n",
       "    ACT COST     QUANTITY  PERIOD                      YEAR  \n",
       "0        112.10      2200  201811                      2018  \n",
       "1         47.52       800  201811                      2018  \n",
       "2          3.42        96  201811                      2018  \n",
       "3          0.87        21  201811                      2018  \n",
       "4         30.98       660  201811                      2018  \n",
       "5         14.05      1100  201811                      2018  \n",
       "6         71.34      1400  201811                      2018  \n",
       "7         48.45      1660  201811                      2018  \n",
       "8          2.81        84  201811                      2018  \n",
       "9        184.23      2588  201811                      2018  \n",
       "10        79.76      1300  201811                      2018  \n",
       "11         0.62        15  201811                      2018  \n",
       "12        51.24      1086  201811                      2018  "
      ]
     },
     "execution_count": 71,
     "metadata": {},
     "output_type": "execute_result"
    }
   ],
   "source": [
    "sample"
   ]
  },
  {
   "cell_type": "code",
   "execution_count": 73,
   "metadata": {
    "collapsed": false
   },
   "outputs": [
    {
     "data": {
      "text/plain": [
       "0     phenoxymethylpenicillin_soln 125mg/5ml  \n",
       "1     phenoxymethylpenicillin_soln 250mg/5ml  \n",
       "2     fluclox sod_cap 250mg                   \n",
       "3     amoxicillin_cap 250mg                   \n",
       "4     amoxicillin_cap 500mg                   \n",
       "5     amoxicillin_oral susp 125mg/5ml         \n",
       "6     phenoxymethylpenicillin_soln 125mg/5ml  \n",
       "7     phenoxymethylpenicillin pot_tab 250mg   \n",
       "8     fluclox sod_cap 250mg                   \n",
       "9     fluclox sod_cap 500mg                   \n",
       "10    fluclox sod_oral soln 125mg/5ml         \n",
       "11    amoxicillin_cap 250mg                   \n",
       "12    amoxicillin_cap 500mg                   \n",
       "Name: BNF NAME                                    , dtype: object"
      ]
     },
     "execution_count": 73,
     "metadata": {},
     "output_type": "execute_result"
    }
   ],
   "source": [
    "sample['BNF NAME                                    '].str.lower()"
   ]
  },
  {
   "cell_type": "code",
   "execution_count": 74,
   "metadata": {
    "collapsed": true
   },
   "outputs": [],
   "source": [
    "def extract_drug_name(bnf_name):\n",
    "    \"\"\"Extract drug name\"\"\"\n",
    "    \n",
    "    return bnf_name.lower().split()[0].split(\"_\")[0]"
   ]
  },
  {
   "cell_type": "code",
   "execution_count": 76,
   "metadata": {
    "collapsed": false
   },
   "outputs": [
    {
     "data": {
      "text/plain": [
       "'phenoxymethylpenicillin'"
      ]
     },
     "execution_count": 76,
     "metadata": {},
     "output_type": "execute_result"
    }
   ],
   "source": [
    "extract_drug_name(\"Phenoxymethylpenicillin_Soln 125mg/5ml\")"
   ]
  },
  {
   "cell_type": "code",
   "execution_count": 78,
   "metadata": {
    "collapsed": false
   },
   "outputs": [
    {
     "data": {
      "text/plain": [
       "'fluclox'"
      ]
     },
     "execution_count": 78,
     "metadata": {},
     "output_type": "execute_result"
    }
   ],
   "source": [
    "extract_drug_name(\"Fluclox Sod_Cap 250mg\")"
   ]
  },
  {
   "cell_type": "code",
   "execution_count": 79,
   "metadata": {
    "collapsed": false
   },
   "outputs": [
    {
     "data": {
      "text/plain": [
       "'amoxicillin'"
      ]
     },
     "execution_count": 79,
     "metadata": {},
     "output_type": "execute_result"
    }
   ],
   "source": [
    "extract_drug_name(\"Amoxicillin_Oral Susp 125mg/5ml\")"
   ]
  },
  {
   "cell_type": "code",
   "execution_count": 81,
   "metadata": {
    "collapsed": false
   },
   "outputs": [
    {
     "data": {
      "text/plain": [
       "0     phenoxymethylpenicillin\n",
       "1     phenoxymethylpenicillin\n",
       "2                     fluclox\n",
       "3                 amoxicillin\n",
       "4                 amoxicillin\n",
       "5                 amoxicillin\n",
       "6     phenoxymethylpenicillin\n",
       "7     phenoxymethylpenicillin\n",
       "8                     fluclox\n",
       "9                     fluclox\n",
       "10                    fluclox\n",
       "11                amoxicillin\n",
       "12                amoxicillin\n",
       "Name: BNF NAME                                    , dtype: object"
      ]
     },
     "execution_count": 81,
     "metadata": {},
     "output_type": "execute_result"
    }
   ],
   "source": [
    "sample['BNF NAME                                    '].apply(extract_drug_name)"
   ]
  },
  {
   "cell_type": "code",
   "execution_count": 82,
   "metadata": {
    "collapsed": false
   },
   "outputs": [
    {
     "data": {
      "text/html": [
       "<div>\n",
       "<style>\n",
       "    .dataframe thead tr:only-child th {\n",
       "        text-align: right;\n",
       "    }\n",
       "\n",
       "    .dataframe thead th {\n",
       "        text-align: left;\n",
       "    }\n",
       "\n",
       "    .dataframe tbody tr th {\n",
       "        vertical-align: top;\n",
       "    }\n",
       "</style>\n",
       "<table border=\"1\" class=\"dataframe\">\n",
       "  <thead>\n",
       "    <tr style=\"text-align: right;\">\n",
       "      <th></th>\n",
       "      <th>SHA</th>\n",
       "      <th>PCT</th>\n",
       "      <th>PRACTICE</th>\n",
       "      <th>BNF CODE</th>\n",
       "      <th>BNF NAME</th>\n",
       "      <th>ITEMS</th>\n",
       "      <th>NIC</th>\n",
       "      <th>ACT COST</th>\n",
       "      <th>QUANTITY</th>\n",
       "      <th>PERIOD</th>\n",
       "      <th></th>\n",
       "      <th>YEAR</th>\n",
       "      <th>DRUG NAME</th>\n",
       "    </tr>\n",
       "  </thead>\n",
       "  <tbody>\n",
       "    <tr>\n",
       "      <th>0</th>\n",
       "      <td>Q44</td>\n",
       "      <td>RXA</td>\n",
       "      <td>Y00327</td>\n",
       "      <td>0501011P0AAADAD</td>\n",
       "      <td>Phenoxymethylpenicillin_Soln 125mg/5ml</td>\n",
       "      <td>12</td>\n",
       "      <td>120.78</td>\n",
       "      <td>112.10</td>\n",
       "      <td>2200</td>\n",
       "      <td>201811</td>\n",
       "      <td></td>\n",
       "      <td>2018</td>\n",
       "      <td>phenoxymethylpenicillin</td>\n",
       "    </tr>\n",
       "    <tr>\n",
       "      <th>1</th>\n",
       "      <td>Q44</td>\n",
       "      <td>RXA</td>\n",
       "      <td>Y00327</td>\n",
       "      <td>0501011P0AAAFAF</td>\n",
       "      <td>Phenoxymethylpenicillin_Soln 250mg/5ml</td>\n",
       "      <td>5</td>\n",
       "      <td>51.20</td>\n",
       "      <td>47.52</td>\n",
       "      <td>800</td>\n",
       "      <td>201811</td>\n",
       "      <td></td>\n",
       "      <td>2018</td>\n",
       "      <td>phenoxymethylpenicillin</td>\n",
       "    </tr>\n",
       "    <tr>\n",
       "      <th>2</th>\n",
       "      <td>Q44</td>\n",
       "      <td>RXA</td>\n",
       "      <td>Y00327</td>\n",
       "      <td>0501012G0AAAAAA</td>\n",
       "      <td>Fluclox Sod_Cap 250mg</td>\n",
       "      <td>4</td>\n",
       "      <td>3.42</td>\n",
       "      <td>3.42</td>\n",
       "      <td>96</td>\n",
       "      <td>201811</td>\n",
       "      <td></td>\n",
       "      <td>2018</td>\n",
       "      <td>fluclox</td>\n",
       "    </tr>\n",
       "    <tr>\n",
       "      <th>3</th>\n",
       "      <td>Q44</td>\n",
       "      <td>RXA</td>\n",
       "      <td>Y00327</td>\n",
       "      <td>0501013B0AAAAAA</td>\n",
       "      <td>Amoxicillin_Cap 250mg</td>\n",
       "      <td>1</td>\n",
       "      <td>0.92</td>\n",
       "      <td>0.87</td>\n",
       "      <td>21</td>\n",
       "      <td>201811</td>\n",
       "      <td></td>\n",
       "      <td>2018</td>\n",
       "      <td>amoxicillin</td>\n",
       "    </tr>\n",
       "    <tr>\n",
       "      <th>4</th>\n",
       "      <td>Q44</td>\n",
       "      <td>RXA</td>\n",
       "      <td>Y00327</td>\n",
       "      <td>0501013B0AAABAB</td>\n",
       "      <td>Amoxicillin_Cap 500mg</td>\n",
       "      <td>32</td>\n",
       "      <td>33.00</td>\n",
       "      <td>30.98</td>\n",
       "      <td>660</td>\n",
       "      <td>201811</td>\n",
       "      <td></td>\n",
       "      <td>2018</td>\n",
       "      <td>amoxicillin</td>\n",
       "    </tr>\n",
       "    <tr>\n",
       "      <th>5</th>\n",
       "      <td>Q44</td>\n",
       "      <td>RXA</td>\n",
       "      <td>Y00327</td>\n",
       "      <td>0501013B0AAAJAJ</td>\n",
       "      <td>Amoxicillin_Oral Susp 125mg/5ml</td>\n",
       "      <td>7</td>\n",
       "      <td>15.07</td>\n",
       "      <td>14.05</td>\n",
       "      <td>1100</td>\n",
       "      <td>201811</td>\n",
       "      <td></td>\n",
       "      <td>2018</td>\n",
       "      <td>amoxicillin</td>\n",
       "    </tr>\n",
       "    <tr>\n",
       "      <th>6</th>\n",
       "      <td>Q44</td>\n",
       "      <td>RY7</td>\n",
       "      <td>N85638</td>\n",
       "      <td>0501011P0AAADAD</td>\n",
       "      <td>Phenoxymethylpenicillin_Soln 125mg/5ml</td>\n",
       "      <td>8</td>\n",
       "      <td>76.86</td>\n",
       "      <td>71.34</td>\n",
       "      <td>1400</td>\n",
       "      <td>201811</td>\n",
       "      <td></td>\n",
       "      <td>2018</td>\n",
       "      <td>phenoxymethylpenicillin</td>\n",
       "    </tr>\n",
       "    <tr>\n",
       "      <th>7</th>\n",
       "      <td>Q44</td>\n",
       "      <td>RY7</td>\n",
       "      <td>N85638</td>\n",
       "      <td>0501011P0AAAJAJ</td>\n",
       "      <td>Phenoxymethylpenicillin Pot_Tab 250mg</td>\n",
       "      <td>23</td>\n",
       "      <td>49.80</td>\n",
       "      <td>48.45</td>\n",
       "      <td>1660</td>\n",
       "      <td>201811</td>\n",
       "      <td></td>\n",
       "      <td>2018</td>\n",
       "      <td>phenoxymethylpenicillin</td>\n",
       "    </tr>\n",
       "    <tr>\n",
       "      <th>8</th>\n",
       "      <td>Q44</td>\n",
       "      <td>RY7</td>\n",
       "      <td>N85645</td>\n",
       "      <td>0501012G0AAAAAA</td>\n",
       "      <td>Fluclox Sod_Cap 250mg</td>\n",
       "      <td>2</td>\n",
       "      <td>3.00</td>\n",
       "      <td>2.81</td>\n",
       "      <td>84</td>\n",
       "      <td>201811</td>\n",
       "      <td></td>\n",
       "      <td>2018</td>\n",
       "      <td>fluclox</td>\n",
       "    </tr>\n",
       "    <tr>\n",
       "      <th>9</th>\n",
       "      <td>Q44</td>\n",
       "      <td>RY7</td>\n",
       "      <td>N85645</td>\n",
       "      <td>0501012G0AAABAB</td>\n",
       "      <td>Fluclox Sod_Cap 500mg</td>\n",
       "      <td>92</td>\n",
       "      <td>197.09</td>\n",
       "      <td>184.23</td>\n",
       "      <td>2588</td>\n",
       "      <td>201811</td>\n",
       "      <td></td>\n",
       "      <td>2018</td>\n",
       "      <td>fluclox</td>\n",
       "    </tr>\n",
       "    <tr>\n",
       "      <th>10</th>\n",
       "      <td>Q44</td>\n",
       "      <td>RY7</td>\n",
       "      <td>N85645</td>\n",
       "      <td>0501012G0AAAFAF</td>\n",
       "      <td>Fluclox Sod_Oral Soln 125mg/5ml</td>\n",
       "      <td>8</td>\n",
       "      <td>85.93</td>\n",
       "      <td>79.76</td>\n",
       "      <td>1300</td>\n",
       "      <td>201811</td>\n",
       "      <td></td>\n",
       "      <td>2018</td>\n",
       "      <td>fluclox</td>\n",
       "    </tr>\n",
       "    <tr>\n",
       "      <th>11</th>\n",
       "      <td>Q44</td>\n",
       "      <td>RY7</td>\n",
       "      <td>NaN</td>\n",
       "      <td>0501013B0AAAAAA</td>\n",
       "      <td>Amoxicillin_Cap 250mg</td>\n",
       "      <td>1</td>\n",
       "      <td>0.66</td>\n",
       "      <td>0.62</td>\n",
       "      <td>15</td>\n",
       "      <td>201811</td>\n",
       "      <td></td>\n",
       "      <td>2018</td>\n",
       "      <td>amoxicillin</td>\n",
       "    </tr>\n",
       "    <tr>\n",
       "      <th>12</th>\n",
       "      <td>Q44</td>\n",
       "      <td>RY7</td>\n",
       "      <td>N85645</td>\n",
       "      <td>0501013B0AAABAB</td>\n",
       "      <td>Amoxicillin_Cap 500mg</td>\n",
       "      <td>71</td>\n",
       "      <td>54.30</td>\n",
       "      <td>51.24</td>\n",
       "      <td>1086</td>\n",
       "      <td>201811</td>\n",
       "      <td></td>\n",
       "      <td>2018</td>\n",
       "      <td>amoxicillin</td>\n",
       "    </tr>\n",
       "  </tbody>\n",
       "</table>\n",
       "</div>"
      ],
      "text/plain": [
       "    SHA  PCT PRACTICE         BNF CODE  \\\n",
       "0   Q44  RXA   Y00327  0501011P0AAADAD   \n",
       "1   Q44  RXA   Y00327  0501011P0AAAFAF   \n",
       "2   Q44  RXA   Y00327  0501012G0AAAAAA   \n",
       "3   Q44  RXA   Y00327  0501013B0AAAAAA   \n",
       "4   Q44  RXA   Y00327  0501013B0AAABAB   \n",
       "5   Q44  RXA   Y00327  0501013B0AAAJAJ   \n",
       "6   Q44  RY7   N85638  0501011P0AAADAD   \n",
       "7   Q44  RY7   N85638  0501011P0AAAJAJ   \n",
       "8   Q44  RY7   N85645  0501012G0AAAAAA   \n",
       "9   Q44  RY7   N85645  0501012G0AAABAB   \n",
       "10  Q44  RY7   N85645  0501012G0AAAFAF   \n",
       "11  Q44  RY7      NaN  0501013B0AAAAAA   \n",
       "12  Q44  RY7   N85645  0501013B0AAABAB   \n",
       "\n",
       "   BNF NAME                                      ITEMS    NIC          \\\n",
       "0      Phenoxymethylpenicillin_Soln 125mg/5ml         12       120.78   \n",
       "1      Phenoxymethylpenicillin_Soln 250mg/5ml          5        51.20   \n",
       "2      Fluclox Sod_Cap 250mg                           4         3.42   \n",
       "3      Amoxicillin_Cap 250mg                           1         0.92   \n",
       "4      Amoxicillin_Cap 500mg                          32        33.00   \n",
       "5      Amoxicillin_Oral Susp 125mg/5ml                 7        15.07   \n",
       "6      Phenoxymethylpenicillin_Soln 125mg/5ml          8        76.86   \n",
       "7      Phenoxymethylpenicillin Pot_Tab 250mg          23        49.80   \n",
       "8      Fluclox Sod_Cap 250mg                           2         3.00   \n",
       "9      Fluclox Sod_Cap 500mg                          92       197.09   \n",
       "10     Fluclox Sod_Oral Soln 125mg/5ml                 8        85.93   \n",
       "11     Amoxicillin_Cap 250mg                           1         0.66   \n",
       "12     Amoxicillin_Cap 500mg                          71        54.30   \n",
       "\n",
       "    ACT COST     QUANTITY  PERIOD                      YEAR  \\\n",
       "0        112.10      2200  201811                      2018   \n",
       "1         47.52       800  201811                      2018   \n",
       "2          3.42        96  201811                      2018   \n",
       "3          0.87        21  201811                      2018   \n",
       "4         30.98       660  201811                      2018   \n",
       "5         14.05      1100  201811                      2018   \n",
       "6         71.34      1400  201811                      2018   \n",
       "7         48.45      1660  201811                      2018   \n",
       "8          2.81        84  201811                      2018   \n",
       "9        184.23      2588  201811                      2018   \n",
       "10        79.76      1300  201811                      2018   \n",
       "11         0.62        15  201811                      2018   \n",
       "12        51.24      1086  201811                      2018   \n",
       "\n",
       "                  DRUG NAME  \n",
       "0   phenoxymethylpenicillin  \n",
       "1   phenoxymethylpenicillin  \n",
       "2                   fluclox  \n",
       "3               amoxicillin  \n",
       "4               amoxicillin  \n",
       "5               amoxicillin  \n",
       "6   phenoxymethylpenicillin  \n",
       "7   phenoxymethylpenicillin  \n",
       "8                   fluclox  \n",
       "9                   fluclox  \n",
       "10                  fluclox  \n",
       "11              amoxicillin  \n",
       "12              amoxicillin  "
      ]
     },
     "execution_count": 82,
     "metadata": {},
     "output_type": "execute_result"
    }
   ],
   "source": [
    "sample[\"DRUG NAME\"] = sample['BNF NAME                                    '].apply(extract_drug_name)\n",
    "sample"
   ]
  },
  {
   "cell_type": "markdown",
   "metadata": {},
   "source": [
    "## Split-Apply-Combine\n",
    "\n",
    "We are referring to a process involving one or more of the following steps:\n",
    "\n",
    "- Splitting the data into groups based on some criteria.\n",
    "- Applying a function to each group independently.\n",
    "- Combining the results into a data structure.\n",
    "\n",
    "Out of these, the split step is the most straightforward. In fact, in many situations we may wish to split the data set into groups and do something with those groups. In the apply step, we might wish to one of the following:\n",
    "\n",
    "- Aggregation: compute a summary statistic (or statistics) for each group.\n",
    "- Transformation: perform some group-specific computations and return a like-indexed object.\n",
    "- Filtration: discard some groups, according to a group-wise computation that evaluates True or False.\n",
    "\n",
    "**Aim**\n",
    "\n",
    "Which GP surgery has prescribed the most and least antibiotics?"
   ]
  },
  {
   "cell_type": "code",
   "execution_count": 46,
   "metadata": {
    "collapsed": true
   },
   "outputs": [],
   "source": [
    "# Splitting\n",
    "grouped = data.groupby(\"PRACTICE\")"
   ]
  },
  {
   "cell_type": "code",
   "execution_count": 47,
   "metadata": {
    "collapsed": false
   },
   "outputs": [
    {
     "data": {
      "text/plain": [
       "PRACTICE\n",
       "A81001    32\n",
       "A81002    63\n",
       "A81004    54\n",
       "A81005    49\n",
       "A81006    60\n",
       "A81007    53\n",
       "A81009    49\n",
       "A81011    46\n",
       "A81012    45\n",
       "A81013    51\n",
       "A81014    36\n",
       "A81016    54\n",
       "A81017    64\n",
       "A81018    55\n",
       "A81019    64\n",
       "A81020    56\n",
       "A81021    59\n",
       "A81022    57\n",
       "A81023    43\n",
       "A81025    36\n",
       "A81026    67\n",
       "A81027    48\n",
       "A81029    38\n",
       "A81030    66\n",
       "A81031    60\n",
       "A81032    52\n",
       "A81034    62\n",
       "A81035    50\n",
       "A81036    58\n",
       "A81037    47\n",
       "          ..\n",
       "Y06239    16\n",
       "Y06240     2\n",
       "Y06241     6\n",
       "Y06242     2\n",
       "Y06243     4\n",
       "Y06244     8\n",
       "Y06245     8\n",
       "Y06247    12\n",
       "Y06256     3\n",
       "Y06257     5\n",
       "Y06258     1\n",
       "Y06259    15\n",
       "Y06260     1\n",
       "Y06263     1\n",
       "Y06268    23\n",
       "Y06270     3\n",
       "Y06271    19\n",
       "Y06272     2\n",
       "Y06275    32\n",
       "Y06276     1\n",
       "Y06277    14\n",
       "Y06278     1\n",
       "Y06281    33\n",
       "Y06287    15\n",
       "Y06291     3\n",
       "Y06295     2\n",
       "Y06296     2\n",
       "Y06298    12\n",
       "Y06311    16\n",
       "Y06315     6\n",
       "Length: 8410, dtype: int64"
      ]
     },
     "execution_count": 47,
     "metadata": {},
     "output_type": "execute_result"
    }
   ],
   "source": [
    "# Apply\n",
    "grouped.size()"
   ]
  },
  {
   "cell_type": "code",
   "execution_count": 48,
   "metadata": {
    "collapsed": false
   },
   "outputs": [
    {
     "data": {
      "text/plain": [
       "PRACTICE\n",
       "F81695     1\n",
       "Y05418     1\n",
       "Y02730     1\n",
       "Y05448     1\n",
       "Y05451     1\n",
       "Y05452     1\n",
       "Y05458     1\n",
       "Y05459     1\n",
       "Y04368     1\n",
       "Y05465     1\n",
       "Y05414     1\n",
       "Y05471     1\n",
       "Y05479     1\n",
       "Y05482     1\n",
       "Y02489     1\n",
       "Y02482     1\n",
       "Y05530     1\n",
       "Y02465     1\n",
       "Y05561     1\n",
       "Y05567     1\n",
       "Y05572     1\n",
       "Y02563     1\n",
       "Y05406     1\n",
       "Y05404     1\n",
       "Y02765     1\n",
       "Y05205     1\n",
       "Y03361     1\n",
       "Y05221     1\n",
       "Y05246     1\n",
       "Y03215     1\n",
       "          ..\n",
       "P81196    73\n",
       "D81026    73\n",
       "C84017    73\n",
       "K83026    73\n",
       "D81008    73\n",
       "D83046    74\n",
       "B81008    74\n",
       "A82044    74\n",
       "A82016    74\n",
       "Y01008    75\n",
       "J82622    75\n",
       "F81043    75\n",
       "E82005    76\n",
       "H85020    76\n",
       "Y01929    76\n",
       "N83028    77\n",
       "J82155    78\n",
       "G82071    78\n",
       "L83100    79\n",
       "J82069    79\n",
       "E82013    80\n",
       "D81043    81\n",
       "M81026    81\n",
       "D82044    82\n",
       "K83002    82\n",
       "F81042    82\n",
       "D81022    85\n",
       "M85046    86\n",
       "M88004    87\n",
       "M85063    97\n",
       "Length: 8410, dtype: int64"
      ]
     },
     "execution_count": 48,
     "metadata": {},
     "output_type": "execute_result"
    }
   ],
   "source": [
    "grouped.size().sort_values()  # You can use ascending=False"
   ]
  },
  {
   "cell_type": "code",
   "execution_count": 49,
   "metadata": {
    "collapsed": false
   },
   "outputs": [
    {
     "data": {
      "text/plain": [
       "PRACTICE\n",
       "M85063    97\n",
       "dtype: int64"
      ]
     },
     "execution_count": 49,
     "metadata": {},
     "output_type": "execute_result"
    }
   ],
   "source": [
    "grouped.size().sort_values(ascending=False).head(1)"
   ]
  },
  {
   "cell_type": "markdown",
   "metadata": {},
   "source": [
    "## Plotting\n",
    "\n",
    "The plot method on a Series and DataFrame is just a simple wrapper around matplotlib.\n",
    "\n",
    "**Aim**\n",
    "\n",
    "What does the distribution of antibiotics prescribed by GP practices look like?"
   ]
  },
  {
   "cell_type": "code",
   "execution_count": 50,
   "metadata": {
    "collapsed": false
   },
   "outputs": [
    {
     "data": {
      "text/plain": [
       "1     267\n",
       "47    254\n",
       "46    248\n",
       "44    246\n",
       "43    246\n",
       "45    246\n",
       "42    230\n",
       "37    229\n",
       "51    222\n",
       "39    222\n",
       "49    222\n",
       "40    218\n",
       "50    214\n",
       "41    212\n",
       "48    202\n",
       "34    195\n",
       "36    195\n",
       "38    195\n",
       "35    174\n",
       "54    171\n",
       "31    169\n",
       "53    166\n",
       "33    164\n",
       "52    162\n",
       "32    161\n",
       "55    158\n",
       "56    146\n",
       "2     145\n",
       "28    133\n",
       "30    129\n",
       "     ... \n",
       "14     41\n",
       "11     39\n",
       "16     38\n",
       "17     37\n",
       "65     36\n",
       "13     34\n",
       "9      34\n",
       "66     33\n",
       "12     31\n",
       "10     27\n",
       "68     23\n",
       "67     19\n",
       "71     19\n",
       "69     13\n",
       "72     11\n",
       "70      9\n",
       "73      8\n",
       "74      4\n",
       "75      3\n",
       "82      3\n",
       "76      3\n",
       "81      2\n",
       "79      2\n",
       "78      2\n",
       "80      1\n",
       "97      1\n",
       "77      1\n",
       "85      1\n",
       "86      1\n",
       "87      1\n",
       "Length: 86, dtype: int64"
      ]
     },
     "execution_count": 50,
     "metadata": {},
     "output_type": "execute_result"
    }
   ],
   "source": [
    "grouped.size().value_counts()"
   ]
  },
  {
   "cell_type": "markdown",
   "metadata": {},
   "source": [
    "Note that the Series is sorted using the values. For the histogram we need sort it by the index."
   ]
  },
  {
   "cell_type": "code",
   "execution_count": 51,
   "metadata": {
    "collapsed": false
   },
   "outputs": [
    {
     "data": {
      "text/plain": [
       "1     267\n",
       "2     145\n",
       "3     103\n",
       "4      95\n",
       "5      53\n",
       "6      65\n",
       "7      41\n",
       "8      49\n",
       "9      34\n",
       "10     27\n",
       "11     39\n",
       "12     31\n",
       "13     34\n",
       "14     41\n",
       "15     42\n",
       "16     38\n",
       "17     37\n",
       "18     47\n",
       "19     47\n",
       "20     47\n",
       "21     52\n",
       "22     76\n",
       "23     66\n",
       "24     96\n",
       "25    112\n",
       "26    104\n",
       "27    113\n",
       "28    133\n",
       "29    129\n",
       "30    129\n",
       "     ... \n",
       "57    128\n",
       "58    102\n",
       "59     98\n",
       "60     89\n",
       "61     69\n",
       "62     63\n",
       "63     59\n",
       "64     47\n",
       "65     36\n",
       "66     33\n",
       "67     19\n",
       "68     23\n",
       "69     13\n",
       "70      9\n",
       "71     19\n",
       "72     11\n",
       "73      8\n",
       "74      4\n",
       "75      3\n",
       "76      3\n",
       "77      1\n",
       "78      2\n",
       "79      2\n",
       "80      1\n",
       "81      2\n",
       "82      3\n",
       "85      1\n",
       "86      1\n",
       "87      1\n",
       "97      1\n",
       "Length: 86, dtype: int64"
      ]
     },
     "execution_count": 51,
     "metadata": {},
     "output_type": "execute_result"
    }
   ],
   "source": [
    "distribution_data = grouped.size().value_counts().sort_index()\n",
    "distribution_data"
   ]
  },
  {
   "cell_type": "code",
   "execution_count": 52,
   "metadata": {
    "collapsed": false
   },
   "outputs": [
    {
     "data": {
      "text/plain": [
       "<matplotlib.axes._subplots.AxesSubplot at 0x7ff261e2f5c0>"
      ]
     },
     "execution_count": 52,
     "metadata": {},
     "output_type": "execute_result"
    }
   ],
   "source": [
    "distribution_data.plot()"
   ]
  },
  {
   "cell_type": "code",
   "execution_count": 53,
   "metadata": {
    "collapsed": false
   },
   "outputs": [
    {
     "data": {
      "text/plain": [
       "<matplotlib.axes._subplots.AxesSubplot at 0x7ff261aad780>"
      ]
     },
     "execution_count": 53,
     "metadata": {},
     "output_type": "execute_result"
    },
    {
     "data": {
      "image/png": "[encoded data removed]",
      "text/plain": [
       "<Figure size 432x288 with 1 Axes>"
      ]
     },
     "metadata": {},
     "output_type": "display_data"
    }
   ],
   "source": [
    "%matplotlib inline\n",
    "\n",
    "distribution_data.plot()"
   ]
  },
  {
   "cell_type": "code",
   "execution_count": 54,
   "metadata": {
    "collapsed": true
   },
   "outputs": [],
   "source": [
    "import matplotlib.pyplot as plt"
   ]
  },
  {
   "cell_type": "code",
   "execution_count": 55,
   "metadata": {
    "collapsed": false
   },
   "outputs": [
    {
     "data": {
      "text/plain": [
       "<matplotlib.axes._subplots.AxesSubplot at 0x7ff25e24c588>"
      ]
     },
     "execution_count": 55,
     "metadata": {},
     "output_type": "execute_result"
    },
    {
     "data": {
      "image/png": "[encoded data removed]",
      "text/plain": [
       "<Figure size 432x288 with 1 Axes>"
      ]
     },
     "metadata": {},
     "output_type": "display_data"
    }
   ],
   "source": [
    "# More at https://matplotlib.org/api/_as_gen/matplotlib.pyplot.html#functions\n",
    "\n",
    "plt.title(\"Histogram\")\n",
    "plt.xlabel(\"Number of prescriptions\")\n",
    "plt.ylabel(\"Number of practices prescribing\")\n",
    "distribution_data.plot()"
   ]
  }
 ],
 "metadata": {
  "kernelspec": {
   "display_name": "Python 3",
   "language": "python",
   "name": "python3"
  },
  "language_info": {
   "codemirror_mode": {
    "name": "ipython",
    "version": 3
   },
   "file_extension": ".py",
   "mimetype": "text/x-python",
   "name": "python",
   "nbconvert_exporter": "python",
   "pygments_lexer": "ipython3",
   "version": "3.6.0"
  }
 },
 "nbformat": 4,
 "nbformat_minor": 2
}
