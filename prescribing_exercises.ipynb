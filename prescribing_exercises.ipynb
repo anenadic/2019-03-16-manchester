{
 "cells": [
  {
   "cell_type": "markdown",
   "metadata": {},
   "source": [
    "## What is the most commonly prescribed antibiotic?"
   ]
  },
  {
   "cell_type": "code",
   "execution_count": 1,
   "metadata": {
    "collapsed": true
   },
   "outputs": [],
   "source": [
    "import pandas"
   ]
  },
  {
   "cell_type": "code",
   "execution_count": 3,
   "metadata": {},
   "outputs": [],
   "source": [
    "data = pandas.read_csv('antibiotic.csv')"
   ]
  },
  {
   "cell_type": "code",
   "execution_count": 4,
   "metadata": {},
   "outputs": [
    {
     "data": {
      "text/html": [
       "<div>\n",
       "<style>\n",
       "    .dataframe thead tr:only-child th {\n",
       "        text-align: right;\n",
       "    }\n",
       "\n",
       "    .dataframe thead th {\n",
       "        text-align: left;\n",
       "    }\n",
       "\n",
       "    .dataframe tbody tr th {\n",
       "        vertical-align: top;\n",
       "    }\n",
       "</style>\n",
       "<table border=\"1\" class=\"dataframe\">\n",
       "  <thead>\n",
       "    <tr style=\"text-align: right;\">\n",
       "      <th></th>\n",
       "      <th>SHA</th>\n",
       "      <th>PCT</th>\n",
       "      <th>PRACTICE</th>\n",
       "      <th>BNF CODE</th>\n",
       "      <th>BNF NAME</th>\n",
       "      <th>ITEMS</th>\n",
       "      <th>NIC</th>\n",
       "      <th>ACT COST</th>\n",
       "      <th>QUANTITY</th>\n",
       "      <th>PERIOD</th>\n",
       "      <th></th>\n",
       "    </tr>\n",
       "  </thead>\n",
       "  <tbody>\n",
       "    <tr>\n",
       "      <th>0</th>\n",
       "      <td>Q44</td>\n",
       "      <td>RXA</td>\n",
       "      <td>Y00327</td>\n",
       "      <td>0501011P0AAADAD</td>\n",
       "      <td>Phenoxymethylpenicillin_Soln 125mg/5ml</td>\n",
       "      <td>12</td>\n",
       "      <td>120.78</td>\n",
       "      <td>112.10</td>\n",
       "      <td>2200</td>\n",
       "      <td>201811</td>\n",
       "      <td></td>\n",
       "    </tr>\n",
       "    <tr>\n",
       "      <th>1</th>\n",
       "      <td>Q44</td>\n",
       "      <td>RXA</td>\n",
       "      <td>Y00327</td>\n",
       "      <td>0501011P0AAAFAF</td>\n",
       "      <td>Phenoxymethylpenicillin_Soln 250mg/5ml</td>\n",
       "      <td>5</td>\n",
       "      <td>51.20</td>\n",
       "      <td>47.52</td>\n",
       "      <td>800</td>\n",
       "      <td>201811</td>\n",
       "      <td></td>\n",
       "    </tr>\n",
       "    <tr>\n",
       "      <th>2</th>\n",
       "      <td>Q44</td>\n",
       "      <td>RXA</td>\n",
       "      <td>Y00327</td>\n",
       "      <td>0501011P0AAAJAJ</td>\n",
       "      <td>Phenoxymethylpenicillin Pot_Tab 250mg</td>\n",
       "      <td>18</td>\n",
       "      <td>39.36</td>\n",
       "      <td>38.21</td>\n",
       "      <td>1312</td>\n",
       "      <td>201811</td>\n",
       "      <td></td>\n",
       "    </tr>\n",
       "    <tr>\n",
       "      <th>3</th>\n",
       "      <td>Q44</td>\n",
       "      <td>RXA</td>\n",
       "      <td>Y00327</td>\n",
       "      <td>0501011P0AAARAR</td>\n",
       "      <td>Phenoxymethylpenicillin_Soln 125mg/5mlSF</td>\n",
       "      <td>2</td>\n",
       "      <td>36.20</td>\n",
       "      <td>33.58</td>\n",
       "      <td>400</td>\n",
       "      <td>201811</td>\n",
       "      <td></td>\n",
       "    </tr>\n",
       "    <tr>\n",
       "      <th>4</th>\n",
       "      <td>Q44</td>\n",
       "      <td>RXA</td>\n",
       "      <td>Y00327</td>\n",
       "      <td>0501011P0AAASAS</td>\n",
       "      <td>Phenoxymethylpenicillin_Soln 250mg/5mlSF</td>\n",
       "      <td>1</td>\n",
       "      <td>7.53</td>\n",
       "      <td>6.99</td>\n",
       "      <td>100</td>\n",
       "      <td>201811</td>\n",
       "      <td></td>\n",
       "    </tr>\n",
       "  </tbody>\n",
       "</table>\n",
       "</div>"
      ],
      "text/plain": [
       "   SHA  PCT PRACTICE         BNF CODE  \\\n",
       "0  Q44  RXA   Y00327  0501011P0AAADAD   \n",
       "1  Q44  RXA   Y00327  0501011P0AAAFAF   \n",
       "2  Q44  RXA   Y00327  0501011P0AAAJAJ   \n",
       "3  Q44  RXA   Y00327  0501011P0AAARAR   \n",
       "4  Q44  RXA   Y00327  0501011P0AAASAS   \n",
       "\n",
       "  BNF NAME                                      ITEMS    NIC          \\\n",
       "0     Phenoxymethylpenicillin_Soln 125mg/5ml         12       120.78   \n",
       "1     Phenoxymethylpenicillin_Soln 250mg/5ml          5        51.20   \n",
       "2     Phenoxymethylpenicillin Pot_Tab 250mg          18        39.36   \n",
       "3     Phenoxymethylpenicillin_Soln 125mg/5mlSF        2        36.20   \n",
       "4     Phenoxymethylpenicillin_Soln 250mg/5mlSF        1         7.53   \n",
       "\n",
       "   ACT COST     QUANTITY  PERIOD                      \n",
       "0       112.10      2200  201811                      \n",
       "1        47.52       800  201811                      \n",
       "2        38.21      1312  201811                      \n",
       "3        33.58       400  201811                      \n",
       "4         6.99       100  201811                      "
      ]
     },
     "execution_count": 4,
     "metadata": {},
     "output_type": "execute_result"
    }
   ],
   "source": [
    "data.head()"
   ]
  },
  {
   "cell_type": "code",
   "execution_count": 5,
   "metadata": {
    "collapsed": true
   },
   "outputs": [],
   "source": [
    "unique_bnf_codes = data['BNF CODE'].unique()"
   ]
  },
  {
   "cell_type": "markdown",
   "metadata": {},
   "source": [
    "### Very manual method:"
   ]
  },
  {
   "cell_type": "code",
   "execution_count": 6,
   "metadata": {},
   "outputs": [
    {
     "name": "stdout",
     "output_type": "stream",
     "text": [
      "Most common BNF code: 0501012G0AAABAB\n",
      "Frequency of most common drug: 7833\n"
     ]
    }
   ],
   "source": [
    "most_common_count = 0\n",
    "for code in unique_bnf_codes:\n",
    "    counts = len(data.loc[data['BNF CODE'] == code, 'BNF CODE'])\n",
    "    \n",
    "    if counts > most_common_count:\n",
    "        most_common_count = counts\n",
    "        most_common_code = code\n",
    "print('Most common BNF code:', most_common_code)\n",
    "print('Frequency of most common drug:', most_common_count)"
   ]
  },
  {
   "cell_type": "markdown",
   "metadata": {},
   "source": [
    "### Quicker method I found online"
   ]
  },
  {
   "cell_type": "code",
   "execution_count": 22,
   "metadata": {},
   "outputs": [
    {
     "data": {
      "text/plain": [
       "0501012G0AAABAB    7833\n",
       "0501013B0AAABAB    7809\n",
       "0501030I0AAABAB    7736\n",
       "0501050B0AAADAD    7505\n",
       "0501011P0AAAJAJ    7422\n",
       "0501130R0AAAGAG    7410\n",
       "0501013K0AAAJAJ    7327\n",
       "0501080W0AAAEAE    7318\n",
       "0501030L0AAABAB    7044\n",
       "0501110C0AAAJAJ    7029\n",
       "0501013B0AAATAT    6859\n",
       "0501120L0AAAFAF    6667\n",
       "0501050C0AAABAB    6583\n",
       "0501013B0AAASAS    6441\n",
       "0501080W0AAAIAI    6165\n",
       "0501080W0AAADAD    5915\n",
       "0501130R0AAADAD    5805\n",
       "0501050A0AAAGAG    5760\n",
       "0501012G0AAAAAA    5754\n",
       "0501013B0AAAKAK    5713\n",
       "0501012G0AAAFAF    5667\n",
       "0501030T0AAAJAJ    5616\n",
       "0501011P0AAADAD    5581\n",
       "0501050B0AAAAAA    5297\n",
       "0501011P0AAAFAF    5234\n",
       "0501021L0AAABAB    5065\n",
       "0501050B0AAABAB    4883\n",
       "0501021L0AAAAAA    4814\n",
       "0501130R0AAAAAA    4786\n",
       "0501013B0AAAAAA    4446\n",
       "                   ... \n",
       "0501080D0BGAEAE       1\n",
       "0501030F0AAAIAI       1\n",
       "0501050B0BBAFAF       1\n",
       "0501040H0AAAWAW       1\n",
       "0501070T0BBABAB       1\n",
       "0501050N0BCABAB       1\n",
       "0501021K0BBACAC       1\n",
       "0501050B0BEAAAE       1\n",
       "0501013K0AAAFAF       1\n",
       "0501021J0AAABAB       1\n",
       "0501021G0BBACAD       1\n",
       "0501030P0BDAAAD       1\n",
       "0501040C0AAAAAA       1\n",
       "0501012H0AAABAB       1\n",
       "0501021H0AAACAC       1\n",
       "0501012G0AAADAD       1\n",
       "0501013E0BEAAAA       1\n",
       "0501070H0AAAEAE       1\n",
       "0501090H0AABDBD       1\n",
       "0501080V0AAADAD       1\n",
       "0501040U0AAAHAH       1\n",
       "0501090R0BCABAB       1\n",
       "0501090Q0BBAAAB       1\n",
       "0501090N0BBABCJ       1\n",
       "0501050C0BCAAAK       1\n",
       "0501013C0AAACAC       1\n",
       "0501080D0AAABAB       1\n",
       "0501021D0AAAAAA       1\n",
       "0501090E0AAABAB       1\n",
       "0501110C0BCAEAH       1\n",
       "Name: BNF CODE, Length: 317, dtype: int64"
      ]
     },
     "execution_count": 22,
     "metadata": {},
     "output_type": "execute_result"
    }
   ],
   "source": [
    "data['BNF CODE'].value_counts()"
   ]
  },
  {
   "cell_type": "code",
   "execution_count": null,
   "metadata": {
    "collapsed": true
   },
   "outputs": [],
   "source": []
  }
 ],
 "metadata": {
  "kernelspec": {
   "display_name": "Python 3",
   "language": "python",
   "name": "python3"
  },
  "language_info": {
   "codemirror_mode": {
    "name": "ipython",
    "version": 3
   },
   "file_extension": ".py",
   "mimetype": "text/x-python",
   "name": "python",
   "nbconvert_exporter": "python",
   "pygments_lexer": "ipython3",
   "version": "3.6.3"
  }
 },
 "nbformat": 4,
 "nbformat_minor": 2
}
