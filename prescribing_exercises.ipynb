{
 "cells": [
  {
   "cell_type": "markdown",
   "metadata": {},
   "source": [
    "# Data Carpentry Inspired Workshop\n",
    "\n",
    "This workshop is inspired by the Data Carpentry python lesson for ecology: https://datacarpentry.org/python-ecology-lesson/. You use this lesson as a reference and come back to it after the workshop (it is open source and freely available). The main difference is that we are using UK antibiotics prescribing data for the exercises in this workshop."
   ]
  },
  {
   "cell_type": "markdown",
   "metadata": {},
   "source": [
    "## Motivation\n",
    "\n",
    "Screening two short videos from the \"New Amsterdam\" TV show.\n",
    "\n",
    "### Video 1\n",
    "\n",
    "06:50 This is when Dr. Max Goodwin fires the cardiologists.\n",
    "\"How can we help?\"\n",
    "\n",
    "\n",
    "### Video 2\n",
    "\n",
    "12:55 This is when Dr. Floyd Reynolds is hired.\n",
    "\"Because there are other ways of helping people other than cutting them open.\"\n",
    "\n",
    "### Plot\n",
    "\n",
    "Show the plot that we are looking at the end of the day."
   ]
  },
  {
   "cell_type": "markdown",
   "metadata": {},
   "source": [
    "## Data\n",
    "\n",
    "https://www.dropbox.com/s/r9ain5cmuh6ztk2/antibiotics.csv?dl=0"
   ]
  },
  {
   "cell_type": "markdown",
   "metadata": {},
   "source": [
    "## Aims\n",
    "\n",
    "We would like to answer the following questions at the end of the day:\n",
    "\n",
    "1. What is the most prescribed drug during November 2018?\n",
    "2. How the distribution of number of prescriptions vs the number of practices in November 2018 looks like?\n",
    "3. How has the number of antibiotics prescriptions changed between August and November 2018?\n",
    "4. Which practice has been treating patients for tuberculosis?"
   ]
  },
  {
   "cell_type": "markdown",
   "metadata": {},
   "source": [
    "# Excel\n",
    "\n",
    "If you received `data/report-drugs.csv` and `report-prescriptions.csv`, could you answer these questions?\n",
    "\n",
    "And if you received `data/antibiotics.csv`?"
   ]
  },
  {
   "cell_type": "markdown",
   "metadata": {},
   "source": [
    "## What is Python?\n",
    "\n",
    "Python is a general-purpose programming language that supports rapid development of data analytics applications. The word “Python” is used to refer to both the programming language and the tool that executes the scripts written in Python language."
   ]
  },
  {
   "cell_type": "markdown",
   "metadata": {},
   "source": [
    "## Jupyter Notebook\n",
    "\n",
    "The Jupyter Notebook is an open-source web application that allows you to create and share documents that contain cells with live code, equations, visualizations and narrative text. You can type Python code into a code cell and then execute the code by pressing `Shift`+`Return`. Output will be printed directly under the input cell. You can recognise a code cell by the `In[ ]:` at the beginning of the cell and output by `Out[ ]:`. Pressing the `+` button in the menu bar will add a new cell. All your commands as well as any output will be saved with the notebook. You can also easily share a notebook with your colleagues, along with the data that the notebook code is processing."
   ]
  },
  {
   "cell_type": "markdown",
   "metadata": {},
   "source": [
    "## Introduction to Python"
   ]
  },
  {
   "cell_type": "markdown",
   "metadata": {
    "collapsed": true
   },
   "source": [
    "### Arithmetic operations"
   ]
  },
  {
   "cell_type": "markdown",
   "metadata": {},
   "source": [
    "**Exercise**\n",
    "\n",
    "Do arithmetic operations using Python."
   ]
  },
  {
   "cell_type": "code",
   "execution_count": 4,
   "metadata": {
    "collapsed": false
   },
   "outputs": [
    {
     "data": {
      "text/plain": [
       "4"
      ]
     },
     "execution_count": 4,
     "metadata": {},
     "output_type": "execute_result"
    }
   ],
   "source": [
    "2 + 2"
   ]
  },
  {
   "cell_type": "markdown",
   "metadata": {
    "collapsed": true
   },
   "source": [
    "### Variables"
   ]
  },
  {
   "cell_type": "markdown",
   "metadata": {},
   "source": [
    "**Exercise**\n",
    "\n",
    "Create a variable that stores an integer."
   ]
  },
  {
   "cell_type": "code",
   "execution_count": 5,
   "metadata": {
    "collapsed": true
   },
   "outputs": [],
   "source": [
    "number_of_chromosomes = 23"
   ]
  },
  {
   "cell_type": "markdown",
   "metadata": {},
   "source": [
    "**Exercise**\n",
    "\n",
    "Create a variable that stores some text."
   ]
  },
  {
   "cell_type": "code",
   "execution_count": 6,
   "metadata": {
    "collapsed": true
   },
   "outputs": [],
   "source": [
    "university_name = \"University of Manchester\""
   ]
  },
  {
   "cell_type": "markdown",
   "metadata": {},
   "source": [
    "### Functions"
   ]
  },
  {
   "cell_type": "markdown",
   "metadata": {},
   "source": [
    "You can use the function `print` to show the value of variables."
   ]
  },
  {
   "cell_type": "code",
   "execution_count": 7,
   "metadata": {
    "collapsed": false
   },
   "outputs": [
    {
     "name": "stdout",
     "output_type": "stream",
     "text": [
      "23\n"
     ]
    }
   ],
   "source": [
    "print(number_of_chromosomes)"
   ]
  },
  {
   "cell_type": "code",
   "execution_count": 8,
   "metadata": {
    "collapsed": false
   },
   "outputs": [
    {
     "name": "stdout",
     "output_type": "stream",
     "text": [
      "University of Manchester\n"
     ]
    }
   ],
   "source": [
    "print(university_name)"
   ]
  },
  {
   "cell_type": "markdown",
   "metadata": {},
   "source": [
    "**Exercise**\n",
    "\n",
    "How many characters are there in \"University of Manchester\"?"
   ]
  },
  {
   "cell_type": "code",
   "execution_count": 9,
   "metadata": {
    "collapsed": false
   },
   "outputs": [
    {
     "data": {
      "text/plain": [
       "24"
      ]
     },
     "execution_count": 9,
     "metadata": {},
     "output_type": "execute_result"
    }
   ],
   "source": [
    "len(university_name)"
   ]
  },
  {
   "cell_type": "markdown",
   "metadata": {},
   "source": [
    "## Python built-in data types\n",
    "\n",
    "**Exercise**\n",
    "\n",
    "Create a list containing the individual words in the string \"University of Manchester\"."
   ]
  },
  {
   "cell_type": "code",
   "execution_count": 10,
   "metadata": {
    "collapsed": false
   },
   "outputs": [
    {
     "data": {
      "text/plain": [
       "['University', 'of', 'Manchester']"
      ]
     },
     "execution_count": 10,
     "metadata": {},
     "output_type": "execute_result"
    }
   ],
   "source": [
    "university_name.split()"
   ]
  },
  {
   "cell_type": "markdown",
   "metadata": {},
   "source": [
    "Lists are a common data structure to hold an ordered sequence of elements. Each element can be accessed by an index. Note that Python indexes start with 0 instead of 1."
   ]
  },
  {
   "cell_type": "code",
   "execution_count": 11,
   "metadata": {
    "collapsed": false
   },
   "outputs": [
    {
     "data": {
      "text/plain": [
       "'University'"
      ]
     },
     "execution_count": 11,
     "metadata": {},
     "output_type": "execute_result"
    }
   ],
   "source": [
    "university_name_parts = university_name.split()\n",
    "university_name_parts[0]"
   ]
  },
  {
   "cell_type": "markdown",
   "metadata": {},
   "source": [
    "### Loops"
   ]
  },
  {
   "cell_type": "markdown",
   "metadata": {},
   "source": [
    "A for loop can be used to access the elements in a list or other Python data structure one at a time:"
   ]
  },
  {
   "cell_type": "code",
   "execution_count": 12,
   "metadata": {
    "collapsed": false
   },
   "outputs": [
    {
     "name": "stdout",
     "output_type": "stream",
     "text": [
      "10\n",
      "2\n",
      "10\n"
     ]
    }
   ],
   "source": [
    "for part in university_name_parts:\n",
    "    print(len(part))"
   ]
  },
  {
   "cell_type": "markdown",
   "metadata": {},
   "source": [
    "## Libraries\n",
    "\n",
    "One of the best options for working with tabular data in Python is to use the Python Data Analysis Library (a.k.a. Pandas). The Pandas library provides data structures, produces high quality plots with matplotlib and integrates nicely with other libraries that use NumPy (which is another Python library) arrays.\n",
    "\n",
    "Python doesn’t load all of the libraries available to it by default. We have to add an import statement to our code in order to use library functions. To import a library, we use the syntax `import libraryName`. If we want to give the library a nickname to shorten the command, we can add `as nickName`. An example of importing the pandas library using the common nickname `pd` is below."
   ]
  },
  {
   "cell_type": "code",
   "execution_count": 1,
   "metadata": {
    "collapsed": true
   },
   "outputs": [],
   "source": [
    "import pandas as pd"
   ]
  },
  {
   "cell_type": "code",
   "execution_count": 2,
   "metadata": {
    "collapsed": false
   },
   "outputs": [
    {
     "data": {
      "text/html": [
       "<div>\n",
       "<style>\n",
       "    .dataframe thead tr:only-child th {\n",
       "        text-align: right;\n",
       "    }\n",
       "\n",
       "    .dataframe thead th {\n",
       "        text-align: left;\n",
       "    }\n",
       "\n",
       "    .dataframe tbody tr th {\n",
       "        vertical-align: top;\n",
       "    }\n",
       "</style>\n",
       "<table border=\"1\" class=\"dataframe\">\n",
       "  <thead>\n",
       "    <tr style=\"text-align: right;\">\n",
       "      <th></th>\n",
       "      <th>SHA</th>\n",
       "      <th>PCT</th>\n",
       "      <th>PRACTICE</th>\n",
       "      <th>BNF CODE</th>\n",
       "      <th>BNF NAME</th>\n",
       "      <th>ITEMS</th>\n",
       "      <th>NIC</th>\n",
       "      <th>ACT COST</th>\n",
       "      <th>QUANTITY</th>\n",
       "      <th>PERIOD</th>\n",
       "      <th></th>\n",
       "    </tr>\n",
       "  </thead>\n",
       "  <tbody>\n",
       "    <tr>\n",
       "      <th>0</th>\n",
       "      <td>Q44</td>\n",
       "      <td>RXA</td>\n",
       "      <td>Y00327</td>\n",
       "      <td>0501011P0AAADAD</td>\n",
       "      <td>Phenoxymethylpenicillin_Soln 125mg/5ml</td>\n",
       "      <td>15</td>\n",
       "      <td>223.86</td>\n",
       "      <td>208.10</td>\n",
       "      <td>2600</td>\n",
       "      <td>201808</td>\n",
       "      <td></td>\n",
       "    </tr>\n",
       "    <tr>\n",
       "      <th>1</th>\n",
       "      <td>Q44</td>\n",
       "      <td>RXA</td>\n",
       "      <td>Y00327</td>\n",
       "      <td>0501011P0AAAFAF</td>\n",
       "      <td>Phenoxymethylpenicillin_Soln 250mg/5ml</td>\n",
       "      <td>5</td>\n",
       "      <td>107.88</td>\n",
       "      <td>100.26</td>\n",
       "      <td>1200</td>\n",
       "      <td>201808</td>\n",
       "      <td></td>\n",
       "    </tr>\n",
       "    <tr>\n",
       "      <th>2</th>\n",
       "      <td>Q44</td>\n",
       "      <td>RXA</td>\n",
       "      <td>Y00327</td>\n",
       "      <td>0501012G0AAAAAA</td>\n",
       "      <td>Fluclox Sod_Cap 250mg</td>\n",
       "      <td>3</td>\n",
       "      <td>3.18</td>\n",
       "      <td>3.09</td>\n",
       "      <td>76</td>\n",
       "      <td>201808</td>\n",
       "      <td></td>\n",
       "    </tr>\n",
       "    <tr>\n",
       "      <th>3</th>\n",
       "      <td>Q44</td>\n",
       "      <td>RXA</td>\n",
       "      <td>Y00327</td>\n",
       "      <td>0501013B0AAAAAA</td>\n",
       "      <td>Amoxicillin_Cap 250mg</td>\n",
       "      <td>2</td>\n",
       "      <td>1.66</td>\n",
       "      <td>1.57</td>\n",
       "      <td>42</td>\n",
       "      <td>201808</td>\n",
       "      <td></td>\n",
       "    </tr>\n",
       "    <tr>\n",
       "      <th>4</th>\n",
       "      <td>Q44</td>\n",
       "      <td>RXA</td>\n",
       "      <td>Y00327</td>\n",
       "      <td>0501013B0AAABAB</td>\n",
       "      <td>Amoxicillin_Cap 500mg</td>\n",
       "      <td>27</td>\n",
       "      <td>25.92</td>\n",
       "      <td>24.41</td>\n",
       "      <td>513</td>\n",
       "      <td>201808</td>\n",
       "      <td></td>\n",
       "    </tr>\n",
       "    <tr>\n",
       "      <th>5</th>\n",
       "      <td>Q44</td>\n",
       "      <td>RXA</td>\n",
       "      <td>Y00327</td>\n",
       "      <td>0501013B0AAAJAJ</td>\n",
       "      <td>Amoxicillin_Oral Susp 125mg/5ml</td>\n",
       "      <td>3</td>\n",
       "      <td>4.38</td>\n",
       "      <td>4.11</td>\n",
       "      <td>300</td>\n",
       "      <td>201808</td>\n",
       "      <td></td>\n",
       "    </tr>\n",
       "    <tr>\n",
       "      <th>6</th>\n",
       "      <td>Q44</td>\n",
       "      <td>RXA</td>\n",
       "      <td>Y00327</td>\n",
       "      <td>0501011P0AAADAD</td>\n",
       "      <td>Phenoxymethylpenicillin_Soln 125mg/5ml</td>\n",
       "      <td>12</td>\n",
       "      <td>120.78</td>\n",
       "      <td>112.10</td>\n",
       "      <td>2200</td>\n",
       "      <td>201811</td>\n",
       "      <td></td>\n",
       "    </tr>\n",
       "    <tr>\n",
       "      <th>7</th>\n",
       "      <td>Q44</td>\n",
       "      <td>RXA</td>\n",
       "      <td>Y00327</td>\n",
       "      <td>0501011P0AAAFAF</td>\n",
       "      <td>Phenoxymethylpenicillin_Soln 250mg/5ml</td>\n",
       "      <td>5</td>\n",
       "      <td>51.20</td>\n",
       "      <td>47.52</td>\n",
       "      <td>800</td>\n",
       "      <td>201811</td>\n",
       "      <td></td>\n",
       "    </tr>\n",
       "    <tr>\n",
       "      <th>8</th>\n",
       "      <td>Q44</td>\n",
       "      <td>RXA</td>\n",
       "      <td>Y00327</td>\n",
       "      <td>0501012G0AAAAAA</td>\n",
       "      <td>Fluclox Sod_Cap 250mg</td>\n",
       "      <td>4</td>\n",
       "      <td>3.42</td>\n",
       "      <td>3.42</td>\n",
       "      <td>96</td>\n",
       "      <td>201811</td>\n",
       "      <td></td>\n",
       "    </tr>\n",
       "    <tr>\n",
       "      <th>9</th>\n",
       "      <td>Q44</td>\n",
       "      <td>RXA</td>\n",
       "      <td>Y00327</td>\n",
       "      <td>0501013B0AAAAAA</td>\n",
       "      <td>Amoxicillin_Cap 250mg</td>\n",
       "      <td>1</td>\n",
       "      <td>0.92</td>\n",
       "      <td>0.87</td>\n",
       "      <td>21</td>\n",
       "      <td>201811</td>\n",
       "      <td></td>\n",
       "    </tr>\n",
       "    <tr>\n",
       "      <th>10</th>\n",
       "      <td>Q44</td>\n",
       "      <td>RXA</td>\n",
       "      <td>Y00327</td>\n",
       "      <td>0501013B0AAABAB</td>\n",
       "      <td>Amoxicillin_Cap 500mg</td>\n",
       "      <td>32</td>\n",
       "      <td>33.00</td>\n",
       "      <td>30.98</td>\n",
       "      <td>660</td>\n",
       "      <td>201811</td>\n",
       "      <td></td>\n",
       "    </tr>\n",
       "    <tr>\n",
       "      <th>11</th>\n",
       "      <td>Q44</td>\n",
       "      <td>RXA</td>\n",
       "      <td>Y00327</td>\n",
       "      <td>0501013B0AAAJAJ</td>\n",
       "      <td>Amoxicillin_Oral Susp 125mg/5ml</td>\n",
       "      <td>7</td>\n",
       "      <td>15.07</td>\n",
       "      <td>14.05</td>\n",
       "      <td>1100</td>\n",
       "      <td>201811</td>\n",
       "      <td></td>\n",
       "    </tr>\n",
       "  </tbody>\n",
       "</table>\n",
       "</div>"
      ],
      "text/plain": [
       "    SHA  PCT PRACTICE         BNF CODE  \\\n",
       "0   Q44  RXA   Y00327  0501011P0AAADAD   \n",
       "1   Q44  RXA   Y00327  0501011P0AAAFAF   \n",
       "2   Q44  RXA   Y00327  0501012G0AAAAAA   \n",
       "3   Q44  RXA   Y00327  0501013B0AAAAAA   \n",
       "4   Q44  RXA   Y00327  0501013B0AAABAB   \n",
       "5   Q44  RXA   Y00327  0501013B0AAAJAJ   \n",
       "6   Q44  RXA   Y00327  0501011P0AAADAD   \n",
       "7   Q44  RXA   Y00327  0501011P0AAAFAF   \n",
       "8   Q44  RXA   Y00327  0501012G0AAAAAA   \n",
       "9   Q44  RXA   Y00327  0501013B0AAAAAA   \n",
       "10  Q44  RXA   Y00327  0501013B0AAABAB   \n",
       "11  Q44  RXA   Y00327  0501013B0AAAJAJ   \n",
       "\n",
       "                                    BNF NAME  ITEMS     NIC  ACT COST  \\\n",
       "0   Phenoxymethylpenicillin_Soln 125mg/5ml       15  223.86    208.10   \n",
       "1   Phenoxymethylpenicillin_Soln 250mg/5ml        5  107.88    100.26   \n",
       "2   Fluclox Sod_Cap 250mg                         3    3.18      3.09   \n",
       "3   Amoxicillin_Cap 250mg                         2    1.66      1.57   \n",
       "4   Amoxicillin_Cap 500mg                        27   25.92     24.41   \n",
       "5   Amoxicillin_Oral Susp 125mg/5ml               3    4.38      4.11   \n",
       "6   Phenoxymethylpenicillin_Soln 125mg/5ml       12  120.78    112.10   \n",
       "7   Phenoxymethylpenicillin_Soln 250mg/5ml        5   51.20     47.52   \n",
       "8   Fluclox Sod_Cap 250mg                         4    3.42      3.42   \n",
       "9   Amoxicillin_Cap 250mg                         1    0.92      0.87   \n",
       "10  Amoxicillin_Cap 500mg                        32   33.00     30.98   \n",
       "11  Amoxicillin_Oral Susp 125mg/5ml               7   15.07     14.05   \n",
       "\n",
       "    QUANTITY  PERIOD                      \n",
       "0       2600  201808                      \n",
       "1       1200  201808                      \n",
       "2         76  201808                      \n",
       "3         42  201808                      \n",
       "4        513  201808                      \n",
       "5        300  201808                      \n",
       "6       2200  201811                      \n",
       "7        800  201811                      \n",
       "8         96  201811                      \n",
       "9         21  201811                      \n",
       "10       660  201811                      \n",
       "11      1100  201811                      "
      ]
     },
     "execution_count": 2,
     "metadata": {},
     "output_type": "execute_result"
    }
   ],
   "source": [
    "pd.read_csv(\"data/antibiotics-sample.csv\")"
   ]
  },
  {
   "cell_type": "markdown",
   "metadata": {},
   "source": [
    "## Navigating files and directories"
   ]
  },
  {
   "cell_type": "code",
   "execution_count": 5,
   "metadata": {
    "collapsed": false
   },
   "outputs": [
    {
     "data": {
      "text/plain": [
       "'/home/raniere/Documents/2019-03-16-manchester'"
      ]
     },
     "execution_count": 5,
     "metadata": {},
     "output_type": "execute_result"
    }
   ],
   "source": [
    "import os\n",
    "\n",
    "os.getcwd()"
   ]
  },
  {
   "cell_type": "code",
   "execution_count": 16,
   "metadata": {
    "collapsed": false
   },
   "outputs": [
    {
     "data": {
      "text/plain": [
       "['.editorconfig',\n",
       " '.git',\n",
       " '.github',\n",
       " '.gitignore',\n",
       " '.ipynb_checkpoints',\n",
       " '.mailmap',\n",
       " '.travis.yml',\n",
       " '_config.yml',\n",
       " '_episodes',\n",
       " '_episodes_rmd',\n",
       " '_extras',\n",
       " '_includes',\n",
       " '_layouts',\n",
       " 'assets',\n",
       " 'AUTHORS',\n",
       " 'bin',\n",
       " 'CITATION',\n",
       " 'code',\n",
       " 'CODE_OF_CONDUCT.md',\n",
       " 'CONDUCT.md',\n",
       " 'CONTRIBUTING.md',\n",
       " 'data',\n",
       " 'fig',\n",
       " 'files',\n",
       " 'index.md',\n",
       " 'LICENSE.md',\n",
       " 'Makefile',\n",
       " 'postBuild',\n",
       " 'prescribing_exercises.ipynb',\n",
       " 'README.md',\n",
       " 'requirements.txt',\n",
       " 'setup']"
      ]
     },
     "execution_count": 16,
     "metadata": {},
     "output_type": "execute_result"
    }
   ],
   "source": [
    "os.listdir()"
   ]
  },
  {
   "cell_type": "code",
   "execution_count": 17,
   "metadata": {
    "collapsed": true
   },
   "outputs": [],
   "source": [
    "os.chdir(\"data\")"
   ]
  },
  {
   "cell_type": "code",
   "execution_count": 18,
   "metadata": {
    "collapsed": false
   },
   "outputs": [
    {
     "ename": "FileNotFoundError",
     "evalue": "File b'data/antibiotics-sample.csv' does not exist",
     "output_type": "error",
     "traceback": [
      "\u001b[0;31m---------------------------------------------------------------------------\u001b[0m",
      "\u001b[0;31mFileNotFoundError\u001b[0m                         Traceback (most recent call last)",
      "\u001b[0;32m<ipython-input-18-a54e868bf2eb>\u001b[0m in \u001b[0;36m<module>\u001b[0;34m()\u001b[0m\n\u001b[0;32m----> 1\u001b[0;31m \u001b[0mpd\u001b[0m\u001b[0;34m.\u001b[0m\u001b[0mread_csv\u001b[0m\u001b[0;34m(\u001b[0m\u001b[0;34m\"data/antibiotics-sample.csv\"\u001b[0m\u001b[0;34m)\u001b[0m\u001b[0;34m\u001b[0m\u001b[0m\n\u001b[0m",
      "\u001b[0;32m/Users/alex/anaconda/lib/python3.6/site-packages/pandas/io/parsers.py\u001b[0m in \u001b[0;36mparser_f\u001b[0;34m(filepath_or_buffer, sep, delimiter, header, names, index_col, usecols, squeeze, prefix, mangle_dupe_cols, dtype, engine, converters, true_values, false_values, skipinitialspace, skiprows, nrows, na_values, keep_default_na, na_filter, verbose, skip_blank_lines, parse_dates, infer_datetime_format, keep_date_col, date_parser, dayfirst, iterator, chunksize, compression, thousands, decimal, lineterminator, quotechar, quoting, escapechar, comment, encoding, dialect, tupleize_cols, error_bad_lines, warn_bad_lines, skipfooter, skip_footer, doublequote, delim_whitespace, as_recarray, compact_ints, use_unsigned, low_memory, buffer_lines, memory_map, float_precision)\u001b[0m\n\u001b[1;32m    653\u001b[0m                     skip_blank_lines=skip_blank_lines)\n\u001b[1;32m    654\u001b[0m \u001b[0;34m\u001b[0m\u001b[0m\n\u001b[0;32m--> 655\u001b[0;31m         \u001b[0;32mreturn\u001b[0m \u001b[0m_read\u001b[0m\u001b[0;34m(\u001b[0m\u001b[0mfilepath_or_buffer\u001b[0m\u001b[0;34m,\u001b[0m \u001b[0mkwds\u001b[0m\u001b[0;34m)\u001b[0m\u001b[0;34m\u001b[0m\u001b[0m\n\u001b[0m\u001b[1;32m    656\u001b[0m \u001b[0;34m\u001b[0m\u001b[0m\n\u001b[1;32m    657\u001b[0m     \u001b[0mparser_f\u001b[0m\u001b[0;34m.\u001b[0m\u001b[0m__name__\u001b[0m \u001b[0;34m=\u001b[0m \u001b[0mname\u001b[0m\u001b[0;34m\u001b[0m\u001b[0m\n",
      "\u001b[0;32m/Users/alex/anaconda/lib/python3.6/site-packages/pandas/io/parsers.py\u001b[0m in \u001b[0;36m_read\u001b[0;34m(filepath_or_buffer, kwds)\u001b[0m\n\u001b[1;32m    403\u001b[0m \u001b[0;34m\u001b[0m\u001b[0m\n\u001b[1;32m    404\u001b[0m     \u001b[0;31m# Create the parser.\u001b[0m\u001b[0;34m\u001b[0m\u001b[0;34m\u001b[0m\u001b[0m\n\u001b[0;32m--> 405\u001b[0;31m     \u001b[0mparser\u001b[0m \u001b[0;34m=\u001b[0m \u001b[0mTextFileReader\u001b[0m\u001b[0;34m(\u001b[0m\u001b[0mfilepath_or_buffer\u001b[0m\u001b[0;34m,\u001b[0m \u001b[0;34m**\u001b[0m\u001b[0mkwds\u001b[0m\u001b[0;34m)\u001b[0m\u001b[0;34m\u001b[0m\u001b[0m\n\u001b[0m\u001b[1;32m    406\u001b[0m \u001b[0;34m\u001b[0m\u001b[0m\n\u001b[1;32m    407\u001b[0m     \u001b[0;32mif\u001b[0m \u001b[0mchunksize\u001b[0m \u001b[0;32mor\u001b[0m \u001b[0miterator\u001b[0m\u001b[0;34m:\u001b[0m\u001b[0;34m\u001b[0m\u001b[0m\n",
      "\u001b[0;32m/Users/alex/anaconda/lib/python3.6/site-packages/pandas/io/parsers.py\u001b[0m in \u001b[0;36m__init__\u001b[0;34m(self, f, engine, **kwds)\u001b[0m\n\u001b[1;32m    762\u001b[0m             \u001b[0mself\u001b[0m\u001b[0;34m.\u001b[0m\u001b[0moptions\u001b[0m\u001b[0;34m[\u001b[0m\u001b[0;34m'has_index_names'\u001b[0m\u001b[0;34m]\u001b[0m \u001b[0;34m=\u001b[0m \u001b[0mkwds\u001b[0m\u001b[0;34m[\u001b[0m\u001b[0;34m'has_index_names'\u001b[0m\u001b[0;34m]\u001b[0m\u001b[0;34m\u001b[0m\u001b[0m\n\u001b[1;32m    763\u001b[0m \u001b[0;34m\u001b[0m\u001b[0m\n\u001b[0;32m--> 764\u001b[0;31m         \u001b[0mself\u001b[0m\u001b[0;34m.\u001b[0m\u001b[0m_make_engine\u001b[0m\u001b[0;34m(\u001b[0m\u001b[0mself\u001b[0m\u001b[0;34m.\u001b[0m\u001b[0mengine\u001b[0m\u001b[0;34m)\u001b[0m\u001b[0;34m\u001b[0m\u001b[0m\n\u001b[0m\u001b[1;32m    765\u001b[0m \u001b[0;34m\u001b[0m\u001b[0m\n\u001b[1;32m    766\u001b[0m     \u001b[0;32mdef\u001b[0m \u001b[0mclose\u001b[0m\u001b[0;34m(\u001b[0m\u001b[0mself\u001b[0m\u001b[0;34m)\u001b[0m\u001b[0;34m:\u001b[0m\u001b[0;34m\u001b[0m\u001b[0m\n",
      "\u001b[0;32m/Users/alex/anaconda/lib/python3.6/site-packages/pandas/io/parsers.py\u001b[0m in \u001b[0;36m_make_engine\u001b[0;34m(self, engine)\u001b[0m\n\u001b[1;32m    983\u001b[0m     \u001b[0;32mdef\u001b[0m \u001b[0m_make_engine\u001b[0m\u001b[0;34m(\u001b[0m\u001b[0mself\u001b[0m\u001b[0;34m,\u001b[0m \u001b[0mengine\u001b[0m\u001b[0;34m=\u001b[0m\u001b[0;34m'c'\u001b[0m\u001b[0;34m)\u001b[0m\u001b[0;34m:\u001b[0m\u001b[0;34m\u001b[0m\u001b[0m\n\u001b[1;32m    984\u001b[0m         \u001b[0;32mif\u001b[0m \u001b[0mengine\u001b[0m \u001b[0;34m==\u001b[0m \u001b[0;34m'c'\u001b[0m\u001b[0;34m:\u001b[0m\u001b[0;34m\u001b[0m\u001b[0m\n\u001b[0;32m--> 985\u001b[0;31m             \u001b[0mself\u001b[0m\u001b[0;34m.\u001b[0m\u001b[0m_engine\u001b[0m \u001b[0;34m=\u001b[0m \u001b[0mCParserWrapper\u001b[0m\u001b[0;34m(\u001b[0m\u001b[0mself\u001b[0m\u001b[0;34m.\u001b[0m\u001b[0mf\u001b[0m\u001b[0;34m,\u001b[0m \u001b[0;34m**\u001b[0m\u001b[0mself\u001b[0m\u001b[0;34m.\u001b[0m\u001b[0moptions\u001b[0m\u001b[0;34m)\u001b[0m\u001b[0;34m\u001b[0m\u001b[0m\n\u001b[0m\u001b[1;32m    986\u001b[0m         \u001b[0;32melse\u001b[0m\u001b[0;34m:\u001b[0m\u001b[0;34m\u001b[0m\u001b[0m\n\u001b[1;32m    987\u001b[0m             \u001b[0;32mif\u001b[0m \u001b[0mengine\u001b[0m \u001b[0;34m==\u001b[0m \u001b[0;34m'python'\u001b[0m\u001b[0;34m:\u001b[0m\u001b[0;34m\u001b[0m\u001b[0m\n",
      "\u001b[0;32m/Users/alex/anaconda/lib/python3.6/site-packages/pandas/io/parsers.py\u001b[0m in \u001b[0;36m__init__\u001b[0;34m(self, src, **kwds)\u001b[0m\n\u001b[1;32m   1603\u001b[0m         \u001b[0mkwds\u001b[0m\u001b[0;34m[\u001b[0m\u001b[0;34m'allow_leading_cols'\u001b[0m\u001b[0;34m]\u001b[0m \u001b[0;34m=\u001b[0m \u001b[0mself\u001b[0m\u001b[0;34m.\u001b[0m\u001b[0mindex_col\u001b[0m \u001b[0;32mis\u001b[0m \u001b[0;32mnot\u001b[0m \u001b[0;32mFalse\u001b[0m\u001b[0;34m\u001b[0m\u001b[0m\n\u001b[1;32m   1604\u001b[0m \u001b[0;34m\u001b[0m\u001b[0m\n\u001b[0;32m-> 1605\u001b[0;31m         \u001b[0mself\u001b[0m\u001b[0;34m.\u001b[0m\u001b[0m_reader\u001b[0m \u001b[0;34m=\u001b[0m \u001b[0mparsers\u001b[0m\u001b[0;34m.\u001b[0m\u001b[0mTextReader\u001b[0m\u001b[0;34m(\u001b[0m\u001b[0msrc\u001b[0m\u001b[0;34m,\u001b[0m \u001b[0;34m**\u001b[0m\u001b[0mkwds\u001b[0m\u001b[0;34m)\u001b[0m\u001b[0;34m\u001b[0m\u001b[0m\n\u001b[0m\u001b[1;32m   1606\u001b[0m \u001b[0;34m\u001b[0m\u001b[0m\n\u001b[1;32m   1607\u001b[0m         \u001b[0;31m# XXX\u001b[0m\u001b[0;34m\u001b[0m\u001b[0;34m\u001b[0m\u001b[0m\n",
      "\u001b[0;32mpandas/_libs/parsers.pyx\u001b[0m in \u001b[0;36mpandas._libs.parsers.TextReader.__cinit__ (pandas/_libs/parsers.c:4209)\u001b[0;34m()\u001b[0m\n",
      "\u001b[0;32mpandas/_libs/parsers.pyx\u001b[0m in \u001b[0;36mpandas._libs.parsers.TextReader._setup_parser_source (pandas/_libs/parsers.c:8873)\u001b[0;34m()\u001b[0m\n",
      "\u001b[0;31mFileNotFoundError\u001b[0m: File b'data/antibiotics-sample.csv' does not exist"
     ]
    }
   ],
   "source": [
    "pd.read_csv(\"data/antibiotics-sample.csv\")"
   ]
  },
  {
   "cell_type": "code",
   "execution_count": 6,
   "metadata": {
    "collapsed": false
   },
   "outputs": [
    {
     "data": {
      "text/plain": [
       "'/home/raniere/Documents/2019-03-16-manchester'"
      ]
     },
     "execution_count": 6,
     "metadata": {},
     "output_type": "execute_result"
    }
   ],
   "source": [
    "os.getcwd()"
   ]
  },
  {
   "cell_type": "code",
   "execution_count": 3,
   "metadata": {
    "collapsed": false,
    "scrolled": true
   },
   "outputs": [
    {
     "ename": "FileNotFoundError",
     "evalue": "File b'antibiotics-sample.csv' does not exist",
     "output_type": "error",
     "traceback": [
      "\u001b[0;31m---------------------------------------------------------------------------\u001b[0m",
      "\u001b[0;31mFileNotFoundError\u001b[0m                         Traceback (most recent call last)",
      "\u001b[0;32m<ipython-input-3-aba9bde68e07>\u001b[0m in \u001b[0;36m<module>\u001b[0;34m()\u001b[0m\n\u001b[0;32m----> 1\u001b[0;31m \u001b[0mpd\u001b[0m\u001b[0;34m.\u001b[0m\u001b[0mread_csv\u001b[0m\u001b[0;34m(\u001b[0m\u001b[0;34m\"antibiotics-sample.csv\"\u001b[0m\u001b[0;34m)\u001b[0m\u001b[0;34m\u001b[0m\u001b[0m\n\u001b[0m",
      "\u001b[0;32m/Users/alex/anaconda/lib/python3.6/site-packages/pandas/io/parsers.py\u001b[0m in \u001b[0;36mparser_f\u001b[0;34m(filepath_or_buffer, sep, delimiter, header, names, index_col, usecols, squeeze, prefix, mangle_dupe_cols, dtype, engine, converters, true_values, false_values, skipinitialspace, skiprows, nrows, na_values, keep_default_na, na_filter, verbose, skip_blank_lines, parse_dates, infer_datetime_format, keep_date_col, date_parser, dayfirst, iterator, chunksize, compression, thousands, decimal, lineterminator, quotechar, quoting, escapechar, comment, encoding, dialect, tupleize_cols, error_bad_lines, warn_bad_lines, skipfooter, skip_footer, doublequote, delim_whitespace, as_recarray, compact_ints, use_unsigned, low_memory, buffer_lines, memory_map, float_precision)\u001b[0m\n\u001b[1;32m    653\u001b[0m                     skip_blank_lines=skip_blank_lines)\n\u001b[1;32m    654\u001b[0m \u001b[0;34m\u001b[0m\u001b[0m\n\u001b[0;32m--> 655\u001b[0;31m         \u001b[0;32mreturn\u001b[0m \u001b[0m_read\u001b[0m\u001b[0;34m(\u001b[0m\u001b[0mfilepath_or_buffer\u001b[0m\u001b[0;34m,\u001b[0m \u001b[0mkwds\u001b[0m\u001b[0;34m)\u001b[0m\u001b[0;34m\u001b[0m\u001b[0m\n\u001b[0m\u001b[1;32m    656\u001b[0m \u001b[0;34m\u001b[0m\u001b[0m\n\u001b[1;32m    657\u001b[0m     \u001b[0mparser_f\u001b[0m\u001b[0;34m.\u001b[0m\u001b[0m__name__\u001b[0m \u001b[0;34m=\u001b[0m \u001b[0mname\u001b[0m\u001b[0;34m\u001b[0m\u001b[0m\n",
      "\u001b[0;32m/Users/alex/anaconda/lib/python3.6/site-packages/pandas/io/parsers.py\u001b[0m in \u001b[0;36m_read\u001b[0;34m(filepath_or_buffer, kwds)\u001b[0m\n\u001b[1;32m    403\u001b[0m \u001b[0;34m\u001b[0m\u001b[0m\n\u001b[1;32m    404\u001b[0m     \u001b[0;31m# Create the parser.\u001b[0m\u001b[0;34m\u001b[0m\u001b[0;34m\u001b[0m\u001b[0m\n\u001b[0;32m--> 405\u001b[0;31m     \u001b[0mparser\u001b[0m \u001b[0;34m=\u001b[0m \u001b[0mTextFileReader\u001b[0m\u001b[0;34m(\u001b[0m\u001b[0mfilepath_or_buffer\u001b[0m\u001b[0;34m,\u001b[0m \u001b[0;34m**\u001b[0m\u001b[0mkwds\u001b[0m\u001b[0;34m)\u001b[0m\u001b[0;34m\u001b[0m\u001b[0m\n\u001b[0m\u001b[1;32m    406\u001b[0m \u001b[0;34m\u001b[0m\u001b[0m\n\u001b[1;32m    407\u001b[0m     \u001b[0;32mif\u001b[0m \u001b[0mchunksize\u001b[0m \u001b[0;32mor\u001b[0m \u001b[0miterator\u001b[0m\u001b[0;34m:\u001b[0m\u001b[0;34m\u001b[0m\u001b[0m\n",
      "\u001b[0;32m/Users/alex/anaconda/lib/python3.6/site-packages/pandas/io/parsers.py\u001b[0m in \u001b[0;36m__init__\u001b[0;34m(self, f, engine, **kwds)\u001b[0m\n\u001b[1;32m    762\u001b[0m             \u001b[0mself\u001b[0m\u001b[0;34m.\u001b[0m\u001b[0moptions\u001b[0m\u001b[0;34m[\u001b[0m\u001b[0;34m'has_index_names'\u001b[0m\u001b[0;34m]\u001b[0m \u001b[0;34m=\u001b[0m \u001b[0mkwds\u001b[0m\u001b[0;34m[\u001b[0m\u001b[0;34m'has_index_names'\u001b[0m\u001b[0;34m]\u001b[0m\u001b[0;34m\u001b[0m\u001b[0m\n\u001b[1;32m    763\u001b[0m \u001b[0;34m\u001b[0m\u001b[0m\n\u001b[0;32m--> 764\u001b[0;31m         \u001b[0mself\u001b[0m\u001b[0;34m.\u001b[0m\u001b[0m_make_engine\u001b[0m\u001b[0;34m(\u001b[0m\u001b[0mself\u001b[0m\u001b[0;34m.\u001b[0m\u001b[0mengine\u001b[0m\u001b[0;34m)\u001b[0m\u001b[0;34m\u001b[0m\u001b[0m\n\u001b[0m\u001b[1;32m    765\u001b[0m \u001b[0;34m\u001b[0m\u001b[0m\n\u001b[1;32m    766\u001b[0m     \u001b[0;32mdef\u001b[0m \u001b[0mclose\u001b[0m\u001b[0;34m(\u001b[0m\u001b[0mself\u001b[0m\u001b[0;34m)\u001b[0m\u001b[0;34m:\u001b[0m\u001b[0;34m\u001b[0m\u001b[0m\n",
      "\u001b[0;32m/Users/alex/anaconda/lib/python3.6/site-packages/pandas/io/parsers.py\u001b[0m in \u001b[0;36m_make_engine\u001b[0;34m(self, engine)\u001b[0m\n\u001b[1;32m    983\u001b[0m     \u001b[0;32mdef\u001b[0m \u001b[0m_make_engine\u001b[0m\u001b[0;34m(\u001b[0m\u001b[0mself\u001b[0m\u001b[0;34m,\u001b[0m \u001b[0mengine\u001b[0m\u001b[0;34m=\u001b[0m\u001b[0;34m'c'\u001b[0m\u001b[0;34m)\u001b[0m\u001b[0;34m:\u001b[0m\u001b[0;34m\u001b[0m\u001b[0m\n\u001b[1;32m    984\u001b[0m         \u001b[0;32mif\u001b[0m \u001b[0mengine\u001b[0m \u001b[0;34m==\u001b[0m \u001b[0;34m'c'\u001b[0m\u001b[0;34m:\u001b[0m\u001b[0;34m\u001b[0m\u001b[0m\n\u001b[0;32m--> 985\u001b[0;31m             \u001b[0mself\u001b[0m\u001b[0;34m.\u001b[0m\u001b[0m_engine\u001b[0m \u001b[0;34m=\u001b[0m \u001b[0mCParserWrapper\u001b[0m\u001b[0;34m(\u001b[0m\u001b[0mself\u001b[0m\u001b[0;34m.\u001b[0m\u001b[0mf\u001b[0m\u001b[0;34m,\u001b[0m \u001b[0;34m**\u001b[0m\u001b[0mself\u001b[0m\u001b[0;34m.\u001b[0m\u001b[0moptions\u001b[0m\u001b[0;34m)\u001b[0m\u001b[0;34m\u001b[0m\u001b[0m\n\u001b[0m\u001b[1;32m    986\u001b[0m         \u001b[0;32melse\u001b[0m\u001b[0;34m:\u001b[0m\u001b[0;34m\u001b[0m\u001b[0m\n\u001b[1;32m    987\u001b[0m             \u001b[0;32mif\u001b[0m \u001b[0mengine\u001b[0m \u001b[0;34m==\u001b[0m \u001b[0;34m'python'\u001b[0m\u001b[0;34m:\u001b[0m\u001b[0;34m\u001b[0m\u001b[0m\n",
      "\u001b[0;32m/Users/alex/anaconda/lib/python3.6/site-packages/pandas/io/parsers.py\u001b[0m in \u001b[0;36m__init__\u001b[0;34m(self, src, **kwds)\u001b[0m\n\u001b[1;32m   1603\u001b[0m         \u001b[0mkwds\u001b[0m\u001b[0;34m[\u001b[0m\u001b[0;34m'allow_leading_cols'\u001b[0m\u001b[0;34m]\u001b[0m \u001b[0;34m=\u001b[0m \u001b[0mself\u001b[0m\u001b[0;34m.\u001b[0m\u001b[0mindex_col\u001b[0m \u001b[0;32mis\u001b[0m \u001b[0;32mnot\u001b[0m \u001b[0;32mFalse\u001b[0m\u001b[0;34m\u001b[0m\u001b[0m\n\u001b[1;32m   1604\u001b[0m \u001b[0;34m\u001b[0m\u001b[0m\n\u001b[0;32m-> 1605\u001b[0;31m         \u001b[0mself\u001b[0m\u001b[0;34m.\u001b[0m\u001b[0m_reader\u001b[0m \u001b[0;34m=\u001b[0m \u001b[0mparsers\u001b[0m\u001b[0;34m.\u001b[0m\u001b[0mTextReader\u001b[0m\u001b[0;34m(\u001b[0m\u001b[0msrc\u001b[0m\u001b[0;34m,\u001b[0m \u001b[0;34m**\u001b[0m\u001b[0mkwds\u001b[0m\u001b[0;34m)\u001b[0m\u001b[0;34m\u001b[0m\u001b[0m\n\u001b[0m\u001b[1;32m   1606\u001b[0m \u001b[0;34m\u001b[0m\u001b[0m\n\u001b[1;32m   1607\u001b[0m         \u001b[0;31m# XXX\u001b[0m\u001b[0;34m\u001b[0m\u001b[0;34m\u001b[0m\u001b[0m\n",
      "\u001b[0;32mpandas/_libs/parsers.pyx\u001b[0m in \u001b[0;36mpandas._libs.parsers.TextReader.__cinit__ (pandas/_libs/parsers.c:4209)\u001b[0;34m()\u001b[0m\n",
      "\u001b[0;32mpandas/_libs/parsers.pyx\u001b[0m in \u001b[0;36mpandas._libs.parsers.TextReader._setup_parser_source (pandas/_libs/parsers.c:8873)\u001b[0;34m()\u001b[0m\n",
      "\u001b[0;31mFileNotFoundError\u001b[0m: File b'antibiotics-sample.csv' does not exist"
     ]
    }
   ],
   "source": [
    "pd.read_csv(\"antibiotics-sample.csv\")"
   ]
  },
  {
   "cell_type": "markdown",
   "metadata": {},
   "source": [
    "Libraries can have pre-defined variables. These variables are different from functions witin libraries because we invoke them without parenthesis \"()\" at the end."
   ]
  },
  {
   "cell_type": "code",
   "execution_count": null,
   "metadata": {
    "collapsed": true
   },
   "outputs": [],
   "source": [
    "os.curdir  # This is '.' for Windows and POSIX."
   ]
  },
  {
   "cell_type": "code",
   "execution_count": null,
   "metadata": {
    "collapsed": true
   },
   "outputs": [],
   "source": [
    "os.pardir  # This is '..' for Windows and POSIX."
   ]
  },
  {
   "cell_type": "code",
   "execution_count": null,
   "metadata": {
    "collapsed": true
   },
   "outputs": [],
   "source": [
    "os.sep  # This is '/' for POSIX and '\\\\' for Windows."
   ]
  },
  {
   "cell_type": "markdown",
   "metadata": {},
   "source": [
    "Usually, libraries' variables are immutable (i.e. they act as constants that cannot be changed)."
   ]
  },
  {
   "cell_type": "code",
   "execution_count": 8,
   "metadata": {
    "collapsed": true
   },
   "outputs": [],
   "source": [
    "os.chdir(\"..\") # This is a function call, not a variable!"
   ]
  },
  {
   "cell_type": "code",
   "execution_count": 5,
   "metadata": {
    "collapsed": true
   },
   "outputs": [],
   "source": [
    "sample = pd.read_csv(\"data/antibiotics-sample.csv\")"
   ]
  },
  {
   "cell_type": "markdown",
   "metadata": {},
   "source": [
    "## Pandas' DataFrame data type"
   ]
  },
  {
   "cell_type": "code",
   "execution_count": 6,
   "metadata": {
    "collapsed": false
   },
   "outputs": [
    {
     "data": {
      "text/html": [
       "<div>\n",
       "<style>\n",
       "    .dataframe thead tr:only-child th {\n",
       "        text-align: right;\n",
       "    }\n",
       "\n",
       "    .dataframe thead th {\n",
       "        text-align: left;\n",
       "    }\n",
       "\n",
       "    .dataframe tbody tr th {\n",
       "        vertical-align: top;\n",
       "    }\n",
       "</style>\n",
       "<table border=\"1\" class=\"dataframe\">\n",
       "  <thead>\n",
       "    <tr style=\"text-align: right;\">\n",
       "      <th></th>\n",
       "      <th>SHA</th>\n",
       "      <th>PCT</th>\n",
       "      <th>PRACTICE</th>\n",
       "      <th>BNF CODE</th>\n",
       "      <th>BNF NAME</th>\n",
       "      <th>ITEMS</th>\n",
       "      <th>NIC</th>\n",
       "      <th>ACT COST</th>\n",
       "      <th>QUANTITY</th>\n",
       "      <th>PERIOD</th>\n",
       "      <th></th>\n",
       "    </tr>\n",
       "  </thead>\n",
       "  <tbody>\n",
       "    <tr>\n",
       "      <th>0</th>\n",
       "      <td>Q44</td>\n",
       "      <td>RXA</td>\n",
       "      <td>Y00327</td>\n",
       "      <td>0501011P0AAADAD</td>\n",
       "      <td>Phenoxymethylpenicillin_Soln 125mg/5ml</td>\n",
       "      <td>15</td>\n",
       "      <td>223.86</td>\n",
       "      <td>208.10</td>\n",
       "      <td>2600</td>\n",
       "      <td>201808</td>\n",
       "      <td></td>\n",
       "    </tr>\n",
       "    <tr>\n",
       "      <th>1</th>\n",
       "      <td>Q44</td>\n",
       "      <td>RXA</td>\n",
       "      <td>Y00327</td>\n",
       "      <td>0501011P0AAAFAF</td>\n",
       "      <td>Phenoxymethylpenicillin_Soln 250mg/5ml</td>\n",
       "      <td>5</td>\n",
       "      <td>107.88</td>\n",
       "      <td>100.26</td>\n",
       "      <td>1200</td>\n",
       "      <td>201808</td>\n",
       "      <td></td>\n",
       "    </tr>\n",
       "    <tr>\n",
       "      <th>2</th>\n",
       "      <td>Q44</td>\n",
       "      <td>RXA</td>\n",
       "      <td>Y00327</td>\n",
       "      <td>0501012G0AAAAAA</td>\n",
       "      <td>Fluclox Sod_Cap 250mg</td>\n",
       "      <td>3</td>\n",
       "      <td>3.18</td>\n",
       "      <td>3.09</td>\n",
       "      <td>76</td>\n",
       "      <td>201808</td>\n",
       "      <td></td>\n",
       "    </tr>\n",
       "    <tr>\n",
       "      <th>3</th>\n",
       "      <td>Q44</td>\n",
       "      <td>RXA</td>\n",
       "      <td>Y00327</td>\n",
       "      <td>0501013B0AAAAAA</td>\n",
       "      <td>Amoxicillin_Cap 250mg</td>\n",
       "      <td>2</td>\n",
       "      <td>1.66</td>\n",
       "      <td>1.57</td>\n",
       "      <td>42</td>\n",
       "      <td>201808</td>\n",
       "      <td></td>\n",
       "    </tr>\n",
       "    <tr>\n",
       "      <th>4</th>\n",
       "      <td>Q44</td>\n",
       "      <td>RXA</td>\n",
       "      <td>Y00327</td>\n",
       "      <td>0501013B0AAABAB</td>\n",
       "      <td>Amoxicillin_Cap 500mg</td>\n",
       "      <td>27</td>\n",
       "      <td>25.92</td>\n",
       "      <td>24.41</td>\n",
       "      <td>513</td>\n",
       "      <td>201808</td>\n",
       "      <td></td>\n",
       "    </tr>\n",
       "    <tr>\n",
       "      <th>5</th>\n",
       "      <td>Q44</td>\n",
       "      <td>RXA</td>\n",
       "      <td>Y00327</td>\n",
       "      <td>0501013B0AAAJAJ</td>\n",
       "      <td>Amoxicillin_Oral Susp 125mg/5ml</td>\n",
       "      <td>3</td>\n",
       "      <td>4.38</td>\n",
       "      <td>4.11</td>\n",
       "      <td>300</td>\n",
       "      <td>201808</td>\n",
       "      <td></td>\n",
       "    </tr>\n",
       "    <tr>\n",
       "      <th>6</th>\n",
       "      <td>Q44</td>\n",
       "      <td>RXA</td>\n",
       "      <td>Y00327</td>\n",
       "      <td>0501011P0AAADAD</td>\n",
       "      <td>Phenoxymethylpenicillin_Soln 125mg/5ml</td>\n",
       "      <td>12</td>\n",
       "      <td>120.78</td>\n",
       "      <td>112.10</td>\n",
       "      <td>2200</td>\n",
       "      <td>201811</td>\n",
       "      <td></td>\n",
       "    </tr>\n",
       "    <tr>\n",
       "      <th>7</th>\n",
       "      <td>Q44</td>\n",
       "      <td>RXA</td>\n",
       "      <td>Y00327</td>\n",
       "      <td>0501011P0AAAFAF</td>\n",
       "      <td>Phenoxymethylpenicillin_Soln 250mg/5ml</td>\n",
       "      <td>5</td>\n",
       "      <td>51.20</td>\n",
       "      <td>47.52</td>\n",
       "      <td>800</td>\n",
       "      <td>201811</td>\n",
       "      <td></td>\n",
       "    </tr>\n",
       "    <tr>\n",
       "      <th>8</th>\n",
       "      <td>Q44</td>\n",
       "      <td>RXA</td>\n",
       "      <td>Y00327</td>\n",
       "      <td>0501012G0AAAAAA</td>\n",
       "      <td>Fluclox Sod_Cap 250mg</td>\n",
       "      <td>4</td>\n",
       "      <td>3.42</td>\n",
       "      <td>3.42</td>\n",
       "      <td>96</td>\n",
       "      <td>201811</td>\n",
       "      <td></td>\n",
       "    </tr>\n",
       "    <tr>\n",
       "      <th>9</th>\n",
       "      <td>Q44</td>\n",
       "      <td>RXA</td>\n",
       "      <td>Y00327</td>\n",
       "      <td>0501013B0AAAAAA</td>\n",
       "      <td>Amoxicillin_Cap 250mg</td>\n",
       "      <td>1</td>\n",
       "      <td>0.92</td>\n",
       "      <td>0.87</td>\n",
       "      <td>21</td>\n",
       "      <td>201811</td>\n",
       "      <td></td>\n",
       "    </tr>\n",
       "    <tr>\n",
       "      <th>10</th>\n",
       "      <td>Q44</td>\n",
       "      <td>RXA</td>\n",
       "      <td>Y00327</td>\n",
       "      <td>0501013B0AAABAB</td>\n",
       "      <td>Amoxicillin_Cap 500mg</td>\n",
       "      <td>32</td>\n",
       "      <td>33.00</td>\n",
       "      <td>30.98</td>\n",
       "      <td>660</td>\n",
       "      <td>201811</td>\n",
       "      <td></td>\n",
       "    </tr>\n",
       "    <tr>\n",
       "      <th>11</th>\n",
       "      <td>Q44</td>\n",
       "      <td>RXA</td>\n",
       "      <td>Y00327</td>\n",
       "      <td>0501013B0AAAJAJ</td>\n",
       "      <td>Amoxicillin_Oral Susp 125mg/5ml</td>\n",
       "      <td>7</td>\n",
       "      <td>15.07</td>\n",
       "      <td>14.05</td>\n",
       "      <td>1100</td>\n",
       "      <td>201811</td>\n",
       "      <td></td>\n",
       "    </tr>\n",
       "  </tbody>\n",
       "</table>\n",
       "</div>"
      ],
      "text/plain": [
       "    SHA  PCT PRACTICE         BNF CODE  \\\n",
       "0   Q44  RXA   Y00327  0501011P0AAADAD   \n",
       "1   Q44  RXA   Y00327  0501011P0AAAFAF   \n",
       "2   Q44  RXA   Y00327  0501012G0AAAAAA   \n",
       "3   Q44  RXA   Y00327  0501013B0AAAAAA   \n",
       "4   Q44  RXA   Y00327  0501013B0AAABAB   \n",
       "5   Q44  RXA   Y00327  0501013B0AAAJAJ   \n",
       "6   Q44  RXA   Y00327  0501011P0AAADAD   \n",
       "7   Q44  RXA   Y00327  0501011P0AAAFAF   \n",
       "8   Q44  RXA   Y00327  0501012G0AAAAAA   \n",
       "9   Q44  RXA   Y00327  0501013B0AAAAAA   \n",
       "10  Q44  RXA   Y00327  0501013B0AAABAB   \n",
       "11  Q44  RXA   Y00327  0501013B0AAAJAJ   \n",
       "\n",
       "                                    BNF NAME  ITEMS     NIC  ACT COST  \\\n",
       "0   Phenoxymethylpenicillin_Soln 125mg/5ml       15  223.86    208.10   \n",
       "1   Phenoxymethylpenicillin_Soln 250mg/5ml        5  107.88    100.26   \n",
       "2   Fluclox Sod_Cap 250mg                         3    3.18      3.09   \n",
       "3   Amoxicillin_Cap 250mg                         2    1.66      1.57   \n",
       "4   Amoxicillin_Cap 500mg                        27   25.92     24.41   \n",
       "5   Amoxicillin_Oral Susp 125mg/5ml               3    4.38      4.11   \n",
       "6   Phenoxymethylpenicillin_Soln 125mg/5ml       12  120.78    112.10   \n",
       "7   Phenoxymethylpenicillin_Soln 250mg/5ml        5   51.20     47.52   \n",
       "8   Fluclox Sod_Cap 250mg                         4    3.42      3.42   \n",
       "9   Amoxicillin_Cap 250mg                         1    0.92      0.87   \n",
       "10  Amoxicillin_Cap 500mg                        32   33.00     30.98   \n",
       "11  Amoxicillin_Oral Susp 125mg/5ml               7   15.07     14.05   \n",
       "\n",
       "    QUANTITY  PERIOD                      \n",
       "0       2600  201808                      \n",
       "1       1200  201808                      \n",
       "2         76  201808                      \n",
       "3         42  201808                      \n",
       "4        513  201808                      \n",
       "5        300  201808                      \n",
       "6       2200  201811                      \n",
       "7        800  201811                      \n",
       "8         96  201811                      \n",
       "9         21  201811                      \n",
       "10       660  201811                      \n",
       "11      1100  201811                      "
      ]
     },
     "execution_count": 6,
     "metadata": {},
     "output_type": "execute_result"
    }
   ],
   "source": [
    "sample"
   ]
  },
  {
   "cell_type": "code",
   "execution_count": 6,
   "metadata": {
    "collapsed": false
   },
   "outputs": [
    {
     "data": {
      "text/plain": [
       "(12, 11)"
      ]
     },
     "execution_count": 6,
     "metadata": {},
     "output_type": "execute_result"
    }
   ],
   "source": [
    "sample.shape"
   ]
  },
  {
   "cell_type": "code",
   "execution_count": 22,
   "metadata": {
    "collapsed": true
   },
   "outputs": [],
   "source": [
    "data = pd.read_csv(\"antibiotics-sample.csv\")"
   ]
  },
  {
   "cell_type": "code",
   "execution_count": 23,
   "metadata": {
    "collapsed": false
   },
   "outputs": [
    {
     "data": {
      "text/plain": [
       "(13, 11)"
      ]
     },
     "execution_count": 23,
     "metadata": {},
     "output_type": "execute_result"
    }
   ],
   "source": [
    "data.shape"
   ]
  },
  {
   "cell_type": "code",
   "execution_count": 24,
   "metadata": {
    "collapsed": false
   },
   "outputs": [
    {
     "data": {
      "text/html": [
       "<div>\n",
       "<style>\n",
       "    .dataframe thead tr:only-child th {\n",
       "        text-align: right;\n",
       "    }\n",
       "\n",
       "    .dataframe thead th {\n",
       "        text-align: left;\n",
       "    }\n",
       "\n",
       "    .dataframe tbody tr th {\n",
       "        vertical-align: top;\n",
       "    }\n",
       "</style>\n",
       "<table border=\"1\" class=\"dataframe\">\n",
       "  <thead>\n",
       "    <tr style=\"text-align: right;\">\n",
       "      <th></th>\n",
       "      <th>SHA</th>\n",
       "      <th>PCT</th>\n",
       "      <th>PRACTICE</th>\n",
       "      <th>BNF CODE</th>\n",
       "      <th>BNF NAME</th>\n",
       "      <th>ITEMS</th>\n",
       "      <th>NIC</th>\n",
       "      <th>ACT COST</th>\n",
       "      <th>QUANTITY</th>\n",
       "      <th>PERIOD</th>\n",
       "      <th></th>\n",
       "    </tr>\n",
       "  </thead>\n",
       "  <tbody>\n",
       "    <tr>\n",
       "      <th>0</th>\n",
       "      <td>Q44</td>\n",
       "      <td>RXA</td>\n",
       "      <td>Y00327</td>\n",
       "      <td>0501011P0AAADAD</td>\n",
       "      <td>Phenoxymethylpenicillin_Soln 125mg/5ml</td>\n",
       "      <td>12</td>\n",
       "      <td>120.78</td>\n",
       "      <td>112.10</td>\n",
       "      <td>2200</td>\n",
       "      <td>201811</td>\n",
       "      <td></td>\n",
       "    </tr>\n",
       "    <tr>\n",
       "      <th>1</th>\n",
       "      <td>Q44</td>\n",
       "      <td>RXA</td>\n",
       "      <td>Y00327</td>\n",
       "      <td>0501011P0AAAFAF</td>\n",
       "      <td>Phenoxymethylpenicillin_Soln 250mg/5ml</td>\n",
       "      <td>5</td>\n",
       "      <td>51.20</td>\n",
       "      <td>47.52</td>\n",
       "      <td>800</td>\n",
       "      <td>201811</td>\n",
       "      <td></td>\n",
       "    </tr>\n",
       "    <tr>\n",
       "      <th>2</th>\n",
       "      <td>Q44</td>\n",
       "      <td>RXA</td>\n",
       "      <td>Y00327</td>\n",
       "      <td>0501012G0AAAAAA</td>\n",
       "      <td>Fluclox Sod_Cap 250mg</td>\n",
       "      <td>4</td>\n",
       "      <td>3.42</td>\n",
       "      <td>3.42</td>\n",
       "      <td>96</td>\n",
       "      <td>201811</td>\n",
       "      <td></td>\n",
       "    </tr>\n",
       "    <tr>\n",
       "      <th>3</th>\n",
       "      <td>Q44</td>\n",
       "      <td>RXA</td>\n",
       "      <td>Y00327</td>\n",
       "      <td>0501013B0AAAAAA</td>\n",
       "      <td>Amoxicillin_Cap 250mg</td>\n",
       "      <td>1</td>\n",
       "      <td>0.92</td>\n",
       "      <td>0.87</td>\n",
       "      <td>21</td>\n",
       "      <td>201811</td>\n",
       "      <td></td>\n",
       "    </tr>\n",
       "    <tr>\n",
       "      <th>4</th>\n",
       "      <td>Q44</td>\n",
       "      <td>RXA</td>\n",
       "      <td>Y00327</td>\n",
       "      <td>0501013B0AAABAB</td>\n",
       "      <td>Amoxicillin_Cap 500mg</td>\n",
       "      <td>32</td>\n",
       "      <td>33.00</td>\n",
       "      <td>30.98</td>\n",
       "      <td>660</td>\n",
       "      <td>201811</td>\n",
       "      <td></td>\n",
       "    </tr>\n",
       "  </tbody>\n",
       "</table>\n",
       "</div>"
      ],
      "text/plain": [
       "   SHA  PCT PRACTICE         BNF CODE  \\\n",
       "0  Q44  RXA   Y00327  0501011P0AAADAD   \n",
       "1  Q44  RXA   Y00327  0501011P0AAAFAF   \n",
       "2  Q44  RXA   Y00327  0501012G0AAAAAA   \n",
       "3  Q44  RXA   Y00327  0501013B0AAAAAA   \n",
       "4  Q44  RXA   Y00327  0501013B0AAABAB   \n",
       "\n",
       "  BNF NAME                                      ITEMS    NIC          \\\n",
       "0     Phenoxymethylpenicillin_Soln 125mg/5ml         12       120.78   \n",
       "1     Phenoxymethylpenicillin_Soln 250mg/5ml          5        51.20   \n",
       "2     Fluclox Sod_Cap 250mg                           4         3.42   \n",
       "3     Amoxicillin_Cap 250mg                           1         0.92   \n",
       "4     Amoxicillin_Cap 500mg                          32        33.00   \n",
       "\n",
       "   ACT COST     QUANTITY  PERIOD                      \n",
       "0       112.10      2200  201811                      \n",
       "1        47.52       800  201811                      \n",
       "2         3.42        96  201811                      \n",
       "3         0.87        21  201811                      \n",
       "4        30.98       660  201811                      "
      ]
     },
     "execution_count": 24,
     "metadata": {},
     "output_type": "execute_result"
    }
   ],
   "source": [
    "data.head()"
   ]
  },
  {
   "cell_type": "code",
   "execution_count": 25,
   "metadata": {
    "collapsed": false
   },
   "outputs": [
    {
     "data": {
      "text/plain": [
       " SHA                                             object\n",
       "PCT                                              object\n",
       "PRACTICE                                         object\n",
       "BNF CODE                                         object\n",
       "BNF NAME                                         object\n",
       "ITEMS                                             int64\n",
       "NIC                                             float64\n",
       "ACT COST                                        float64\n",
       "QUANTITY                                          int64\n",
       "PERIOD                                            int64\n",
       "                                                 object\n",
       "dtype: object"
      ]
     },
     "execution_count": 25,
     "metadata": {},
     "output_type": "execute_result"
    }
   ],
   "source": [
    "data.dtypes"
   ]
  },
  {
   "cell_type": "markdown",
   "metadata": {},
   "source": [
    "All the values in a column have the same type. For example, months have type int64, which is a kind of integer. Cells in the month column cannot have fractional values, but the weight and hindfoot_length columns can, because they have type float64. The object type doesn’t have a very helpful name, but in this case it represents strings (such as ‘M’ and ‘F’ in the case of sex)."
   ]
  },
  {
   "cell_type": "code",
   "execution_count": 26,
   "metadata": {
    "collapsed": false
   },
   "outputs": [
    {
     "data": {
      "text/plain": [
       "Index([' SHA', 'PCT', 'PRACTICE', 'BNF CODE',\n",
       "       'BNF NAME                                    ', 'ITEMS  ',\n",
       "       'NIC        ', 'ACT COST   ', 'QUANTITY', 'PERIOD',\n",
       "       '                 '],\n",
       "      dtype='object')"
      ]
     },
     "execution_count": 26,
     "metadata": {},
     "output_type": "execute_result"
    }
   ],
   "source": [
    "data.columns"
   ]
  },
  {
   "cell_type": "markdown",
   "metadata": {},
   "source": [
    "## Accessing and slicing data\n",
    "\n",
    "### Accessing one column\n",
    "\n",
    "`frame[colname]` will return the Series corresponding to the column called `colname`.\n",
    "\n",
    "It is also possible to access the column of a DataFrame called `colname` using `frame.colname`. \n",
    "\n",
    "### Accessing two or more columns\n",
    "\n",
    "You can pass a list of columns to [] to select columns in that order. For example, `frame[[colname1, colname2]]`.\n",
    "\n",
    "### Accessing one row\n",
    "\n",
    "`frame.loc[row_index, :]` will return the one row with one column.\n",
    "\n",
    "### Boolean indexing\n",
    "\n",
    "Another common operation is the use of boolean operators to filter the data. The operators are: | for or, & for and, and ~ for not. These must be grouped using parentheses, since by default Python will evaluate an expression such as `df.A > 2 & df.B < 3` as `df.A > (2 & df.B) < 3`, while the desired evaluation order is `(df.A > 2) & (df.B < 3)`."
   ]
  },
  {
   "cell_type": "markdown",
   "metadata": {},
   "source": [
    "**Exercise**\n",
    "\n",
    "What values do we have in the column `PERIOD`?"
   ]
  },
  {
   "cell_type": "code",
   "execution_count": 7,
   "metadata": {
    "collapsed": false
   },
   "outputs": [
    {
     "data": {
      "text/plain": [
       "0     201808\n",
       "1     201808\n",
       "2     201808\n",
       "3     201808\n",
       "4     201808\n",
       "5     201808\n",
       "6     201811\n",
       "7     201811\n",
       "8     201811\n",
       "9     201811\n",
       "10    201811\n",
       "11    201811\n",
       "Name: PERIOD, dtype: int64"
      ]
     },
     "execution_count": 7,
     "metadata": {},
     "output_type": "execute_result"
    }
   ],
   "source": [
    "sample[\"PERIOD\"]"
   ]
  },
  {
   "cell_type": "code",
   "execution_count": 8,
   "metadata": {
    "collapsed": false
   },
   "outputs": [
    {
     "data": {
      "text/plain": [
       "0     Y00327\n",
       "1     Y00327\n",
       "2     Y00327\n",
       "3     Y00327\n",
       "4     Y00327\n",
       "5     Y00327\n",
       "6     Y00327\n",
       "7     Y00327\n",
       "8     Y00327\n",
       "9     Y00327\n",
       "10    Y00327\n",
       "11    Y00327\n",
       "Name: PRACTICE, dtype: object"
      ]
     },
     "execution_count": 8,
     "metadata": {},
     "output_type": "execute_result"
    }
   ],
   "source": [
    "sample[\"PRACTICE\"]"
   ]
  },
  {
   "cell_type": "code",
   "execution_count": 10,
   "metadata": {
    "collapsed": false
   },
   "outputs": [
    {
     "data": {
      "text/plain": [
       "array([201808, 201811])"
      ]
     },
     "execution_count": 10,
     "metadata": {},
     "output_type": "execute_result"
    }
   ],
   "source": [
    "sample[\"PERIOD\"].unique()"
   ]
  },
  {
   "cell_type": "code",
   "execution_count": 26,
   "metadata": {
    "collapsed": false
   },
   "outputs": [
    {
     "data": {
      "text/html": [
       "<div>\n",
       "<style>\n",
       "    .dataframe thead tr:only-child th {\n",
       "        text-align: right;\n",
       "    }\n",
       "\n",
       "    .dataframe thead th {\n",
       "        text-align: left;\n",
       "    }\n",
       "\n",
       "    .dataframe tbody tr th {\n",
       "        vertical-align: top;\n",
       "    }\n",
       "</style>\n",
       "<table border=\"1\" class=\"dataframe\">\n",
       "  <thead>\n",
       "    <tr style=\"text-align: right;\">\n",
       "      <th></th>\n",
       "      <th>BNF NAME</th>\n",
       "      <th>ACT COST</th>\n",
       "      <th>PERIOD</th>\n",
       "    </tr>\n",
       "  </thead>\n",
       "  <tbody>\n",
       "    <tr>\n",
       "      <th>0</th>\n",
       "      <td>Phenoxymethylpenicillin_Soln 125mg/5ml</td>\n",
       "      <td>208.10</td>\n",
       "      <td>201808</td>\n",
       "    </tr>\n",
       "    <tr>\n",
       "      <th>1</th>\n",
       "      <td>Phenoxymethylpenicillin_Soln 250mg/5ml</td>\n",
       "      <td>100.26</td>\n",
       "      <td>201808</td>\n",
       "    </tr>\n",
       "    <tr>\n",
       "      <th>2</th>\n",
       "      <td>Fluclox Sod_Cap 250mg</td>\n",
       "      <td>3.09</td>\n",
       "      <td>201808</td>\n",
       "    </tr>\n",
       "    <tr>\n",
       "      <th>3</th>\n",
       "      <td>Amoxicillin_Cap 250mg</td>\n",
       "      <td>1.57</td>\n",
       "      <td>201808</td>\n",
       "    </tr>\n",
       "    <tr>\n",
       "      <th>4</th>\n",
       "      <td>Amoxicillin_Cap 500mg</td>\n",
       "      <td>24.41</td>\n",
       "      <td>201808</td>\n",
       "    </tr>\n",
       "    <tr>\n",
       "      <th>5</th>\n",
       "      <td>Amoxicillin_Oral Susp 125mg/5ml</td>\n",
       "      <td>4.11</td>\n",
       "      <td>201808</td>\n",
       "    </tr>\n",
       "    <tr>\n",
       "      <th>6</th>\n",
       "      <td>Phenoxymethylpenicillin_Soln 125mg/5ml</td>\n",
       "      <td>112.10</td>\n",
       "      <td>201811</td>\n",
       "    </tr>\n",
       "    <tr>\n",
       "      <th>7</th>\n",
       "      <td>Phenoxymethylpenicillin_Soln 250mg/5ml</td>\n",
       "      <td>47.52</td>\n",
       "      <td>201811</td>\n",
       "    </tr>\n",
       "    <tr>\n",
       "      <th>8</th>\n",
       "      <td>Fluclox Sod_Cap 250mg</td>\n",
       "      <td>3.42</td>\n",
       "      <td>201811</td>\n",
       "    </tr>\n",
       "    <tr>\n",
       "      <th>9</th>\n",
       "      <td>Amoxicillin_Cap 250mg</td>\n",
       "      <td>0.87</td>\n",
       "      <td>201811</td>\n",
       "    </tr>\n",
       "    <tr>\n",
       "      <th>10</th>\n",
       "      <td>Amoxicillin_Cap 500mg</td>\n",
       "      <td>30.98</td>\n",
       "      <td>201811</td>\n",
       "    </tr>\n",
       "    <tr>\n",
       "      <th>11</th>\n",
       "      <td>Amoxicillin_Oral Susp 125mg/5ml</td>\n",
       "      <td>14.05</td>\n",
       "      <td>201811</td>\n",
       "    </tr>\n",
       "  </tbody>\n",
       "</table>\n",
       "</div>"
      ],
      "text/plain": [
       "                                    BNF NAME  ACT COST  PERIOD\n",
       "0   Phenoxymethylpenicillin_Soln 125mg/5ml      208.10  201808\n",
       "1   Phenoxymethylpenicillin_Soln 250mg/5ml      100.26  201808\n",
       "2   Fluclox Sod_Cap 250mg                         3.09  201808\n",
       "3   Amoxicillin_Cap 250mg                         1.57  201808\n",
       "4   Amoxicillin_Cap 500mg                        24.41  201808\n",
       "5   Amoxicillin_Oral Susp 125mg/5ml               4.11  201808\n",
       "6   Phenoxymethylpenicillin_Soln 125mg/5ml      112.10  201811\n",
       "7   Phenoxymethylpenicillin_Soln 250mg/5ml       47.52  201811\n",
       "8   Fluclox Sod_Cap 250mg                         3.42  201811\n",
       "9   Amoxicillin_Cap 250mg                         0.87  201811\n",
       "10  Amoxicillin_Cap 500mg                        30.98  201811\n",
       "11  Amoxicillin_Oral Susp 125mg/5ml              14.05  201811"
      ]
     },
     "execution_count": 26,
     "metadata": {},
     "output_type": "execute_result"
    }
   ],
   "source": [
    "sample[[\"BNF NAME\", \"ACT COST\", \"PERIOD\"]]"
   ]
  },
  {
   "cell_type": "code",
   "execution_count": 17,
   "metadata": {
    "collapsed": false
   },
   "outputs": [
    {
     "data": {
      "text/plain": [
       "<matplotlib.axes._subplots.AxesSubplot at 0x7f257a9b76d8>"
      ]
     },
     "execution_count": 17,
     "metadata": {},
     "output_type": "execute_result"
    },
    {
     "data": {
      "image/png": "[encoded data removed]",
      "text/plain": [
       "<Figure size 432x288 with 1 Axes>"
      ]
     },
     "metadata": {},
     "output_type": "display_data"
    }
   ],
   "source": [
    "sample.plot(x=\"BNF NAME\", y=\"ACT COST\")"
   ]
  },
  {
   "cell_type": "code",
   "execution_count": 20,
   "metadata": {
    "collapsed": true
   },
   "outputs": [],
   "source": [
    "%matplotlib inline"
   ]
  },
  {
   "cell_type": "code",
   "execution_count": 21,
   "metadata": {
    "collapsed": false
   },
   "outputs": [
    {
     "data": {
      "text/plain": [
       "<matplotlib.axes._subplots.AxesSubplot at 0x7f257a9d3eb8>"
      ]
     },
     "execution_count": 21,
     "metadata": {},
     "output_type": "execute_result"
    },
    {
     "data": {
      "image/png": "[encoded data removed]",
      "text/plain": [
       "<Figure size 432x288 with 1 Axes>"
      ]
     },
     "metadata": {},
     "output_type": "display_data"
    }
   ],
   "source": [
    "sample.plot(x=\"BNF NAME\", y=\"ACT COST\")"
   ]
  },
  {
   "cell_type": "markdown",
   "metadata": {},
   "source": []
  },
  {
   "cell_type": "code",
   "execution_count": 24,
   "metadata": {
    "collapsed": false
   },
   "outputs": [
    {
     "data": {
      "text/plain": [
       "<matplotlib.axes._subplots.AxesSubplot at 0x7f257a923438>"
      ]
     },
     "execution_count": 24,
     "metadata": {},
     "output_type": "execute_result"
    },
    {
     "data": {
      "image/png": "[encoded data removed]",
      "text/plain": [
       "<Figure size 432x288 with 1 Axes>"
      ]
     },
     "metadata": {},
     "output_type": "display_data"
    }
   ],
   "source": [
    "sample.plot(x=\"BNF NAME\", y=\"ACT COST\", kind='bar')"
   ]
  },
  {
   "cell_type": "code",
   "execution_count": 49,
   "metadata": {
    "collapsed": false
   },
   "outputs": [
    {
     "data": {
      "text/plain": [
       "Index(['Amoxicillin_Cap 250mg                   ',\n",
       "       'Amoxicillin_Cap 500mg                   ',\n",
       "       'Amoxicillin_Oral Susp 125mg/5ml         ',\n",
       "       'Fluclox Sod_Cap 250mg                   ',\n",
       "       'Phenoxymethylpenicillin_Soln 125mg/5ml  ',\n",
       "       'Phenoxymethylpenicillin_Soln 250mg/5ml  '],\n",
       "      dtype='object', name='BNF NAME')"
      ]
     },
     "execution_count": 49,
     "metadata": {},
     "output_type": "execute_result"
    }
   ],
   "source": [
    "sample.columns\n",
    "sample[[\"BNF NAME\", \"ACT COST\", \"PERIOD\"]]\n",
    "antibiotics_cost_per_period = sample.groupby([\"BNF NAME\", \"PERIOD\"])[\"ACT COST\"].sum().unstack(\"PERIOD\")\n",
    "antibiotics_cost_per_period.plot(kind='bar', title=\"Cost of antibiotics per period\")\n",
    "print(antibiotics_cost_per_period)"
   ]
  },
  {
   "cell_type": "markdown",
   "metadata": {},
   "source": [
    "**Exercise**\n",
    "\n",
    "What are the values on the fifth row? **Note that the index of the first row is 0.**"
   ]
  },
  {
   "cell_type": "code",
   "execution_count": 12,
   "metadata": {
    "collapsed": false
   },
   "outputs": [
    {
     "ename": "NameError",
     "evalue": "name 'data' is not defined",
     "output_type": "error",
     "traceback": [
      "\u001b[0;31m---------------------------------------------------------------------------\u001b[0m",
      "\u001b[0;31mNameError\u001b[0m                                 Traceback (most recent call last)",
      "\u001b[0;32m<ipython-input-12-5e3fc324223e>\u001b[0m in \u001b[0;36m<module>\u001b[0;34m()\u001b[0m\n\u001b[0;32m----> 1\u001b[0;31m \u001b[0mdata\u001b[0m\u001b[0;34m.\u001b[0m\u001b[0mloc\u001b[0m\u001b[0;34m[\u001b[0m\u001b[0;36m4\u001b[0m\u001b[0;34m,\u001b[0m \u001b[0;34m:\u001b[0m\u001b[0;34m]\u001b[0m\u001b[0;34m\u001b[0m\u001b[0m\n\u001b[0m",
      "\u001b[0;31mNameError\u001b[0m: name 'data' is not defined"
     ]
    }
   ],
   "source": [
    "data.loc[4, :]"
   ]
  },
  {
   "cell_type": "code",
   "execution_count": 13,
   "metadata": {
    "collapsed": false
   },
   "outputs": [
    {
     "ename": "NameError",
     "evalue": "name 'data' is not defined",
     "output_type": "error",
     "traceback": [
      "\u001b[0;31m---------------------------------------------------------------------------\u001b[0m",
      "\u001b[0;31mNameError\u001b[0m                                 Traceback (most recent call last)",
      "\u001b[0;32m<ipython-input-13-e2dafe68eef1>\u001b[0m in \u001b[0;36m<module>\u001b[0;34m()\u001b[0m\n\u001b[0;32m----> 1\u001b[0;31m \u001b[0mdata\u001b[0m\u001b[0;34m.\u001b[0m\u001b[0mloc\u001b[0m\u001b[0;34m[\u001b[0m\u001b[0;34m[\u001b[0m\u001b[0;36m4\u001b[0m\u001b[0;34m,\u001b[0m \u001b[0;36m7\u001b[0m\u001b[0;34m]\u001b[0m\u001b[0;34m,\u001b[0m \u001b[0;34m:\u001b[0m\u001b[0;34m]\u001b[0m\u001b[0;34m\u001b[0m\u001b[0m\n\u001b[0m",
      "\u001b[0;31mNameError\u001b[0m: name 'data' is not defined"
     ]
    }
   ],
   "source": [
    "data.loc[[4, 7], :]"
   ]
  },
  {
   "cell_type": "markdown",
   "metadata": {},
   "source": [
    "**Exercise**\n",
    "\n",
    "Which practices are on rows with index 0, 133 and 671."
   ]
  },
  {
   "cell_type": "code",
   "execution_count": null,
   "metadata": {
    "collapsed": true
   },
   "outputs": [],
   "source": [
    "data.loc[[0, 133, 671], \"PRACTICE\"]"
   ]
  },
  {
   "cell_type": "code",
   "execution_count": null,
   "metadata": {
    "collapsed": true
   },
   "outputs": [],
   "source": [
    "data.loc[[0, 133, 671], [\"PRACTICE\"]]"
   ]
  },
  {
   "cell_type": "markdown",
   "metadata": {},
   "source": [
    "Note the difference of the result on the previous two examples. On the first one, the type is Series and on the second one is Frame."
   ]
  },
  {
   "cell_type": "markdown",
   "metadata": {},
   "source": [
    "**Exercise**\n",
    "\n",
    "What are all the presciptions coming from practice N85645?"
   ]
  },
  {
   "cell_type": "code",
   "execution_count": null,
   "metadata": {
    "collapsed": true
   },
   "outputs": [],
   "source": [
    "sample"
   ]
  },
  {
   "cell_type": "code",
   "execution_count": null,
   "metadata": {
    "collapsed": true
   },
   "outputs": [],
   "source": [
    "sample[[\n",
    "    False,  # 0\n",
    "    False,  # 1\n",
    "    False,  # 2\n",
    "    False,  # 3\n",
    "    False,  # 4\n",
    "    False,  # 5\n",
    "    True,  # 6\n",
    "    True,  # 7\n",
    "    False,  # 8\n",
    "    False,  # 9\n",
    "    False,  # 10\n",
    "    False,  # 11\n",
    "    False,  # 12\n",
    "]]"
   ]
  },
  {
   "cell_type": "code",
   "execution_count": null,
   "metadata": {
    "collapsed": true
   },
   "outputs": [],
   "source": [
    "sample[\"PRACTICE\"] == \"N85638\""
   ]
  },
  {
   "cell_type": "code",
   "execution_count": null,
   "metadata": {
    "collapsed": true
   },
   "outputs": [],
   "source": [
    "data.loc[data[\"PRACTICE\"] == \"N85645\", :]"
   ]
  },
  {
   "cell_type": "markdown",
   "metadata": {},
   "source": [
    "**Exercise**\n",
    "\n",
    "What are the BNF codes for amoxicillin in `data`?"
   ]
  },
  {
   "cell_type": "code",
   "execution_count": null,
   "metadata": {
    "collapsed": true
   },
   "outputs": [],
   "source": [
    "# DataFrame.iterrows() Iterate over DataFrame rows as (index, Series) pairs.\n",
    "for idx, row in data.iterrows():\n",
    "    if row[\"BNF NAME                                    \"].lower().find(\"amoxicillin\"):\n",
    "        print(row[\"BNF CODE\"])\n",
    "        break"
   ]
  },
  {
   "cell_type": "markdown",
   "metadata": {},
   "source": [
    "**Exercise**\n",
    "\n",
    "What is the most commonly prescribed antibiotic?\n",
    "\n",
    "**Note**: You can write your own for-loop over `data.iterrows()`to answer this question but Pandas has some computations and descriptive statistics functions built-in.\n",
    "\n",
    "```\n",
    "most_common_count = 0\n",
    "for code in unique_bnf_codes:\n",
    "    counts = len(data.loc[data['BNF CODE'] == code, 'BNF CODE'])\n",
    "    \n",
    "    if counts > most_common_count:\n",
    "        most_common_count = counts\n",
    "        most_common_code = code\n",
    "print('Most common BNF code:', most_common_code)\n",
    "print('Frequency of most common drug:', most_common_count)\n",
    "```"
   ]
  },
  {
   "cell_type": "code",
   "execution_count": null,
   "metadata": {
    "collapsed": true
   },
   "outputs": [],
   "source": [
    "# DataFrame.max([axis, skipna, level, …]) Return the maximum of the values for the requested axis.\n",
    "data[\"QUANTITY\"].max()"
   ]
  },
  {
   "cell_type": "code",
   "execution_count": 84,
   "metadata": {
    "collapsed": false
   },
   "outputs": [
    {
     "data": {
      "text/plain": [
       "BNF CODE         BNF NAME                                    \n",
       "0501013B0AAABAB  Amoxicillin_Cap 500mg                           2\n",
       "0501013B0AAAAAA  Amoxicillin_Cap 250mg                           2\n",
       "0501012G0AAAAAA  Fluclox Sod_Cap 250mg                           2\n",
       "0501011P0AAADAD  Phenoxymethylpenicillin_Soln 125mg/5ml          2\n",
       "0501013B0AAAJAJ  Amoxicillin_Oral Susp 125mg/5ml                 1\n",
       "Name: BNF NAME                                    , dtype: int64"
      ]
     },
     "execution_count": 84,
     "metadata": {},
     "output_type": "execute_result"
    }
   ],
   "source": [
    "# Top 5 most commonly prescribed antibiotics\n",
    "data.groupby(['BNF CODE', 'BNF NAME                                    '])['BNF NAME                                    '].count().sort_values(ascending=False).head(5)"
   ]
  },
  {
   "cell_type": "code",
   "execution_count": null,
   "metadata": {
    "collapsed": true
   },
   "outputs": [],
   "source": [
    "# DataFrame.min([axis, skipna, level, …]) Return the minimum of the values for the requested axis.\n",
    "data[\"QUANTITY\"].min()"
   ]
  },
  {
   "cell_type": "code",
   "execution_count": null,
   "metadata": {
    "collapsed": true
   },
   "outputs": [],
   "source": [
    "# DataFrame.mean([axis, skipna, level, …]) Return the mean of the values for the requested axis.\n",
    "data[\"QUANTITY\"].mean()"
   ]
  },
  {
   "cell_type": "code",
   "execution_count": null,
   "metadata": {
    "collapsed": true
   },
   "outputs": [],
   "source": [
    "# DataFrame.median([axis, skipna, level, …]) Return the median of the values for the requested axis.\n",
    "data[\"QUANTITY\"].median()"
   ]
  },
  {
   "cell_type": "code",
   "execution_count": null,
   "metadata": {
    "collapsed": true
   },
   "outputs": [],
   "source": [
    "# DataFrame.describe([percentiles, include, …]) Generate descriptive statistics that summarize the central tendency, dispersion and shape of a dataset’s distribution, excluding NaN values.\n",
    "data[\"QUANTITY\"].describe()"
   ]
  },
  {
   "cell_type": "code",
   "execution_count": null,
   "metadata": {
    "collapsed": true
   },
   "outputs": [],
   "source": [
    "# DataFrame.count([axis, level, numeric_only]) Count non-NA cells for each column or row.\n",
    "data[\"QUANTITY\"].count()"
   ]
  },
  {
   "cell_type": "code",
   "execution_count": null,
   "metadata": {
    "collapsed": true
   },
   "outputs": [],
   "source": [
    "sample.shape"
   ]
  },
  {
   "cell_type": "code",
   "execution_count": null,
   "metadata": {
    "collapsed": true
   },
   "outputs": [],
   "source": [
    "sample[\"PRACTICE\"].count()  # Return 12"
   ]
  },
  {
   "cell_type": "code",
   "execution_count": null,
   "metadata": {
    "collapsed": true
   },
   "outputs": [],
   "source": [
    "data['BNF NAME                                    '].value_counts().head(1)"
   ]
  },
  {
   "cell_type": "markdown",
   "metadata": {},
   "source": [
    "**Exercise**\n",
    "\n",
    "What is the least prescribed antibiotic?"
   ]
  },
  {
   "cell_type": "code",
   "execution_count": null,
   "metadata": {
    "collapsed": true
   },
   "outputs": [],
   "source": [
    "data['BNF NAME                                    '].value_counts().tail(1)"
   ]
  },
  {
   "cell_type": "markdown",
   "metadata": {},
   "source": [
    "Be careful when you assume some conditions."
   ]
  },
  {
   "cell_type": "code",
   "execution_count": null,
   "metadata": {
    "collapsed": true
   },
   "outputs": [],
   "source": [
    "data['BNF NAME                                    '].value_counts().tail(2)"
   ]
  },
  {
   "cell_type": "code",
   "execution_count": null,
   "metadata": {
    "collapsed": true
   },
   "outputs": [],
   "source": [
    "bnf_name_counts = data['BNF NAME                                    '].value_counts()\n",
    "bnf_name_counts[bnf_name_counts == 1]"
   ]
  },
  {
   "cell_type": "markdown",
   "metadata": {},
   "source": [
    "## Extracting data from existing values and creating new columns\n",
    "\n",
    "**Exercise**\n",
    "\n",
    "Create a new column only containing the commonly used antibiotic name (and not the full BNF NAME) and a new column containing only the year it was prescribed (and not the PERIOD containing the month as well)."
   ]
  },
  {
   "cell_type": "code",
   "execution_count": null,
   "metadata": {
    "collapsed": true,
    "scrolled": true
   },
   "outputs": [],
   "source": [
    "sample"
   ]
  },
  {
   "cell_type": "code",
   "execution_count": null,
   "metadata": {
    "collapsed": true
   },
   "outputs": [],
   "source": [
    "sample[\"YEAR\"] = pd.Series([\n",
    "    2018,  # 0\n",
    "    2018,  # 1\n",
    "    2018,  # 2\n",
    "    2018,  # 3\n",
    "    2018,  # 4\n",
    "    2018,  # 5\n",
    "    2018,  # 6\n",
    "    2018,  # 7\n",
    "    2018,  # 8\n",
    "    2018,  # 9\n",
    "    2018,  # 10\n",
    "    2018,  # 11\n",
    "    2018,  # 12\n",
    "])"
   ]
  },
  {
   "cell_type": "code",
   "execution_count": null,
   "metadata": {
    "collapsed": true
   },
   "outputs": [],
   "source": [
    "sample"
   ]
  },
  {
   "cell_type": "code",
   "execution_count": null,
   "metadata": {
    "collapsed": true
   },
   "outputs": [],
   "source": [
    "sample['BNF NAME                                    '].str.lower()"
   ]
  },
  {
   "cell_type": "markdown",
   "metadata": {
    "collapsed": true
   },
   "source": [
    "We are going to write a little function of our own here, to help with extracting the antibiotic name from the BNF NAME."
   ]
  },
  {
   "cell_type": "code",
   "execution_count": null,
   "metadata": {
    "collapsed": true
   },
   "outputs": [],
   "source": [
    "def extract_drug_name(bnf_name):\n",
    "    \"\"\"Extract drug name\"\"\"\n",
    "    \n",
    "    return bnf_name.lower().split()[0].split(\"_\")[0]"
   ]
  },
  {
   "cell_type": "code",
   "execution_count": null,
   "metadata": {
    "collapsed": true
   },
   "outputs": [],
   "source": [
    "extract_drug_name(\"Phenoxymethylpenicillin_Soln 125mg/5ml\")"
   ]
  },
  {
   "cell_type": "code",
   "execution_count": null,
   "metadata": {
    "collapsed": true
   },
   "outputs": [],
   "source": [
    "extract_drug_name(\"Fluclox Sod_Cap 250mg\")"
   ]
  },
  {
   "cell_type": "code",
   "execution_count": null,
   "metadata": {
    "collapsed": true
   },
   "outputs": [],
   "source": [
    "extract_drug_name(\"Amoxicillin_Oral Susp 125mg/5ml\")"
   ]
  },
  {
   "cell_type": "markdown",
   "metadata": {
    "collapsed": true
   },
   "source": [
    "Pandas defines a useful function `apply` on DataFrames which enables us to apply a function on every row or column of a DataFrame."
   ]
  },
  {
   "cell_type": "code",
   "execution_count": null,
   "metadata": {
    "collapsed": true
   },
   "outputs": [],
   "source": [
    "sample['BNF NAME                                    '].apply(extract_drug_name)"
   ]
  },
  {
   "cell_type": "code",
   "execution_count": null,
   "metadata": {
    "collapsed": true
   },
   "outputs": [],
   "source": [
    "sample[\"DRUG NAME\"] = sample['BNF NAME                                    '].apply(extract_drug_name)\n",
    "sample"
   ]
  },
  {
   "cell_type": "markdown",
   "metadata": {},
   "source": [
    "## Split-Apply-Combine\n",
    "\n",
    "We are referring to a process involving one or more of the following steps:\n",
    "\n",
    "- Splitting the data into groups based on some criteria.\n",
    "- Applying a function to each group independently.\n",
    "- Combining the results into a data structure.\n",
    "\n",
    "Out of these, the split step is the most straightforward. In fact, in many situations we may wish to split the data set into groups and do something with those groups. In the apply step, we might wish to one of the following:\n",
    "\n",
    "- Aggregation: compute a summary statistic (or statistics) for each group.\n",
    "- Transformation: perform some group-specific computations and return a like-indexed object.\n",
    "- Filtration: discard some groups, according to a group-wise computation that evaluates True or False.\n",
    "\n",
    "**Aim**\n",
    "\n",
    "Which GP surgery has prescribed the most and least antibiotics?"
   ]
  },
  {
   "cell_type": "code",
   "execution_count": 34,
   "metadata": {
    "collapsed": false
   },
   "outputs": [
    {
     "data": {
      "text/plain": [
       "<pandas.core.groupby.DataFrameGroupBy object at 0x118888240>"
      ]
     },
     "execution_count": 34,
     "metadata": {},
     "output_type": "execute_result"
    }
   ],
   "source": [
    "# Splitting\n",
    "grouped = data.groupby(\"PRACTICE\")"
   ]
  },
  {
   "cell_type": "code",
   "execution_count": 30,
   "metadata": {
    "collapsed": false
   },
   "outputs": [
    {
     "data": {
      "text/plain": [
       "PRACTICE\n",
       "N85638    2\n",
       "N85645    4\n",
       "Y00327    6\n",
       "dtype: int64"
      ]
     },
     "execution_count": 30,
     "metadata": {},
     "output_type": "execute_result"
    }
   ],
   "source": [
    "# Apply\n",
    "grouped.size()"
   ]
  },
  {
   "cell_type": "code",
   "execution_count": 35,
   "metadata": {
    "collapsed": false
   },
   "outputs": [
    {
     "data": {
      "text/plain": [
       "PRACTICE\n",
       "N85638    2\n",
       "N85645    4\n",
       "Y00327    6\n",
       "dtype: int64"
      ]
     },
     "execution_count": 35,
     "metadata": {},
     "output_type": "execute_result"
    }
   ],
   "source": [
    "grouped.size().sort_values()  # You can use ascending=False"
   ]
  },
  {
   "cell_type": "code",
   "execution_count": 36,
   "metadata": {
    "collapsed": false
   },
   "outputs": [
    {
     "data": {
      "text/plain": [
       "PRACTICE\n",
       "Y00327    6\n",
       "dtype: int64"
      ]
     },
     "execution_count": 36,
     "metadata": {},
     "output_type": "execute_result"
    }
   ],
   "source": [
    "grouped.size().sort_values(ascending=False).head(1)"
   ]
  },
  {
   "cell_type": "markdown",
   "metadata": {},
   "source": [
    "## Plotting\n",
    "\n",
    "The plot method on a Series and DataFrame is just a simple wrapper around matplotlib.\n",
    "\n",
    "**Exercise**\n",
    "\n",
    "What does the distribution of antibiotics prescribed by GP practices look like?"
   ]
  },
  {
   "cell_type": "code",
   "execution_count": 61,
   "metadata": {
    "collapsed": false
   },
   "outputs": [
    {
     "data": {
      "text/plain": [
       "<matplotlib.axes._subplots.AxesSubplot at 0x11a2234a8>"
      ]
     },
     "execution_count": 61,
     "metadata": {},
     "output_type": "execute_result"
    },
    {
     "data": {
      "image/png": "[encoded data removed]",
      "text/plain": [
       "<matplotlib.figure.Figure at 0x11a0f2e80>"
      ]
     },
     "metadata": {},
     "output_type": "display_data"
    }
   ],
   "source": [
    "# How many prescriptions from each practice?\n",
    "prescriptions_per_practice = data[\"PRACTICE\"].value_counts()\n",
    "prescriptions_per_practice.head()\n",
    "type(prescriptions_per_practice)\n",
    "prescriptions_per_practice.index\n",
    "prescriptions_per_practice.plot(kind='bar', legend=True, title =\"Number of prescriptions per practice\")"
   ]
  },
  {
   "cell_type": "code",
   "execution_count": 38,
   "metadata": {
    "collapsed": false
   },
   "outputs": [
    {
     "data": {
      "text/plain": [
       "6    1\n",
       "2    1\n",
       "4    1\n",
       "dtype: int64"
      ]
     },
     "execution_count": 38,
     "metadata": {},
     "output_type": "execute_result"
    }
   ],
   "source": [
    "grouped.size().value_counts()"
   ]
  },
  {
   "cell_type": "markdown",
   "metadata": {},
   "source": [
    "Note that the Series is sorted using the values. For the histogram we need sort it by the index."
   ]
  },
  {
   "cell_type": "code",
   "execution_count": null,
   "metadata": {
    "collapsed": true
   },
   "outputs": [],
   "source": [
    "distribution_data = grouped.size().value_counts().sort_index()\n",
    "distribution_data"
   ]
  },
  {
   "cell_type": "code",
   "execution_count": null,
   "metadata": {
    "collapsed": true
   },
   "outputs": [],
   "source": [
    "distribution_data.plot()"
   ]
  },
  {
   "cell_type": "code",
   "execution_count": null,
   "metadata": {
    "collapsed": true
   },
   "outputs": [],
   "source": [
    "%matplotlib inline\n",
    "\n",
    "distribution_data.plot()"
   ]
  },
  {
   "cell_type": "code",
   "execution_count": null,
   "metadata": {
    "collapsed": true
   },
   "outputs": [],
   "source": [
    "import matplotlib.pyplot as plt"
   ]
  },
  {
   "cell_type": "code",
   "execution_count": null,
   "metadata": {
    "collapsed": true
   },
   "outputs": [],
   "source": [
    "# More at https://matplotlib.org/api/_as_gen/matplotlib.pyplot.html#functions\n",
    "\n",
    "plt.title(\"Histogram\")\n",
    "plt.xlabel(\"Number of prescriptions\")\n",
    "plt.ylabel(\"Number of practices prescribing\")\n",
    "distribution_data.plot()"
   ]
  },
  {
   "cell_type": "code",
   "execution_count": null,
   "metadata": {
    "collapsed": true
   },
   "outputs": [],
   "source": []
  },
  {
   "cell_type": "code",
   "execution_count": null,
   "metadata": {
    "collapsed": true
   },
   "outputs": [],
   "source": []
  },
  {
   "cell_type": "code",
   "execution_count": null,
   "metadata": {
    "collapsed": true
   },
   "outputs": [],
   "source": []
  }
 ],
 "metadata": {
  "kernelspec": {
   "display_name": "Python 3",
   "language": "python",
   "name": "python3"
  },
  "language_info": {
   "codemirror_mode": {
    "name": "ipython",
    "version": 3
   },
   "file_extension": ".py",
   "mimetype": "text/x-python",
   "name": "python",
   "nbconvert_exporter": "python",
   "pygments_lexer": "ipython3",
   "version": "3.6.0"
  }
 },
 "nbformat": 4,
 "nbformat_minor": 2
}
